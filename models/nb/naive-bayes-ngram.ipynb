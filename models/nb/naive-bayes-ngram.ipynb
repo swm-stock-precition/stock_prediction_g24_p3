{
 "cells": [
  {
   "cell_type": "code",
   "execution_count": 11,
   "metadata": {
    "collapsed": true
   },
   "outputs": [],
   "source": [
    "from sklearn.naive_bayes import GaussianNB, MultinomialNB\n",
    "from sklearn.model_selection import  train_test_split\n",
    "import pandas as pd\n",
    "import numpy as np\n",
    "from sklearn.metrics import accuracy_score\n",
    "import json\n",
    "from sklearn.decomposition import PCA\n",
    "import os\n",
    "import pickle\n",
    "from sklearn.metrics import f1_score\n",
    "from tqdm import tqdm"
   ]
  },
  {
   "cell_type": "code",
   "execution_count": 12,
   "metadata": {
    "collapsed": false,
    "pycharm": {
     "name": "#%%\n"
    }
   },
   "outputs": [],
   "source": [
    "config = json.load(open(\"../../configure.json\"))\n",
    "amzn_2grams = []\n",
    "amzn_3grams = []\n",
    "amzn_ngrams = []\n",
    "aapl_2grams = []\n",
    "aapl_3grams = []\n",
    "aapl_ngrams = []"
   ]
  },
  {
   "cell_type": "code",
   "execution_count": 13,
   "metadata": {
    "collapsed": false,
    "pycharm": {
     "name": "#%%\n"
    }
   },
   "outputs": [
    {
     "name": "stderr",
     "output_type": "stream",
     "text": [
      "100%|██████████| 36/36 [03:37<00:00,  6.04s/it]\n"
     ]
    }
   ],
   "source": [
    "path = config[\"project_dir\"] + config[\"feature_pkls\"]\n",
    "pkls = os.listdir(path)\n",
    "results = []\n",
    "for pkl in tqdm(pkls):\n",
    "    data = pd.read_pickle(path + pkl, compression='infer')\n",
    "    train_x = np.stack(data['features'])\n",
    "    train_y = np.stack(data['trend'].astype('int'))\n",
    "    names = pkl.split(\"_\", )\n",
    "    pca = PCA(n_components=296)\n",
    "    pComponents = pca.fit_transform(train_x)\n",
    "    x_train, x_test, y_train, y_test = train_test_split(train_x, train_y, test_size=0.2)\n",
    "    nb = MultinomialNB().fit(x_train,y_train)\n",
    "    y_pred = nb.predict(x_test)\n",
    "    acc = accuracy_score(y_test, y_pred)\n",
    "    f1 = f1_score(y_test, y_pred)\n",
    "    pkl_save_path = config['project_dir'] + \"models/nb/pkls/ngram/\"\n",
    "    model_name = \"nb_\" + pkl\n",
    "    with open(pkl_save_path + model_name, 'wb') as f:\n",
    "        pickle.dump(nb, f)\n",
    "    company = \"amazon\" if names[0] == \"amzn\" else \"apple\"\n",
    "    result = [names[1], round(np.mean(acc) * 100, 2), round(np.mean(f1) * 100, 2)]\n",
    "    if \"amzn\" == names[0]:\n",
    "        if \"2\" in names[2]:\n",
    "            amzn_2grams.append(result)\n",
    "        if \"3\" in names[2]:\n",
    "            amzn_3grams.append(result)\n",
    "        if \"n\" in names[2]:\n",
    "            amzn_ngrams.append(result)\n",
    "    if \"aapl\" == names[0]:\n",
    "        if \"2\" in names[2]:\n",
    "            aapl_2grams.append(result)\n",
    "        if \"3\" in names[2]:\n",
    "            aapl_3grams.append(result)\n",
    "        if \"n\" in names[2]:\n",
    "            aapl_ngrams.append(result)"
   ]
  },
  {
   "cell_type": "code",
   "execution_count": 14,
   "metadata": {
    "collapsed": false,
    "pycharm": {
     "name": "#%%\n"
    }
   },
   "outputs": [
    {
     "name": "stdout",
     "output_type": "stream",
     "text": [
      "amazon 2grams results\n",
      " [['30', 62.41, 41.1], ['60', 61.0, 45.91], ['240', 57.92, 39.03], ['5', 64.52, 32.27], ['1440', 62.68, 45.36], ['15', 61.53, 52.24]]\n",
      "amazon 3grams results\n",
      " [['60', 61.27, 36.42], ['30', 57.92, 28.23], ['240', 58.36, 54.82], ['15', 54.84, 24.67], ['1440', 58.27, 37.96], ['5', 60.04, 35.69]]\n",
      "apple 2grams results\n",
      " [['15', 56.75, 56.24], ['30', 57.61, 52.94], ['60', 58.27, 54.13], ['240', 56.48, 53.22], ['1440', 59.26, 54.25], ['5', 58.97, 47.02]]\n",
      "apple 3grams results\n",
      " [['15', 53.37, 30.63], ['1440', 53.55, 43.52], ['240', 51.72, 54.86], ['60', 56.14, 34.3], ['30', 55.59, 38.79], ['5', 58.27, 28.79]]\n",
      "amazon n grams results\n",
      " [['15', 60.65, 53.68], ['5', 65.76, 35.7], ['1440', 58.19, 26.58], ['240', 58.71, 39.17], ['60', 59.07, 60.49], ['30', 61.44, 25.26]]\n",
      "apple n grams results\n",
      " [['5', 59.39, 47.88], ['240', 56.69, 53.42], ['60', 57.72, 59.59], ['1440', 60.49, 50.2], ['30', 58.45, 50.53], ['15', 53.42, 54.87]]\n"
     ]
    }
   ],
   "source": [
    "print(\"amazon 2grams results\\n\", amzn_2grams)\n",
    "print(\"amazon 3grams results\\n\", amzn_3grams)\n",
    "print(\"apple 2grams results\\n\", aapl_2grams)\n",
    "print(\"apple 3grams results\\n\", aapl_3grams)\n",
    "print(\"amazon n grams results\\n\", amzn_ngrams)\n",
    "print(\"apple n grams results\\n\", aapl_ngrams)\n"
   ]
  }
 ],
 "metadata": {
  "kernelspec": {
   "display_name": "Python 3",
   "language": "python",
   "name": "python3"
  },
  "language_info": {
   "codemirror_mode": {
    "name": "ipython",
    "version": 3
   },
   "file_extension": ".py",
   "mimetype": "text/x-python",
   "name": "python",
   "nbconvert_exporter": "python",
   "pygments_lexer": "ipython3",
   "version": "3.9.10"
  }
 },
 "nbformat": 4,
 "nbformat_minor": 0
}