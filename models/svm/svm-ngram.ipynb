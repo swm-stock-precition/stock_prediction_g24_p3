{
 "cells": [
  {
   "cell_type": "code",
   "execution_count": 4,
   "metadata": {
    "collapsed": false,
    "pycharm": {
     "name": "#%%\n"
    }
   },
   "outputs": [],
   "source": [
    "import pandas as pd\n",
    "from sklearn import svm\n",
    "from sklearn.model_selection import train_test_split\n",
    "from sklearn.decomposition import PCA\n",
    "from sklearn.metrics import accuracy_score\n",
    "import numpy as np\n",
    "import os\n",
    "import json\n",
    "import pickle\n",
    "from tqdm import tqdm\n",
    "from sklearn.metrics import f1_score"
   ]
  },
  {
   "cell_type": "code",
   "execution_count": 5,
   "metadata": {
    "collapsed": false,
    "pycharm": {
     "name": "#%%\n"
    }
   },
   "outputs": [],
   "source": [
    "config = json.load(open(\"../../configure.json\"))\n",
    "amzn_2grams = []\n",
    "amzn_3grams = []\n",
    "amzn_ngrams = []\n",
    "aapl_2grams = []\n",
    "aapl_3grams = []\n",
    "aapl_ngrams = []"
   ]
  },
  {
   "cell_type": "code",
   "execution_count": 6,
   "metadata": {
    "collapsed": false,
    "pycharm": {
     "name": "#%%\n"
    }
   },
   "outputs": [
    {
     "name": "stderr",
     "output_type": "stream",
     "text": [
      "100%|██████████| 36/36 [1:39:17<00:00, 165.48s/it]  \n"
     ]
    }
   ],
   "source": [
    "path = config[\"project_dir\"] + config[\"feature_pkls\"]\n",
    "pkls = os.listdir(path)\n",
    "results = []\n",
    "for pkl in tqdm(pkls):\n",
    "    data = pd.read_pickle(path + pkl, compression='infer')\n",
    "    train_x = np.stack(data['features'])\n",
    "    train_y = np.stack(data['trend'].astype('int'))\n",
    "\n",
    "    pca = PCA(n_components=200)\n",
    "    pComponents = pca.fit_transform(train_x)\n",
    "    x_train, x_test, y_train, y_test = train_test_split(train_x, train_y, test_size=0.2)\n",
    "    svm_model = svm.SVC().fit(x_train, y_train)\n",
    "    y_pred = svm_model.predict(x_test)\n",
    "    acc = accuracy_score(y_test, y_pred)\n",
    "    f1 = f1_score(y_test, y_pred)\n",
    "    names = pkl.split(\"_\", )\n",
    "    pkl_save_path = config['project_dir'] + \"models/svm/pkls/ngram/\"\n",
    "    model_name = \"svm_\" + pkl\n",
    "    with open(pkl_save_path + model_name, 'wb') as f:\n",
    "        pickle.dump(svm_model, f)\n",
    "    results = [names[1], round(np.mean(acc) * 100, 2), round(np.mean(f1) * 100, 2)]\n",
    "    if \"amzn\" == names[0]:\n",
    "        if \"2gram\" in names[2]:\n",
    "            amzn_2grams.append(results)\n",
    "        if \"3\" in names[2]:\n",
    "            amzn_3grams.append(results)\n",
    "        if \"n\" in names[2]:\n",
    "            amzn_ngrams.append(results)\n",
    "    if \"aapl\" == names[0]:\n",
    "        if \"2gram\" in names[2]:\n",
    "            aapl_2grams.append(results)\n",
    "        if \"3\" in names[2]:\n",
    "            aapl_3grams.append(results)\n",
    "        if \"n\" in names[2]:\n",
    "            aapl_ngrams.append(results)"
   ]
  },
  {
   "cell_type": "code",
   "execution_count": 7,
   "metadata": {
    "collapsed": false,
    "pycharm": {
     "name": "#%%\n"
    }
   },
   "outputs": [
    {
     "name": "stdout",
     "output_type": "stream",
     "text": [
      "amazon 2grams results\n",
      " [['30', 59.86, 23.23], ['60', 64.61, 22.69], ['240', 58.89, 68.59], ['5', 65.93, 21.82], ['1440', 58.19, 31.65], ['15', 56.95, 16.12]]\n",
      "amazon 3grams results\n",
      " [['60', 59.77, 9.15], ['30', 58.27, 11.24], ['240', 54.75, 69.07], ['15', 56.34, 10.14], ['1440', 56.6, 22.36], ['5', 61.36, 7.58]]\n",
      "amazon ngrams results\n",
      " [['15', 58.63, 31.09], ['5', 64.52, 19.24], ['1440', 61.8, 45.75], ['240', 62.06, 68.29], ['60', 60.56, 22.49], ['30', 61.36, 33.79]]\n",
      "apple 2grams results\n",
      " [['15', 60.75, 41.94], ['30', 62.46, 43.29], ['60', 64.16, 35.83], ['240', 63.32, 65.4], ['1440', 64.27, 56.51], ['5', 64.68, 26.58]]\n",
      "apple 3grams results\n",
      " [['15', 58.19, 29.82], ['1440', 59.34, 42.52], ['240', 57.85, 64.61], ['60', 61.12, 26.9], ['30', 60.52, 35.18], ['5', 63.64, 22.37]]\n",
      "apple ngrams results\n",
      " [['5', 65.52, 26.48], ['240', 61.91, 65.76], ['60', 63.3, 36.75], ['1440', 63.64, 55.25], ['30', 61.38, 41.97], ['15', 62.25, 43.38]]\n"
     ]
    }
   ],
   "source": [
    "print(\"amazon 2grams results\\n\", amzn_2grams)\n",
    "print(\"amazon 3grams results\\n\", amzn_3grams)\n",
    "print(\"amazon ngrams results\\n\", amzn_ngrams)\n",
    "print(\"apple 2grams results\\n\", aapl_2grams)\n",
    "print(\"apple 3grams results\\n\", aapl_3grams)\n",
    "print(\"apple ngrams results\\n\", aapl_ngrams)"
   ]
  }
 ],
 "metadata": {
  "interpreter": {
   "hash": "dba153492da71b72ca386bda186463b4e0de85910fcb623493b512d22b510972"
  },
  "kernelspec": {
   "display_name": "PyCharm (Stock_prediction_G24_P3)",
   "language": "python",
   "name": "python3"
  },
  "language_info": {
   "codemirror_mode": {
    "name": "ipython",
    "version": 3
   },
   "file_extension": ".py",
   "mimetype": "text/x-python",
   "name": "python",
   "nbconvert_exporter": "python",
   "pygments_lexer": "ipython3",
   "version": "3.9.10"
  }
 },
 "nbformat": 4,
 "nbformat_minor": 0
}