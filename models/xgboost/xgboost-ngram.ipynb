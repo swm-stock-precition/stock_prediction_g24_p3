{
 "cells": [
  {
   "cell_type": "code",
   "execution_count": 7,
   "metadata": {
    "collapsed": true
   },
   "outputs": [],
   "source": [
    "import xgboost as xgb\n",
    "import pandas as pd\n",
    "import numpy as np\n",
    "from sklearn.metrics import accuracy_score\n",
    "from sklearn.model_selection import train_test_split\n",
    "from sklearn.decomposition import PCA\n",
    "import os\n",
    "import json\n",
    "from tqdm import tqdm\n",
    "import pickle\n",
    "from sklearn.metrics import f1_score"
   ]
  },
  {
   "cell_type": "code",
   "execution_count": 8,
   "metadata": {
    "collapsed": false,
    "pycharm": {
     "name": "#%%\n"
    }
   },
   "outputs": [
    {
     "name": "stderr",
     "output_type": "stream",
     "text": [
      "  0%|          | 0/36 [00:02<?, ?it/s]\n"
     ]
    },
    {
     "ename": "ValueError",
     "evalue": "Invalid classes inferred from unique values of `y`.  Expected: [0 1], got [-1  1]",
     "output_type": "error",
     "traceback": [
      "\u001B[0;31m---------------------------------------------------------------------------\u001B[0m",
      "\u001B[0;31mValueError\u001B[0m                                Traceback (most recent call last)",
      "\u001B[0;32m/var/folders/p2/k76tzsj51ks1xgbf5_r8_3bw0000gn/T/ipykernel_33099/422133841.py\u001B[0m in \u001B[0;36m<cell line: 11>\u001B[0;34m()\u001B[0m\n\u001B[1;32m     18\u001B[0m     \u001B[0mx_train\u001B[0m\u001B[0;34m,\u001B[0m \u001B[0mx_test\u001B[0m\u001B[0;34m,\u001B[0m \u001B[0my_train\u001B[0m\u001B[0;34m,\u001B[0m \u001B[0my_test\u001B[0m \u001B[0;34m=\u001B[0m \u001B[0mtrain_test_split\u001B[0m\u001B[0;34m(\u001B[0m\u001B[0mtrain_x\u001B[0m\u001B[0;34m,\u001B[0m \u001B[0mtrain_y\u001B[0m\u001B[0;34m,\u001B[0m \u001B[0mtest_size\u001B[0m\u001B[0;34m=\u001B[0m\u001B[0;36m0.2\u001B[0m\u001B[0;34m)\u001B[0m\u001B[0;34m\u001B[0m\u001B[0;34m\u001B[0m\u001B[0m\n\u001B[1;32m     19\u001B[0m     \u001B[0mxgb_model\u001B[0m \u001B[0;34m=\u001B[0m \u001B[0mxgb\u001B[0m\u001B[0;34m.\u001B[0m\u001B[0mXGBClassifier\u001B[0m\u001B[0;34m(\u001B[0m\u001B[0mobjective\u001B[0m\u001B[0;34m=\u001B[0m\u001B[0;34m\"binary:logistic\"\u001B[0m\u001B[0;34m,\u001B[0m \u001B[0mrandom_state\u001B[0m\u001B[0;34m=\u001B[0m\u001B[0;36m42\u001B[0m\u001B[0;34m)\u001B[0m\u001B[0;34m\u001B[0m\u001B[0;34m\u001B[0m\u001B[0m\n\u001B[0;32m---> 20\u001B[0;31m     \u001B[0mxgb_model\u001B[0m\u001B[0;34m.\u001B[0m\u001B[0mfit\u001B[0m\u001B[0;34m(\u001B[0m\u001B[0mx_train\u001B[0m\u001B[0;34m,\u001B[0m \u001B[0my_train\u001B[0m\u001B[0;34m)\u001B[0m\u001B[0;34m\u001B[0m\u001B[0;34m\u001B[0m\u001B[0m\n\u001B[0m\u001B[1;32m     21\u001B[0m     \u001B[0my_pred\u001B[0m \u001B[0;34m=\u001B[0m \u001B[0mxgb_model\u001B[0m\u001B[0;34m.\u001B[0m\u001B[0mpredict\u001B[0m\u001B[0;34m(\u001B[0m\u001B[0mx_test\u001B[0m\u001B[0;34m)\u001B[0m\u001B[0;34m\u001B[0m\u001B[0;34m\u001B[0m\u001B[0m\n\u001B[1;32m     22\u001B[0m     \u001B[0macc\u001B[0m \u001B[0;34m=\u001B[0m \u001B[0maccuracy_score\u001B[0m\u001B[0;34m(\u001B[0m\u001B[0my_test\u001B[0m\u001B[0;34m,\u001B[0m \u001B[0my_pred\u001B[0m\u001B[0;34m)\u001B[0m\u001B[0;34m\u001B[0m\u001B[0;34m\u001B[0m\u001B[0m\n",
      "\u001B[0;32m~/miniforge3/envs/pytorch_m2/lib/python3.9/site-packages/xgboost/core.py\u001B[0m in \u001B[0;36minner_f\u001B[0;34m(*args, **kwargs)\u001B[0m\n\u001B[1;32m    530\u001B[0m         \u001B[0;32mfor\u001B[0m \u001B[0mk\u001B[0m\u001B[0;34m,\u001B[0m \u001B[0marg\u001B[0m \u001B[0;32min\u001B[0m \u001B[0mzip\u001B[0m\u001B[0;34m(\u001B[0m\u001B[0msig\u001B[0m\u001B[0;34m.\u001B[0m\u001B[0mparameters\u001B[0m\u001B[0;34m,\u001B[0m \u001B[0margs\u001B[0m\u001B[0;34m)\u001B[0m\u001B[0;34m:\u001B[0m\u001B[0;34m\u001B[0m\u001B[0;34m\u001B[0m\u001B[0m\n\u001B[1;32m    531\u001B[0m             \u001B[0mkwargs\u001B[0m\u001B[0;34m[\u001B[0m\u001B[0mk\u001B[0m\u001B[0;34m]\u001B[0m \u001B[0;34m=\u001B[0m \u001B[0marg\u001B[0m\u001B[0;34m\u001B[0m\u001B[0;34m\u001B[0m\u001B[0m\n\u001B[0;32m--> 532\u001B[0;31m         \u001B[0;32mreturn\u001B[0m \u001B[0mf\u001B[0m\u001B[0;34m(\u001B[0m\u001B[0;34m**\u001B[0m\u001B[0mkwargs\u001B[0m\u001B[0;34m)\u001B[0m\u001B[0;34m\u001B[0m\u001B[0;34m\u001B[0m\u001B[0m\n\u001B[0m\u001B[1;32m    533\u001B[0m \u001B[0;34m\u001B[0m\u001B[0m\n\u001B[1;32m    534\u001B[0m     \u001B[0;32mreturn\u001B[0m \u001B[0minner_f\u001B[0m\u001B[0;34m\u001B[0m\u001B[0;34m\u001B[0m\u001B[0m\n",
      "\u001B[0;32m~/miniforge3/envs/pytorch_m2/lib/python3.9/site-packages/xgboost/sklearn.py\u001B[0m in \u001B[0;36mfit\u001B[0;34m(self, X, y, sample_weight, base_margin, eval_set, eval_metric, early_stopping_rounds, verbose, xgb_model, sample_weight_eval_set, base_margin_eval_set, feature_weights, callbacks)\u001B[0m\n\u001B[1;32m   1355\u001B[0m             \u001B[0;32mor\u001B[0m \u001B[0;32mnot\u001B[0m \u001B[0;34m(\u001B[0m\u001B[0mself\u001B[0m\u001B[0;34m.\u001B[0m\u001B[0mclasses_\u001B[0m \u001B[0;34m==\u001B[0m \u001B[0mexpected_classes\u001B[0m\u001B[0;34m)\u001B[0m\u001B[0;34m.\u001B[0m\u001B[0mall\u001B[0m\u001B[0;34m(\u001B[0m\u001B[0;34m)\u001B[0m\u001B[0;34m\u001B[0m\u001B[0;34m\u001B[0m\u001B[0m\n\u001B[1;32m   1356\u001B[0m         ):\n\u001B[0;32m-> 1357\u001B[0;31m             raise ValueError(\n\u001B[0m\u001B[1;32m   1358\u001B[0m                 \u001B[0;34mf\"Invalid classes inferred from unique values of `y`.  \"\u001B[0m\u001B[0;34m\u001B[0m\u001B[0;34m\u001B[0m\u001B[0m\n\u001B[1;32m   1359\u001B[0m                 \u001B[0;34mf\"Expected: {expected_classes}, got {self.classes_}\"\u001B[0m\u001B[0;34m\u001B[0m\u001B[0;34m\u001B[0m\u001B[0m\n",
      "\u001B[0;31mValueError\u001B[0m: Invalid classes inferred from unique values of `y`.  Expected: [0 1], got [-1  1]"
     ]
    }
   ],
   "source": [
    "amzn_2grams = []\n",
    "amzn_3grams = []\n",
    "amzn_ngrams = []\n",
    "aapl_2grams = []\n",
    "aapl_3grams = []\n",
    "aapl_ngrams = []\n",
    "config = json.load(open(\"../../configure.json\"))\n",
    "path = config[\"project_dir\"] + config[\"feature_pkls\"]\n",
    "pkls = os.listdir(path)\n",
    "results = []\n",
    "for pkl in tqdm(pkls):\n",
    "    data = pd.read_pickle(path + pkl, compression='infer')\n",
    "    train_x = np.stack(data['features'])\n",
    "    train_y = np.stack(data['trend'].astype('int'))\n",
    "\n",
    "    pca = PCA(n_components=200)\n",
    "    pComponents = pca.fit_transform(train_x)\n",
    "    x_train, x_test, y_train, y_test = train_test_split(train_x, train_y, test_size=0.2)\n",
    "    xgb_model = xgb.XGBClassifier(objective=\"binary:logistic\", random_state=42)\n",
    "    xgb_model.fit(x_train, y_train)\n",
    "    y_pred = xgb_model.predict(x_test)\n",
    "    acc = accuracy_score(y_test, y_pred)\n",
    "    f1 = f1_score(y_test, y_pred)\n",
    "    names = pkl.split(\"_\", )\n",
    "    pkl_save_path = config['project_dir'] + \"models/xgboost/pkls/ngram/\"\n",
    "    model_name = \"xg_\" + pkl\n",
    "    with open(pkl_save_path + model_name, 'wb') as f:\n",
    "        pickle.dump(xgb_model, f)\n",
    "    result = [names[1], round(acc * 100, 2), round(f1 * 100, 2)]\n",
    "    if \"amzn\" == names[0]:\n",
    "        if \"2\" in names[2]:\n",
    "            amzn_2grams.append(result)\n",
    "        if \"3\" in names[2]:\n",
    "            amzn_3grams.append(result)\n",
    "        if \"n\" in names[2]:\n",
    "            amzn_ngrams.append(result)\n",
    "    if \"aapl\" == names[0]:\n",
    "        if \"2\" in names[2]:\n",
    "            aapl_2grams.append(result)\n",
    "        if \"3\" in names[2]:\n",
    "            aapl_3grams.append(result)\n",
    "        if \"n\" in names[2]:\n",
    "            aapl_ngrams.append(result)"
   ]
  },
  {
   "cell_type": "code",
   "execution_count": null,
   "metadata": {
    "collapsed": false,
    "pycharm": {
     "name": "#%%\n"
    }
   },
   "outputs": [
    {
     "name": "stdout",
     "output_type": "stream",
     "text": [
      "amazon 2grams results\n",
      " [['30', '0.698063'], ['60', '0.713028'], ['240', '0.675176'], ['5', '0.700704'], ['1440', '0.699824'], ['15', '0.691021']]\n",
      "amazon 3grams results\n",
      " [['60', '0.637324'], ['30', '0.620599'], ['240', '0.638204'], ['15', '0.635563'], ['1440', '0.610915'], ['5', '0.630282']]\n",
      "apple 2grams results\n",
      " [['15', '0.635578'], ['30', '0.653393'], ['60', '0.661514'], ['240', '0.649201'], ['1440', '0.667540'], ['5', '0.663348']]\n",
      "apple 3grams results\n",
      " [['15', '0.592350'], ['1440', '0.598900'], ['240', '0.594184'], ['60', '0.634530'], ['30', '0.606497'], ['5', '0.623788']]\n"
     ]
    }
   ],
   "source": [
    "print(\"amazon 2grams results\\n\", amzn_2grams)\n",
    "print(\"amazon 3grams results\\n\", amzn_3grams)\n",
    "print(\"apple 2grams results\\n\", aapl_2grams)\n",
    "print(\"apple 3grams results\\n\", aapl_3grams)"
   ]
  }
 ],
 "metadata": {
  "kernelspec": {
   "display_name": "Python 3",
   "language": "python",
   "name": "python3"
  },
  "language_info": {
   "codemirror_mode": {
    "name": "ipython",
    "version": 3
   },
   "file_extension": ".py",
   "mimetype": "text/x-python",
   "name": "python",
   "nbconvert_exporter": "python",
   "pygments_lexer": "ipython3",
   "version": "3.9.10"
  }
 },
 "nbformat": 4,
 "nbformat_minor": 0
}