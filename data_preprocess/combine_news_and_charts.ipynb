{
 "cells": [
  {
   "cell_type": "code",
   "execution_count": 54,
   "metadata": {
    "collapsed": true
   },
   "outputs": [],
   "source": [
    "from datetime import datetime\n",
    "import pandas as pd\n",
    "from datetime import timezone\n",
    "import pickle"
   ]
  },
  {
   "cell_type": "code",
   "execution_count": 55,
   "metadata": {},
   "outputs": [],
   "source": [
    "amazon_news = pd.read_pickle(\"pkls/news_data/amazon_news_data.pkl\", compression='infer')\n",
    "apple_news = pd.read_pickle(\"pkls/news_data/apple_news_data.pkl\", compression='infer')\n",
    "amazon = \"amzn\"\n",
    "apple = \"aapl\""
   ]
  },
  {
   "cell_type": "code",
   "execution_count": 56,
   "metadata": {
    "collapsed": false,
    "pycharm": {
     "name": "#%%\n"
    }
   },
   "outputs": [],
   "source": [
    "import json\n",
    "config = json.load(open(\"../configure.json\"))\n",
    "pkls_dir = config['pkls_dir']\n",
    "start_date = datetime.fromisoformat(config['start_time']).astimezone(tz=timezone.utc).replace(tzinfo=None).timestamp()\n",
    "end_date = datetime.fromisoformat(config['end_time']).astimezone(tz=timezone.utc).replace(tzinfo=None).timestamp()\n",
    "chart_pkls_dir = config['chart_pkls']"
   ]
  },
  {
   "cell_type": "code",
   "execution_count": 57,
   "metadata": {
    "collapsed": false,
    "pycharm": {
     "name": "#%%\n"
    }
   },
   "outputs": [],
   "source": [
    "import datetime\n",
    "\n",
    "index = 0\n",
    "row = []\n",
    "minutes = 1440\n",
    "\n",
    "form = \"%d-%m-%Y %H:%M\"\n",
    "length_of_time_windows = [5, 15, 30, 60, 240, 1440]\n",
    "full_data_pkls_path = config['full_data_pkls']\n",
    "\n",
    "\n",
    "def get_time_to_trend(chart, time_interval):\n",
    "    time_map = {}\n",
    "    if time_interval == 1440:\n",
    "        for chart_index, chart_row in chart.iterrows():\n",
    "            day = datetime.datetime.utcfromtimestamp(chart_row['timestamp'])\n",
    "            day = (day - datetime.timedelta(hours=day.hour, minutes=day.minute, seconds=day.second,\n",
    "                                            microseconds=day.microsecond))\n",
    "            timestamp = day.strftime(form)\n",
    "            time_map[timestamp] = chart_row['trends']\n",
    "    else:\n",
    "        for chart_index, chart_row in chart.iterrows():\n",
    "            timestamp = datetime.datetime.utcfromtimestamp(chart_row['timestamp']).strftime(form)\n",
    "            time_map[timestamp] = chart_row['trends']\n",
    "    return time_map\n",
    "\n",
    "\n",
    "def handle_compare(time_window, day, time_to_trend):\n",
    "    if time_window == 1440:\n",
    "        day = (day - datetime.timedelta(hours=day.hour, minutes=day.minute, seconds=day.second,\n",
    "                                        microseconds=day.microsecond))\n",
    "        time_stamp = day.strftime(form)\n",
    "        while time_stamp not in time_to_trend:\n",
    "            day += datetime.timedelta(minutes=time_window)\n",
    "            time_stamp = day.strftime(form)\n",
    "        return time_stamp\n",
    "    if time_window == 240:\n",
    "        day = (day - datetime.timedelta(seconds=day.second,\n",
    "                                        microseconds=day.microsecond))\n",
    "        time_stamp = day.strftime(form)\n",
    "        if day.minute > 30:\n",
    "            day = day - datetime.timedelta(minutes=day.minute) + datetime.timedelta(minutes=30)\n",
    "        if day.minute < 30:\n",
    "            day = day - datetime.timedelta(minutes=day.minute) - datetime.timedelta(minutes=30)\n",
    "        for i in range(0, 3):\n",
    "            day -= datetime.timedelta(minutes=60)\n",
    "            time_stamp = day.strftime(form)\n",
    "            if time_stamp in time_to_trend:\n",
    "                return time_stamp\n",
    "        while time_stamp not in time_to_trend:\n",
    "            day += datetime.timedelta(minutes=60)\n",
    "            time_stamp = day.strftime(form)\n",
    "        return time_stamp\n",
    "    if time_window == 60:\n",
    "        day = (day - datetime.timedelta(seconds=day.second,\n",
    "                                        microseconds=day.microsecond))\n",
    "        time_stamp = day.strftime(form)\n",
    "        if day.minute > 30:\n",
    "            day = day - datetime.timedelta(minutes=day.minute) + datetime.timedelta(minutes=30)\n",
    "        if day.minute < 30:\n",
    "            day = day - datetime.timedelta(minutes=day.minute) - datetime.timedelta(minutes=30)\n",
    "        while time_stamp not in time_to_trend:\n",
    "            day += datetime.timedelta(minutes=60)\n",
    "            time_stamp = day.strftime(form)\n",
    "        return time_stamp\n",
    "    if time_window == 30:\n",
    "        day = (day - datetime.timedelta(seconds=day.second,\n",
    "                                        microseconds=day.microsecond))\n",
    "        time_stamp = day.strftime(form)\n",
    "        if day.minute > 30:\n",
    "            day = day - datetime.timedelta(minutes=day.minute) + datetime.timedelta(minutes=30)\n",
    "        if day.minute < 30:\n",
    "            day = day - datetime.timedelta(minutes=day.minute)\n",
    "        while time_stamp not in time_to_trend:\n",
    "            day += datetime.timedelta(minutes=30)\n",
    "            time_stamp = day.strftime(form)\n",
    "        return time_stamp\n",
    "    if time_window == 15:\n",
    "        day = (day - datetime.timedelta(seconds=day.second,\n",
    "                                        microseconds=day.microsecond))\n",
    "        time_stamp = day.strftime(form)\n",
    "        mins = day.minute\n",
    "        div = mins // 15\n",
    "        day = day - datetime.timedelta(minutes=day.minute) + datetime.timedelta(minutes=15 * div)\n",
    "        while time_stamp not in time_to_trend:\n",
    "            day += datetime.timedelta(minutes=15)\n",
    "            time_stamp = day.strftime(form)\n",
    "        return time_stamp\n",
    "    if time_window == 5:\n",
    "        day = (day - datetime.timedelta(seconds=day.second,\n",
    "                                        microseconds=day.microsecond))\n",
    "        time_stamp = day.strftime(form)\n",
    "        mins = day.minute\n",
    "        div = mins // 5\n",
    "        day = day - datetime.timedelta(minutes=day.minute) + datetime.timedelta(minutes=5 * div)\n",
    "        while time_stamp not in time_to_trend:\n",
    "            day += datetime.timedelta(minutes=5)\n",
    "            time_stamp = day.strftime(form)\n",
    "        return time_stamp\n",
    "\n",
    "\n",
    "def get_full_data(news_data, company):\n",
    "    for time_window in length_of_time_windows:\n",
    "        if company == amazon:\n",
    "            chart = pd.read_pickle(chart_pkls_dir + \"amazon_stock_chart\" + str(time_window) + \".pkl\")\n",
    "        else:\n",
    "            chart = pd.read_pickle(chart_pkls_dir + \"apple_stock_chart\" + str(time_window) + \".pkl\")\n",
    "        time_to_trend = get_time_to_trend(chart, time_window)\n",
    "        news = news_data.copy(deep=True)\n",
    "        trends = []\n",
    "        try:\n",
    "            for index, row in news.iterrows():\n",
    "                day = datetime.datetime.utcfromtimestamp(row['published_time'])\n",
    "                timestamp = handle_compare(time_window, day, time_to_trend)\n",
    "                trends.append(int(time_to_trend[timestamp]))\n",
    "        except Exception as e:\n",
    "            print(e)\n",
    "            print(\"it fails\")\n",
    "            print(row, index)\n",
    "        news['trend'] = trends\n",
    "        news.drop(\"time_frames\", axis=1, inplace=True)\n",
    "        news.drop(\"published_time\", axis=1, inplace=True)\n",
    "        if company == amazon:\n",
    "            with open(full_data_pkls_path + 'amazon_full_data' + str(time_window) + '.pkl', 'wb') as f:\n",
    "                pickle.dump(news, f)\n",
    "        if company == apple:\n",
    "            with open(full_data_pkls_path + 'apple_full_data' + str(time_window) + '.pkl', 'wb') as f:\n",
    "                pickle.dump(news, f)\n",
    "\n",
    "\n",
    "get_full_data(amazon_news, amazon)\n",
    "get_full_data(apple_news, apple)"
   ]
  },
  {
   "cell_type": "code",
   "execution_count": null,
   "metadata": {
    "collapsed": false,
    "pycharm": {
     "name": "#%%\n"
    }
   },
   "outputs": [],
   "source": []
  }
 ],
 "metadata": {
  "interpreter": {
   "hash": "dba153492da71b72ca386bda186463b4e0de85910fcb623493b512d22b510972"
  },
  "kernelspec": {
   "display_name": "PyCharm (Stock_prediction_G24_P3)",
   "language": "python",
   "name": "pycharm-9e7c138f"
  },
  "language_info": {
   "codemirror_mode": {
    "name": "ipython",
    "version": 3
   },
   "file_extension": ".py",
   "mimetype": "text/x-python",
   "name": "python",
   "nbconvert_exporter": "python",
   "pygments_lexer": "ipython3",
   "version": "3.9.10"
  }
 },
 "nbformat": 4,
 "nbformat_minor": 0
}