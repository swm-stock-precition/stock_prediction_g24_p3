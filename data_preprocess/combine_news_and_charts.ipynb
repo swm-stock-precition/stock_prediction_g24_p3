{
 "cells": [
  {
   "cell_type": "code",
   "execution_count": null,
   "metadata": {
    "collapsed": true
   },
   "outputs": [],
   "source": [
    "from datetime import datetime\n",
    "import pandas as pd\n",
    "from datetime import timezone"
   ]
  },
  {
   "cell_type": "code",
   "execution_count": null,
   "outputs": [],
   "source": [
    "start_date = datetime.fromisoformat(\"2018-01-01 00:00\").astimezone(tz=timezone.utc).replace(tzinfo=None).timestamp()\n",
    "end_date = datetime.fromisoformat(\"2018-12-31 23:59\").astimezone(tz=timezone.utc).replace(tzinfo=None).timestamp()"
   ],
   "metadata": {
    "collapsed": false,
    "pycharm": {
     "name": "#%%\n"
    }
   }
  },
  {
   "cell_type": "code",
   "execution_count": null,
   "outputs": [],
   "source": [
    "apple_news = pd.read_pickle(\"pkls/apple_news_data.pkl\", compression='infer')\n",
    "amazon_news = pd.read_pickle(\"pkls/amazon_news_data.pkl\", compression='infer')\n",
    "apple_chart = pd.read_pickle(\"pkls/apple_stock_chart.pkl\", compression='infer')\n",
    "amazon_chart = pd.read_pickle(\"pkls/apple_stock_chart.pkl\", compression='infer')"
   ],
   "metadata": {
    "collapsed": false,
    "pycharm": {
     "name": "#%%\n"
    }
   }
  },
  {
   "cell_type": "code",
   "execution_count": 128,
   "outputs": [
    {
     "data": {
      "text/plain": "       published_time                                    article_content\n16174    1.514832e+09  facebook \\nciti analysts say that there is a 4...\n15612    1.514855e+09  quote: in this context avxl is a new apple, im...\n12200    1.514862e+09  2 warren buffett stocks to consider buying now...\n15928    1.514862e+09  2 warren buffett stocks to consider buying now...\n14085    1.514862e+09  2 warren buffett stocks to consider buying now...\n...               ...                                                ...\n56164    1.546321e+09  let's talk about apple, inc. (nasdaq: aapl ). ...\n61168    1.546322e+09  big trends: gartner iaas mq is down to 6 compa...\n41       1.546326e+09  - fundamental analysis - technology is apple s...\n60869    1.546332e+09  new york, oct. 23, 2018 (globe newswire) -- in...\n61440    1.546334e+09  merck (nyse: mrk ) and pfizer (nyse: pfe ) fin...\n\n[19084 rows x 2 columns]",
      "text/html": "<div>\n<style scoped>\n    .dataframe tbody tr th:only-of-type {\n        vertical-align: middle;\n    }\n\n    .dataframe tbody tr th {\n        vertical-align: top;\n    }\n\n    .dataframe thead th {\n        text-align: right;\n    }\n</style>\n<table border=\"1\" class=\"dataframe\">\n  <thead>\n    <tr style=\"text-align: right;\">\n      <th></th>\n      <th>published_time</th>\n      <th>article_content</th>\n    </tr>\n  </thead>\n  <tbody>\n    <tr>\n      <th>16174</th>\n      <td>1.514832e+09</td>\n      <td>facebook \\nciti analysts say that there is a 4...</td>\n    </tr>\n    <tr>\n      <th>15612</th>\n      <td>1.514855e+09</td>\n      <td>quote: in this context avxl is a new apple, im...</td>\n    </tr>\n    <tr>\n      <th>12200</th>\n      <td>1.514862e+09</td>\n      <td>2 warren buffett stocks to consider buying now...</td>\n    </tr>\n    <tr>\n      <th>15928</th>\n      <td>1.514862e+09</td>\n      <td>2 warren buffett stocks to consider buying now...</td>\n    </tr>\n    <tr>\n      <th>14085</th>\n      <td>1.514862e+09</td>\n      <td>2 warren buffett stocks to consider buying now...</td>\n    </tr>\n    <tr>\n      <th>...</th>\n      <td>...</td>\n      <td>...</td>\n    </tr>\n    <tr>\n      <th>56164</th>\n      <td>1.546321e+09</td>\n      <td>let's talk about apple, inc. (nasdaq: aapl ). ...</td>\n    </tr>\n    <tr>\n      <th>61168</th>\n      <td>1.546322e+09</td>\n      <td>big trends: gartner iaas mq is down to 6 compa...</td>\n    </tr>\n    <tr>\n      <th>41</th>\n      <td>1.546326e+09</td>\n      <td>- fundamental analysis - technology is apple s...</td>\n    </tr>\n    <tr>\n      <th>60869</th>\n      <td>1.546332e+09</td>\n      <td>new york, oct. 23, 2018 (globe newswire) -- in...</td>\n    </tr>\n    <tr>\n      <th>61440</th>\n      <td>1.546334e+09</td>\n      <td>merck (nyse: mrk ) and pfizer (nyse: pfe ) fin...</td>\n    </tr>\n  </tbody>\n</table>\n<p>19084 rows × 2 columns</p>\n</div>"
     },
     "execution_count": 128,
     "metadata": {},
     "output_type": "execute_result"
    }
   ],
   "source": [
    "apple_news"
   ],
   "metadata": {
    "collapsed": false,
    "pycharm": {
     "name": "#%%\n"
    }
   }
  },
  {
   "cell_type": "code",
   "execution_count": 129,
   "outputs": [
    {
     "data": {
      "text/plain": "       published_time                                    article_content\n12886    1.514876e+09  here are some things going on today in your wo...\n13571    1.514876e+09  shutterstock photo\\nstocks indexes opened the ...\n11837    1.514876e+09  by ryan vlastelica\\nto simply match the market...\n13804    1.514876e+09  what happened shares of many optical networkin...\n15737    1.514876e+09  by nigam arora\\nthe practical way to take adva...\n...               ...                                                ...\n1348     1.546281e+09  the biggest benefit from living are the lesson...\n2553     1.546290e+09  apple stock price\\napple (nasdaq: aapl ) was v...\n849      1.546306e+09  none of us has a crystal ball that shows us cl...\n56164    1.546321e+09  let's talk about apple, inc. (nasdaq: aapl ). ...\n61168    1.546322e+09  big trends: gartner iaas mq is down to 6 compa...\n\n[5677 rows x 2 columns]",
      "text/html": "<div>\n<style scoped>\n    .dataframe tbody tr th:only-of-type {\n        vertical-align: middle;\n    }\n\n    .dataframe tbody tr th {\n        vertical-align: top;\n    }\n\n    .dataframe thead th {\n        text-align: right;\n    }\n</style>\n<table border=\"1\" class=\"dataframe\">\n  <thead>\n    <tr style=\"text-align: right;\">\n      <th></th>\n      <th>published_time</th>\n      <th>article_content</th>\n    </tr>\n  </thead>\n  <tbody>\n    <tr>\n      <th>12886</th>\n      <td>1.514876e+09</td>\n      <td>here are some things going on today in your wo...</td>\n    </tr>\n    <tr>\n      <th>13571</th>\n      <td>1.514876e+09</td>\n      <td>shutterstock photo\\nstocks indexes opened the ...</td>\n    </tr>\n    <tr>\n      <th>11837</th>\n      <td>1.514876e+09</td>\n      <td>by ryan vlastelica\\nto simply match the market...</td>\n    </tr>\n    <tr>\n      <th>13804</th>\n      <td>1.514876e+09</td>\n      <td>what happened shares of many optical networkin...</td>\n    </tr>\n    <tr>\n      <th>15737</th>\n      <td>1.514876e+09</td>\n      <td>by nigam arora\\nthe practical way to take adva...</td>\n    </tr>\n    <tr>\n      <th>...</th>\n      <td>...</td>\n      <td>...</td>\n    </tr>\n    <tr>\n      <th>1348</th>\n      <td>1.546281e+09</td>\n      <td>the biggest benefit from living are the lesson...</td>\n    </tr>\n    <tr>\n      <th>2553</th>\n      <td>1.546290e+09</td>\n      <td>apple stock price\\napple (nasdaq: aapl ) was v...</td>\n    </tr>\n    <tr>\n      <th>849</th>\n      <td>1.546306e+09</td>\n      <td>none of us has a crystal ball that shows us cl...</td>\n    </tr>\n    <tr>\n      <th>56164</th>\n      <td>1.546321e+09</td>\n      <td>let's talk about apple, inc. (nasdaq: aapl ). ...</td>\n    </tr>\n    <tr>\n      <th>61168</th>\n      <td>1.546322e+09</td>\n      <td>big trends: gartner iaas mq is down to 6 compa...</td>\n    </tr>\n  </tbody>\n</table>\n<p>5677 rows × 2 columns</p>\n</div>"
     },
     "execution_count": 129,
     "metadata": {},
     "output_type": "execute_result"
    }
   ],
   "source": [
    "amazon_news"
   ],
   "metadata": {
    "collapsed": false,
    "pycharm": {
     "name": "#%%\n"
    }
   }
  },
  {
   "cell_type": "code",
   "execution_count": 131,
   "outputs": [],
   "source": [
    "apple_chart[\"articles\"] = [[] for i in range(len(apple_chart))]"
   ],
   "metadata": {
    "collapsed": false,
    "pycharm": {
     "name": "#%%\n"
    }
   }
  },
  {
   "cell_type": "code",
   "execution_count": 132,
   "outputs": [
    {
     "data": {
      "text/plain": "         timestamp  trends\n870   1.514876e+09       1\n871   1.514963e+09       0\n872   1.515049e+09       1\n873   1.515136e+09       1\n874   1.515395e+09       0\n...            ...     ...\n1116  1.545635e+09       0\n1117  1.545808e+09       1\n1118  1.545894e+09       1\n1119  1.545980e+09       0\n1120  1.546240e+09       1\n\n[251 rows x 2 columns]",
      "text/html": "<div>\n<style scoped>\n    .dataframe tbody tr th:only-of-type {\n        vertical-align: middle;\n    }\n\n    .dataframe tbody tr th {\n        vertical-align: top;\n    }\n\n    .dataframe thead th {\n        text-align: right;\n    }\n</style>\n<table border=\"1\" class=\"dataframe\">\n  <thead>\n    <tr style=\"text-align: right;\">\n      <th></th>\n      <th>timestamp</th>\n      <th>trends</th>\n    </tr>\n  </thead>\n  <tbody>\n    <tr>\n      <th>870</th>\n      <td>1.514876e+09</td>\n      <td>1</td>\n    </tr>\n    <tr>\n      <th>871</th>\n      <td>1.514963e+09</td>\n      <td>0</td>\n    </tr>\n    <tr>\n      <th>872</th>\n      <td>1.515049e+09</td>\n      <td>1</td>\n    </tr>\n    <tr>\n      <th>873</th>\n      <td>1.515136e+09</td>\n      <td>1</td>\n    </tr>\n    <tr>\n      <th>874</th>\n      <td>1.515395e+09</td>\n      <td>0</td>\n    </tr>\n    <tr>\n      <th>...</th>\n      <td>...</td>\n      <td>...</td>\n    </tr>\n    <tr>\n      <th>1116</th>\n      <td>1.545635e+09</td>\n      <td>0</td>\n    </tr>\n    <tr>\n      <th>1117</th>\n      <td>1.545808e+09</td>\n      <td>1</td>\n    </tr>\n    <tr>\n      <th>1118</th>\n      <td>1.545894e+09</td>\n      <td>1</td>\n    </tr>\n    <tr>\n      <th>1119</th>\n      <td>1.545980e+09</td>\n      <td>0</td>\n    </tr>\n    <tr>\n      <th>1120</th>\n      <td>1.546240e+09</td>\n      <td>1</td>\n    </tr>\n  </tbody>\n</table>\n<p>251 rows × 2 columns</p>\n</div>"
     },
     "execution_count": 132,
     "metadata": {},
     "output_type": "execute_result"
    }
   ],
   "source": [
    "amazon_chart"
   ],
   "metadata": {
    "collapsed": false,
    "pycharm": {
     "name": "#%%\n"
    }
   }
  },
  {
   "cell_type": "code",
   "execution_count": 133,
   "outputs": [],
   "source": [
    "index=0\n",
    "row=[]\n",
    "try:\n",
    "    for index, row in apple_chart.iterrows():\n",
    "        time = datetime.fromtimestamp(row['timestamp']).date()\n",
    "        articles=[]\n",
    "        for news_index,news_row in apple_news.iterrows():\n",
    "            if datetime.fromtimestamp(news_row['published_time']).date() > time:\n",
    "                break\n",
    "            if datetime.fromtimestamp(news_row['published_time']).date() == time:\n",
    "                articles.append(news_row['article_content'])\n",
    "        apple_chart.at[index, 'articles'] = articles\n",
    "except Exception as e:\n",
    "    print(e)\n",
    "    print(row,index)"
   ],
   "metadata": {
    "collapsed": false,
    "pycharm": {
     "name": "#%%\n"
    }
   }
  },
  {
   "cell_type": "code",
   "execution_count": 134,
   "outputs": [
    {
     "data": {
      "text/plain": "         timestamp  trends                                           articles\n870   1.514876e+09       1  [by ciara linnane, marketwatch\\nanalysts said ...\n871   1.514963e+09       0  [netflix ( nflx ) shares rocketed for the seco...\n872   1.515049e+09       1  [by nigam arora\\nnigam arora says computer pro...\n873   1.515136e+09       1  [shutterstock photo top tech stocks\\nmsft +1.1...\n874   1.515395e+09       0  [alphabet ( nasdaq:goog ) ( nasdaq:googl ) sub...\n...            ...     ...                                                ...\n1116  1.545635e+09       0  [by richard suttmeier updated dec 24, 2018\\nap...\n1117  1.545808e+09       1  [apple inc. (aapl) closed at $157.17, up $10.3...\n1118  1.545894e+09       1  [apple ( nasdaq:aapl ) surprised investors bac...\n1119  1.545980e+09       0  [by david goldman, cnn business\\ncapping a wee...\n1120  1.546240e+09       1  [in what has become something of a tradition, ...\n\n[251 rows x 3 columns]",
      "text/html": "<div>\n<style scoped>\n    .dataframe tbody tr th:only-of-type {\n        vertical-align: middle;\n    }\n\n    .dataframe tbody tr th {\n        vertical-align: top;\n    }\n\n    .dataframe thead th {\n        text-align: right;\n    }\n</style>\n<table border=\"1\" class=\"dataframe\">\n  <thead>\n    <tr style=\"text-align: right;\">\n      <th></th>\n      <th>timestamp</th>\n      <th>trends</th>\n      <th>articles</th>\n    </tr>\n  </thead>\n  <tbody>\n    <tr>\n      <th>870</th>\n      <td>1.514876e+09</td>\n      <td>1</td>\n      <td>[by ciara linnane, marketwatch\\nanalysts said ...</td>\n    </tr>\n    <tr>\n      <th>871</th>\n      <td>1.514963e+09</td>\n      <td>0</td>\n      <td>[netflix ( nflx ) shares rocketed for the seco...</td>\n    </tr>\n    <tr>\n      <th>872</th>\n      <td>1.515049e+09</td>\n      <td>1</td>\n      <td>[by nigam arora\\nnigam arora says computer pro...</td>\n    </tr>\n    <tr>\n      <th>873</th>\n      <td>1.515136e+09</td>\n      <td>1</td>\n      <td>[shutterstock photo top tech stocks\\nmsft +1.1...</td>\n    </tr>\n    <tr>\n      <th>874</th>\n      <td>1.515395e+09</td>\n      <td>0</td>\n      <td>[alphabet ( nasdaq:goog ) ( nasdaq:googl ) sub...</td>\n    </tr>\n    <tr>\n      <th>...</th>\n      <td>...</td>\n      <td>...</td>\n      <td>...</td>\n    </tr>\n    <tr>\n      <th>1116</th>\n      <td>1.545635e+09</td>\n      <td>0</td>\n      <td>[by richard suttmeier updated dec 24, 2018\\nap...</td>\n    </tr>\n    <tr>\n      <th>1117</th>\n      <td>1.545808e+09</td>\n      <td>1</td>\n      <td>[apple inc. (aapl) closed at $157.17, up $10.3...</td>\n    </tr>\n    <tr>\n      <th>1118</th>\n      <td>1.545894e+09</td>\n      <td>1</td>\n      <td>[apple ( nasdaq:aapl ) surprised investors bac...</td>\n    </tr>\n    <tr>\n      <th>1119</th>\n      <td>1.545980e+09</td>\n      <td>0</td>\n      <td>[by david goldman, cnn business\\ncapping a wee...</td>\n    </tr>\n    <tr>\n      <th>1120</th>\n      <td>1.546240e+09</td>\n      <td>1</td>\n      <td>[in what has become something of a tradition, ...</td>\n    </tr>\n  </tbody>\n</table>\n<p>251 rows × 3 columns</p>\n</div>"
     },
     "execution_count": 134,
     "metadata": {},
     "output_type": "execute_result"
    }
   ],
   "source": [
    "apple_chart"
   ],
   "metadata": {
    "collapsed": false,
    "pycharm": {
     "name": "#%%\n"
    }
   }
  },
  {
   "cell_type": "code",
   "execution_count": 143,
   "outputs": [
    {
     "data": {
      "text/plain": "123"
     },
     "execution_count": 143,
     "metadata": {},
     "output_type": "execute_result"
    }
   ],
   "source": [
    "len(apple_chart['articles'][873])"
   ],
   "metadata": {
    "collapsed": false,
    "pycharm": {
     "name": "#%%\n"
    }
   }
  },
  {
   "cell_type": "code",
   "execution_count": null,
   "outputs": [],
   "source": [],
   "metadata": {
    "collapsed": false,
    "pycharm": {
     "name": "#%%\n"
    }
   }
  }
 ],
 "metadata": {
  "kernelspec": {
   "name": "pycharm-9e7c138f",
   "language": "python",
   "display_name": "PyCharm (Stock_prediction_G24_P3)"
  },
  "language_info": {
   "codemirror_mode": {
    "name": "ipython",
    "version": 2
   },
   "file_extension": ".py",
   "mimetype": "text/x-python",
   "name": "python",
   "nbconvert_exporter": "python",
   "pygments_lexer": "ipython2",
   "version": "2.7.6"
  }
 },
 "nbformat": 4,
 "nbformat_minor": 0
}