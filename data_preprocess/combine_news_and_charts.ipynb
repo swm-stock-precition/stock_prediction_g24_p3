{
 "cells": [
  {
   "cell_type": "code",
   "execution_count": 65,
   "metadata": {
    "collapsed": true
   },
   "outputs": [],
   "source": [
    "from datetime import timedelta\n",
    "from datetime import datetime\n",
    "import pandas as pd\n",
    "from datetime import timezone\n",
    "import numpy as np"
   ]
  },
  {
   "cell_type": "code",
   "execution_count": 66,
   "outputs": [],
   "source": [
    "start_date = datetime.fromisoformat(\"2018-01-01 00:00\").astimezone(tz=timezone.utc).replace(tzinfo=None).timestamp()\n",
    "end_date = datetime.fromisoformat(\"2018-12-31 23:59\").astimezone(tz=timezone.utc).replace(tzinfo=None).timestamp()"
   ],
   "metadata": {
    "collapsed": false,
    "pycharm": {
     "name": "#%%\n"
    }
   }
  },
  {
   "cell_type": "code",
   "execution_count": 67,
   "outputs": [],
   "source": [
    "apple_news = pd.read_pickle(\"pkls/apple_news_data.pkl\", compression='infer')\n",
    "amazon_news = pd.read_pickle(\"pkls/amazon_news_data.pkl\", compression='infer')\n",
    "apple_chart = pd.read_pickle(\"pkls/apple_stock_chart.pkl\", compression='infer')\n",
    "amazon_chart = pd.read_pickle(\"pkls/apple_stock_chart.pkl\", compression='infer')"
   ],
   "metadata": {
    "collapsed": false,
    "pycharm": {
     "name": "#%%\n"
    }
   }
  },
  {
   "cell_type": "code",
   "execution_count": 68,
   "outputs": [
    {
     "data": {
      "text/plain": "       published_time                                    article_content  \\\n16174    1.514832e+09  facebook \\nciti analysts say that there is a 4...   \n15612    1.514855e+09  quote: in this context avxl is a new apple, im...   \n15928    1.514862e+09  2 warren buffett stocks to consider buying now...   \n12200    1.514862e+09  2 warren buffett stocks to consider buying now...   \n14085    1.514862e+09  2 warren buffett stocks to consider buying now...   \n...               ...                                                ...   \n56164    1.546321e+09  let's talk about apple, inc. (nasdaq: aapl ). ...   \n61168    1.546322e+09  big trends: gartner iaas mq is down to 6 compa...   \n41       1.546326e+09  - fundamental analysis - technology is apple s...   \n60869    1.546332e+09  new york, oct. 23, 2018 (globe newswire) -- in...   \n61440    1.546334e+09  merck (nyse: mrk ) and pfizer (nyse: pfe ) fin...   \n\n       sentiments  \n16174           0  \n15612           1  \n15928           0  \n12200           0  \n14085           0  \n...           ...  \n56164          -1  \n61168           0  \n41              0  \n60869           0  \n61440           0  \n\n[19114 rows x 3 columns]",
      "text/html": "<div>\n<style scoped>\n    .dataframe tbody tr th:only-of-type {\n        vertical-align: middle;\n    }\n\n    .dataframe tbody tr th {\n        vertical-align: top;\n    }\n\n    .dataframe thead th {\n        text-align: right;\n    }\n</style>\n<table border=\"1\" class=\"dataframe\">\n  <thead>\n    <tr style=\"text-align: right;\">\n      <th></th>\n      <th>published_time</th>\n      <th>article_content</th>\n      <th>sentiments</th>\n    </tr>\n  </thead>\n  <tbody>\n    <tr>\n      <th>16174</th>\n      <td>1.514832e+09</td>\n      <td>facebook \\nciti analysts say that there is a 4...</td>\n      <td>0</td>\n    </tr>\n    <tr>\n      <th>15612</th>\n      <td>1.514855e+09</td>\n      <td>quote: in this context avxl is a new apple, im...</td>\n      <td>1</td>\n    </tr>\n    <tr>\n      <th>15928</th>\n      <td>1.514862e+09</td>\n      <td>2 warren buffett stocks to consider buying now...</td>\n      <td>0</td>\n    </tr>\n    <tr>\n      <th>12200</th>\n      <td>1.514862e+09</td>\n      <td>2 warren buffett stocks to consider buying now...</td>\n      <td>0</td>\n    </tr>\n    <tr>\n      <th>14085</th>\n      <td>1.514862e+09</td>\n      <td>2 warren buffett stocks to consider buying now...</td>\n      <td>0</td>\n    </tr>\n    <tr>\n      <th>...</th>\n      <td>...</td>\n      <td>...</td>\n      <td>...</td>\n    </tr>\n    <tr>\n      <th>56164</th>\n      <td>1.546321e+09</td>\n      <td>let's talk about apple, inc. (nasdaq: aapl ). ...</td>\n      <td>-1</td>\n    </tr>\n    <tr>\n      <th>61168</th>\n      <td>1.546322e+09</td>\n      <td>big trends: gartner iaas mq is down to 6 compa...</td>\n      <td>0</td>\n    </tr>\n    <tr>\n      <th>41</th>\n      <td>1.546326e+09</td>\n      <td>- fundamental analysis - technology is apple s...</td>\n      <td>0</td>\n    </tr>\n    <tr>\n      <th>60869</th>\n      <td>1.546332e+09</td>\n      <td>new york, oct. 23, 2018 (globe newswire) -- in...</td>\n      <td>0</td>\n    </tr>\n    <tr>\n      <th>61440</th>\n      <td>1.546334e+09</td>\n      <td>merck (nyse: mrk ) and pfizer (nyse: pfe ) fin...</td>\n      <td>0</td>\n    </tr>\n  </tbody>\n</table>\n<p>19114 rows × 3 columns</p>\n</div>"
     },
     "execution_count": 68,
     "metadata": {},
     "output_type": "execute_result"
    }
   ],
   "source": [
    "apple_news"
   ],
   "metadata": {
    "collapsed": false,
    "pycharm": {
     "name": "#%%\n"
    }
   }
  },
  {
   "cell_type": "code",
   "execution_count": 69,
   "outputs": [
    {
     "data": {
      "text/plain": "       published_time                                    article_content  \\\n11106    1.514876e+09  by ciara linnane and tomi kilgore, marketwatch...   \n11837    1.514876e+09  by ryan vlastelica\\nto simply match the market...   \n15252    1.514876e+09  what happened shares of many optical networkin...   \n15737    1.514876e+09  by nigam arora\\nthe practical way to take adva...   \n13476    1.514876e+09  -michael ashbaugh;\\ncompany symbol date profil...   \n...               ...                                                ...   \n1348     1.546281e+09  the biggest benefit from living are the lesson...   \n2553     1.546290e+09  apple stock price\\napple (nasdaq: aapl ) was v...   \n849      1.546306e+09  none of us has a crystal ball that shows us cl...   \n56164    1.546321e+09  let's talk about apple, inc. (nasdaq: aapl ). ...   \n61168    1.546322e+09  big trends: gartner iaas mq is down to 6 compa...   \n\n       sentiments  \n11106           0  \n11837           0  \n15252           0  \n15737           0  \n13476           0  \n...           ...  \n1348            0  \n2553            0  \n849             0  \n56164           0  \n61168           0  \n\n[5684 rows x 3 columns]",
      "text/html": "<div>\n<style scoped>\n    .dataframe tbody tr th:only-of-type {\n        vertical-align: middle;\n    }\n\n    .dataframe tbody tr th {\n        vertical-align: top;\n    }\n\n    .dataframe thead th {\n        text-align: right;\n    }\n</style>\n<table border=\"1\" class=\"dataframe\">\n  <thead>\n    <tr style=\"text-align: right;\">\n      <th></th>\n      <th>published_time</th>\n      <th>article_content</th>\n      <th>sentiments</th>\n    </tr>\n  </thead>\n  <tbody>\n    <tr>\n      <th>11106</th>\n      <td>1.514876e+09</td>\n      <td>by ciara linnane and tomi kilgore, marketwatch...</td>\n      <td>0</td>\n    </tr>\n    <tr>\n      <th>11837</th>\n      <td>1.514876e+09</td>\n      <td>by ryan vlastelica\\nto simply match the market...</td>\n      <td>0</td>\n    </tr>\n    <tr>\n      <th>15252</th>\n      <td>1.514876e+09</td>\n      <td>what happened shares of many optical networkin...</td>\n      <td>0</td>\n    </tr>\n    <tr>\n      <th>15737</th>\n      <td>1.514876e+09</td>\n      <td>by nigam arora\\nthe practical way to take adva...</td>\n      <td>0</td>\n    </tr>\n    <tr>\n      <th>13476</th>\n      <td>1.514876e+09</td>\n      <td>-michael ashbaugh;\\ncompany symbol date profil...</td>\n      <td>0</td>\n    </tr>\n    <tr>\n      <th>...</th>\n      <td>...</td>\n      <td>...</td>\n      <td>...</td>\n    </tr>\n    <tr>\n      <th>1348</th>\n      <td>1.546281e+09</td>\n      <td>the biggest benefit from living are the lesson...</td>\n      <td>0</td>\n    </tr>\n    <tr>\n      <th>2553</th>\n      <td>1.546290e+09</td>\n      <td>apple stock price\\napple (nasdaq: aapl ) was v...</td>\n      <td>0</td>\n    </tr>\n    <tr>\n      <th>849</th>\n      <td>1.546306e+09</td>\n      <td>none of us has a crystal ball that shows us cl...</td>\n      <td>0</td>\n    </tr>\n    <tr>\n      <th>56164</th>\n      <td>1.546321e+09</td>\n      <td>let's talk about apple, inc. (nasdaq: aapl ). ...</td>\n      <td>0</td>\n    </tr>\n    <tr>\n      <th>61168</th>\n      <td>1.546322e+09</td>\n      <td>big trends: gartner iaas mq is down to 6 compa...</td>\n      <td>0</td>\n    </tr>\n  </tbody>\n</table>\n<p>5684 rows × 3 columns</p>\n</div>"
     },
     "execution_count": 69,
     "metadata": {},
     "output_type": "execute_result"
    }
   ],
   "source": [
    "amazon_news"
   ],
   "metadata": {
    "collapsed": false,
    "pycharm": {
     "name": "#%%\n"
    }
   }
  },
  {
   "cell_type": "code",
   "execution_count": 70,
   "outputs": [],
   "source": [
    "apple_chart[\"articles\"] = [[] for i in range(len(apple_chart))]\n",
    "apple_chart['sentiments'] = 0"
   ],
   "metadata": {
    "collapsed": false,
    "pycharm": {
     "name": "#%%\n"
    }
   }
  },
  {
   "cell_type": "code",
   "execution_count": 71,
   "outputs": [
    {
     "data": {
      "text/plain": "         timestamp  trends\n2486  1.514925e+09       1\n2487  1.514939e+09       1\n2488  1.514954e+09      -1\n2489  1.515011e+09       1\n2490  1.515026e+09      -1\n...            ...     ...\n3180  1.545971e+09      -1\n3181  1.546029e+09      -1\n3182  1.546043e+09      -1\n3183  1.546288e+09       1\n3184  1.546303e+09      -1\n\n[699 rows x 2 columns]",
      "text/html": "<div>\n<style scoped>\n    .dataframe tbody tr th:only-of-type {\n        vertical-align: middle;\n    }\n\n    .dataframe tbody tr th {\n        vertical-align: top;\n    }\n\n    .dataframe thead th {\n        text-align: right;\n    }\n</style>\n<table border=\"1\" class=\"dataframe\">\n  <thead>\n    <tr style=\"text-align: right;\">\n      <th></th>\n      <th>timestamp</th>\n      <th>trends</th>\n    </tr>\n  </thead>\n  <tbody>\n    <tr>\n      <th>2486</th>\n      <td>1.514925e+09</td>\n      <td>1</td>\n    </tr>\n    <tr>\n      <th>2487</th>\n      <td>1.514939e+09</td>\n      <td>1</td>\n    </tr>\n    <tr>\n      <th>2488</th>\n      <td>1.514954e+09</td>\n      <td>-1</td>\n    </tr>\n    <tr>\n      <th>2489</th>\n      <td>1.515011e+09</td>\n      <td>1</td>\n    </tr>\n    <tr>\n      <th>2490</th>\n      <td>1.515026e+09</td>\n      <td>-1</td>\n    </tr>\n    <tr>\n      <th>...</th>\n      <td>...</td>\n      <td>...</td>\n    </tr>\n    <tr>\n      <th>3180</th>\n      <td>1.545971e+09</td>\n      <td>-1</td>\n    </tr>\n    <tr>\n      <th>3181</th>\n      <td>1.546029e+09</td>\n      <td>-1</td>\n    </tr>\n    <tr>\n      <th>3182</th>\n      <td>1.546043e+09</td>\n      <td>-1</td>\n    </tr>\n    <tr>\n      <th>3183</th>\n      <td>1.546288e+09</td>\n      <td>1</td>\n    </tr>\n    <tr>\n      <th>3184</th>\n      <td>1.546303e+09</td>\n      <td>-1</td>\n    </tr>\n  </tbody>\n</table>\n<p>699 rows × 2 columns</p>\n</div>"
     },
     "execution_count": 71,
     "metadata": {},
     "output_type": "execute_result"
    }
   ],
   "source": [
    "amazon_chart"
   ],
   "metadata": {
    "collapsed": false,
    "pycharm": {
     "name": "#%%\n"
    }
   }
  },
  {
   "cell_type": "code",
   "execution_count": 80,
   "outputs": [],
   "source": [
    "index = 0\n",
    "row = []\n",
    "minutes = 240\n",
    "try:\n",
    "    for index, row in apple_chart.iterrows():\n",
    "        time = row['timestamp']\n",
    "        low_end = (datetime.utcfromtimestamp(row['timestamp']) - timedelta(minutes=minutes)).replace(tzinfo=timezone.utc).timestamp()\n",
    "        articles = []\n",
    "        sentiment = 0\n",
    "        for news_index, news_row in apple_news.iterrows():\n",
    "            if news_row['published_time'] > time:\n",
    "                break\n",
    "            if low_end <= news_row['published_time'] <= time:\n",
    "                sentiment += news_row['sentiments']\n",
    "                articles.append(news_row['article_content'])\n",
    "        apple_chart.at[index, 'articles'] = articles\n",
    "        apple_chart.at[index, 'sentiments'] = sentiment\n",
    "except Exception as e:\n",
    "    print(e)\n",
    "    print(row, index)"
   ],
   "metadata": {
    "collapsed": false,
    "pycharm": {
     "name": "#%%\n"
    }
   }
  },
  {
   "cell_type": "code",
   "execution_count": 81,
   "outputs": [
    {
     "data": {
      "text/plain": "         timestamp  trends                                           articles  \\\n2486  1.514925e+09       1  [thinking about investing in apple, alibaba, n...   \n2487  1.514939e+09       1  [login search pre-market most active for jan 2...   \n2488  1.514954e+09      -1  [steven mnuchin: taxes will go up for the rich...   \n2489  1.515011e+09       1  [the stock market's animal spirits have been t...   \n2490  1.515026e+09      -1  [with reports of a potential bug in intel corp...   \n...            ...     ...                                                ...   \n3180  1.545971e+09      -1  [source: apple.com\\napple ( aapl ) has been on...   \n3181  1.546029e+09      -1  [shutterstock photo top tech stocks\\nmsft -0.9...   \n3182  1.546043e+09      -1  [apple and netflix could be your best faang be...   \n3183  1.546288e+09       1  [shutterstock photo top tech stocks\\nmsft +0.7...   \n3184  1.546303e+09      -1  [white house tries again to reassure wall stre...   \n\n      sentiments  \n2486          -1  \n2487         -13  \n2488          -2  \n2489           0  \n2490           0  \n...          ...  \n3180          -5  \n3181          -3  \n3182          -4  \n3183           0  \n3184          -4  \n\n[699 rows x 4 columns]",
      "text/html": "<div>\n<style scoped>\n    .dataframe tbody tr th:only-of-type {\n        vertical-align: middle;\n    }\n\n    .dataframe tbody tr th {\n        vertical-align: top;\n    }\n\n    .dataframe thead th {\n        text-align: right;\n    }\n</style>\n<table border=\"1\" class=\"dataframe\">\n  <thead>\n    <tr style=\"text-align: right;\">\n      <th></th>\n      <th>timestamp</th>\n      <th>trends</th>\n      <th>articles</th>\n      <th>sentiments</th>\n    </tr>\n  </thead>\n  <tbody>\n    <tr>\n      <th>2486</th>\n      <td>1.514925e+09</td>\n      <td>1</td>\n      <td>[thinking about investing in apple, alibaba, n...</td>\n      <td>-1</td>\n    </tr>\n    <tr>\n      <th>2487</th>\n      <td>1.514939e+09</td>\n      <td>1</td>\n      <td>[login search pre-market most active for jan 2...</td>\n      <td>-13</td>\n    </tr>\n    <tr>\n      <th>2488</th>\n      <td>1.514954e+09</td>\n      <td>-1</td>\n      <td>[steven mnuchin: taxes will go up for the rich...</td>\n      <td>-2</td>\n    </tr>\n    <tr>\n      <th>2489</th>\n      <td>1.515011e+09</td>\n      <td>1</td>\n      <td>[the stock market's animal spirits have been t...</td>\n      <td>0</td>\n    </tr>\n    <tr>\n      <th>2490</th>\n      <td>1.515026e+09</td>\n      <td>-1</td>\n      <td>[with reports of a potential bug in intel corp...</td>\n      <td>0</td>\n    </tr>\n    <tr>\n      <th>...</th>\n      <td>...</td>\n      <td>...</td>\n      <td>...</td>\n      <td>...</td>\n    </tr>\n    <tr>\n      <th>3180</th>\n      <td>1.545971e+09</td>\n      <td>-1</td>\n      <td>[source: apple.com\\napple ( aapl ) has been on...</td>\n      <td>-5</td>\n    </tr>\n    <tr>\n      <th>3181</th>\n      <td>1.546029e+09</td>\n      <td>-1</td>\n      <td>[shutterstock photo top tech stocks\\nmsft -0.9...</td>\n      <td>-3</td>\n    </tr>\n    <tr>\n      <th>3182</th>\n      <td>1.546043e+09</td>\n      <td>-1</td>\n      <td>[apple and netflix could be your best faang be...</td>\n      <td>-4</td>\n    </tr>\n    <tr>\n      <th>3183</th>\n      <td>1.546288e+09</td>\n      <td>1</td>\n      <td>[shutterstock photo top tech stocks\\nmsft +0.7...</td>\n      <td>0</td>\n    </tr>\n    <tr>\n      <th>3184</th>\n      <td>1.546303e+09</td>\n      <td>-1</td>\n      <td>[white house tries again to reassure wall stre...</td>\n      <td>-4</td>\n    </tr>\n  </tbody>\n</table>\n<p>699 rows × 4 columns</p>\n</div>"
     },
     "execution_count": 81,
     "metadata": {},
     "output_type": "execute_result"
    }
   ],
   "source": [
    "apple_chart"
   ],
   "metadata": {
    "collapsed": false,
    "pycharm": {
     "name": "#%%\n"
    }
   }
  },
  {
   "cell_type": "code",
   "execution_count": 84,
   "outputs": [
    {
     "data": {
      "text/plain": "17"
     },
     "execution_count": 84,
     "metadata": {},
     "output_type": "execute_result"
    }
   ],
   "source": [
    "len(apple_chart['articles'][3182])"
   ],
   "metadata": {
    "collapsed": false,
    "pycharm": {
     "name": "#%%\n"
    }
   }
  },
  {
   "cell_type": "code",
   "execution_count": 85,
   "outputs": [
    {
     "name": "stdout",
     "output_type": "stream",
     "text": [
      "[[ 1.00034843  0.04577149]\n",
      " [ 0.04577149 10.96762055]]\n"
     ]
    }
   ],
   "source": [
    "trends = apple_chart['trends'].to_numpy()\n",
    "sentiments = apple_chart['sentiments'].to_numpy()\n",
    "print(np.cov(trends, sentiments))"
   ],
   "metadata": {
    "collapsed": false,
    "pycharm": {
     "name": "#%%\n"
    }
   }
  }
 ],
 "metadata": {
  "kernelspec": {
   "name": "pycharm-9e7c138f",
   "language": "python",
   "display_name": "PyCharm (Stock_prediction_G24_P3)"
  },
  "language_info": {
   "codemirror_mode": {
    "name": "ipython",
    "version": 2
   },
   "file_extension": ".py",
   "mimetype": "text/x-python",
   "name": "python",
   "nbconvert_exporter": "python",
   "pygments_lexer": "ipython2",
   "version": "2.7.6"
  }
 },
 "nbformat": 4,
 "nbformat_minor": 0
}