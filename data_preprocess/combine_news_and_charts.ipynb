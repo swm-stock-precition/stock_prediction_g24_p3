{
 "cells": [
  {
   "cell_type": "code",
   "execution_count": 95,
   "metadata": {
    "collapsed": true
   },
   "outputs": [],
   "source": [
    "from datetime import timedelta\n",
    "from datetime import datetime\n",
    "import pandas as pd\n",
    "from datetime import timezone\n",
    "import numpy as np"
   ]
  },
  {
   "cell_type": "code",
   "execution_count": 96,
   "metadata": {
    "collapsed": false,
    "pycharm": {
     "name": "#%%\n"
    }
   },
   "outputs": [],
   "source": [
    "import json\n",
    "\n",
    "config = json.load(open(\"../configure.json\"))\n",
    "start_date = datetime.fromisoformat(config['start_time']).astimezone(tz=timezone.utc).replace(tzinfo=None).timestamp()\n",
    "end_date = datetime.fromisoformat(config['end_time']).astimezone(tz=timezone.utc).replace(tzinfo=None).timestamp()"
   ]
  },
  {
   "cell_type": "code",
   "execution_count": 97,
   "metadata": {
    "collapsed": false,
    "pycharm": {
     "name": "#%%\n"
    }
   },
   "outputs": [],
   "source": [
    "apple_news = pd.read_pickle(\"pkls/apple_news_2gram.pkl\", compression='infer')\n",
    "amazon_news = pd.read_pickle(\"pkls/amazon_news_2gram.pkl\", compression='infer')\n",
    "apple_chart = pd.read_pickle(\"pkls/apple_stock_chart.pkl\", compression='infer')\n",
    "amazon_chart = pd.read_pickle(\"pkls/apple_stock_chart.pkl\", compression='infer')"
   ]
  },
  {
   "cell_type": "code",
   "execution_count": 98,
   "metadata": {
    "collapsed": false,
    "pycharm": {
     "name": "#%%\n"
    }
   },
   "outputs": [
    {
     "data": {
      "text/plain": "       published_time                                    article_content  \\\n12886    1.514876e+09  here are some things going on today in your wo...   \n13571    1.514876e+09  shutterstock photo\\nstocks indexes opened the ...   \n11837    1.514876e+09  by ryan vlastelica\\nto simply match the market...   \n13804    1.514876e+09  what happened shares of many optical networkin...   \n15737    1.514876e+09  by nigam arora\\nthe practical way to take adva...   \n...               ...                                                ...   \n63653    1.549568e+09  introduction welcome to my monthly update for ...   \n63392    1.549572e+09  amazon is running away with the smart-speaker ...   \n62662    1.549574e+09  the \" fast money \" traders shared their first ...   \n62647    1.549580e+09  investors lately have taken a somewhat jaundic...   \n63649    1.549593e+09  the latest data for the smart-speaker market w...   \n\n                                             word_tokens  \\\n12886  [go, today, world, tech, bellweth, tech, march...   \n13571  [photo, stock, new, year, first, session, chee...   \n11837  [simpli, match, market, may, need, take, lot, ...   \n13804  [mani, optic, decemb, accord, data, p, global,...   \n15737  [practic, way, take, advantag, januari, effect...   \n...                                                  ...   \n63653  [introduct, welcom, month, updat, dividend, gr...   \n63392  [amazon, run, away, market, chris, motley, foo...   \n62662  [fast, money, first, market, open, pete, buyer...   \n62647  [late, taken, somewhat, view, toward, mani, te...   \n63649  [latest, data, market, look, great, compani, e...   \n\n                                                features  \n12886  [0, 0, 0, 0, 0, 0, 0, 0, 0, 0, 0, 0, 0, 0, 0, ...  \n13571  [0, 0, 0, 0, 0, 0, 0, 0, 0, 0, 0, 0, 0, 0, 0, ...  \n11837  [0, 1, 0, 0, 1, 0, 0, 0, 0, 0, 0, 0, 0, 0, 0, ...  \n13804  [0, 1, 0, 0, 0, 0, 0, 0, 0, 0, 0, 0, 0, 0, 0, ...  \n15737  [0, 0, 0, 0, 0, 0, 0, 0, 0, 0, 0, 0, 0, 0, 0, ...  \n...                                                  ...  \n63653  [0, 0, 0, 0, 0, 0, 0, 0, 0, 0, 0, 0, 0, 0, 0, ...  \n63392  [0, 1, 0, 0, 0, 0, 0, 0, 0, 0, 0, 0, 0, 0, 0, ...  \n62662  [0, 0, 0, 0, 0, 0, 0, 0, 0, 0, 0, 0, 0, 0, 0, ...  \n62647  [0, 0, 0, 0, 0, 0, 0, 0, 0, 0, 0, 0, 0, 2, 0, ...  \n63649  [0, 1, 0, 0, 0, 0, 0, 0, 0, 0, 0, 0, 0, 0, 0, ...  \n\n[6148 rows x 4 columns]",
      "text/html": "<div>\n<style scoped>\n    .dataframe tbody tr th:only-of-type {\n        vertical-align: middle;\n    }\n\n    .dataframe tbody tr th {\n        vertical-align: top;\n    }\n\n    .dataframe thead th {\n        text-align: right;\n    }\n</style>\n<table border=\"1\" class=\"dataframe\">\n  <thead>\n    <tr style=\"text-align: right;\">\n      <th></th>\n      <th>published_time</th>\n      <th>article_content</th>\n      <th>word_tokens</th>\n      <th>features</th>\n    </tr>\n  </thead>\n  <tbody>\n    <tr>\n      <th>12886</th>\n      <td>1.514876e+09</td>\n      <td>here are some things going on today in your wo...</td>\n      <td>[go, today, world, tech, bellweth, tech, march...</td>\n      <td>[0, 0, 0, 0, 0, 0, 0, 0, 0, 0, 0, 0, 0, 0, 0, ...</td>\n    </tr>\n    <tr>\n      <th>13571</th>\n      <td>1.514876e+09</td>\n      <td>shutterstock photo\\nstocks indexes opened the ...</td>\n      <td>[photo, stock, new, year, first, session, chee...</td>\n      <td>[0, 0, 0, 0, 0, 0, 0, 0, 0, 0, 0, 0, 0, 0, 0, ...</td>\n    </tr>\n    <tr>\n      <th>11837</th>\n      <td>1.514876e+09</td>\n      <td>by ryan vlastelica\\nto simply match the market...</td>\n      <td>[simpli, match, market, may, need, take, lot, ...</td>\n      <td>[0, 1, 0, 0, 1, 0, 0, 0, 0, 0, 0, 0, 0, 0, 0, ...</td>\n    </tr>\n    <tr>\n      <th>13804</th>\n      <td>1.514876e+09</td>\n      <td>what happened shares of many optical networkin...</td>\n      <td>[mani, optic, decemb, accord, data, p, global,...</td>\n      <td>[0, 1, 0, 0, 0, 0, 0, 0, 0, 0, 0, 0, 0, 0, 0, ...</td>\n    </tr>\n    <tr>\n      <th>15737</th>\n      <td>1.514876e+09</td>\n      <td>by nigam arora\\nthe practical way to take adva...</td>\n      <td>[practic, way, take, advantag, januari, effect...</td>\n      <td>[0, 0, 0, 0, 0, 0, 0, 0, 0, 0, 0, 0, 0, 0, 0, ...</td>\n    </tr>\n    <tr>\n      <th>...</th>\n      <td>...</td>\n      <td>...</td>\n      <td>...</td>\n      <td>...</td>\n    </tr>\n    <tr>\n      <th>63653</th>\n      <td>1.549568e+09</td>\n      <td>introduction welcome to my monthly update for ...</td>\n      <td>[introduct, welcom, month, updat, dividend, gr...</td>\n      <td>[0, 0, 0, 0, 0, 0, 0, 0, 0, 0, 0, 0, 0, 0, 0, ...</td>\n    </tr>\n    <tr>\n      <th>63392</th>\n      <td>1.549572e+09</td>\n      <td>amazon is running away with the smart-speaker ...</td>\n      <td>[amazon, run, away, market, chris, motley, foo...</td>\n      <td>[0, 1, 0, 0, 0, 0, 0, 0, 0, 0, 0, 0, 0, 0, 0, ...</td>\n    </tr>\n    <tr>\n      <th>62662</th>\n      <td>1.549574e+09</td>\n      <td>the \" fast money \" traders shared their first ...</td>\n      <td>[fast, money, first, market, open, pete, buyer...</td>\n      <td>[0, 0, 0, 0, 0, 0, 0, 0, 0, 0, 0, 0, 0, 0, 0, ...</td>\n    </tr>\n    <tr>\n      <th>62647</th>\n      <td>1.549580e+09</td>\n      <td>investors lately have taken a somewhat jaundic...</td>\n      <td>[late, taken, somewhat, view, toward, mani, te...</td>\n      <td>[0, 0, 0, 0, 0, 0, 0, 0, 0, 0, 0, 0, 0, 2, 0, ...</td>\n    </tr>\n    <tr>\n      <th>63649</th>\n      <td>1.549593e+09</td>\n      <td>the latest data for the smart-speaker market w...</td>\n      <td>[latest, data, market, look, great, compani, e...</td>\n      <td>[0, 1, 0, 0, 0, 0, 0, 0, 0, 0, 0, 0, 0, 0, 0, ...</td>\n    </tr>\n  </tbody>\n</table>\n<p>6148 rows × 4 columns</p>\n</div>"
     },
     "execution_count": 98,
     "metadata": {},
     "output_type": "execute_result"
    }
   ],
   "source": [
    "apple_news"
   ]
  },
  {
   "cell_type": "code",
   "execution_count": 99,
   "metadata": {
    "collapsed": false,
    "pycharm": {
     "name": "#%%\n"
    }
   },
   "outputs": [
    {
     "data": {
      "text/plain": "       published_time                                    article_content  \\\n12886    1.514876e+09  here are some things going on today in your wo...   \n13571    1.514876e+09  shutterstock photo\\nstocks indexes opened the ...   \n11837    1.514876e+09  by ryan vlastelica\\nto simply match the market...   \n13804    1.514876e+09  what happened shares of many optical networkin...   \n15737    1.514876e+09  by nigam arora\\nthe practical way to take adva...   \n...               ...                                                ...   \n63653    1.549568e+09  introduction welcome to my monthly update for ...   \n63392    1.549572e+09  amazon is running away with the smart-speaker ...   \n62662    1.549574e+09  the \" fast money \" traders shared their first ...   \n62647    1.549580e+09  investors lately have taken a somewhat jaundic...   \n63649    1.549593e+09  the latest data for the smart-speaker market w...   \n\n                                             word_tokens  \\\n12886  [go, today, world, tech, bellweth, tech, march...   \n13571  [photo, stock, new, year, first, session, chee...   \n11837  [simpli, match, market, may, need, take, lot, ...   \n13804  [mani, optic, decemb, accord, data, p, global,...   \n15737  [practic, way, take, advantag, januari, effect...   \n...                                                  ...   \n63653  [introduct, welcom, month, updat, dividend, gr...   \n63392  [amazon, run, away, market, chris, motley, foo...   \n62662  [fast, money, first, market, open, pete, buyer...   \n62647  [late, taken, somewhat, view, toward, mani, te...   \n63649  [latest, data, market, look, great, compani, e...   \n\n                                                features  \n12886  [0, 0, 0, 0, 0, 0, 0, 0, 0, 0, 0, 0, 0, 0, 0, ...  \n13571  [0, 0, 0, 0, 0, 0, 0, 0, 0, 0, 0, 0, 0, 0, 0, ...  \n11837  [0, 1, 0, 0, 1, 0, 0, 0, 0, 0, 0, 0, 0, 0, 0, ...  \n13804  [0, 1, 0, 0, 0, 0, 0, 0, 0, 0, 0, 0, 0, 0, 0, ...  \n15737  [0, 0, 0, 0, 0, 0, 0, 0, 0, 0, 0, 0, 0, 0, 0, ...  \n...                                                  ...  \n63653  [0, 0, 0, 0, 0, 0, 0, 0, 0, 0, 0, 0, 0, 0, 0, ...  \n63392  [0, 1, 0, 0, 0, 0, 0, 0, 0, 0, 0, 0, 0, 0, 0, ...  \n62662  [0, 0, 0, 0, 0, 0, 0, 0, 0, 0, 0, 0, 0, 0, 0, ...  \n62647  [0, 0, 0, 0, 0, 0, 0, 0, 0, 0, 0, 0, 0, 2, 0, ...  \n63649  [0, 1, 0, 0, 0, 0, 0, 0, 0, 0, 0, 0, 0, 0, 0, ...  \n\n[6148 rows x 4 columns]",
      "text/html": "<div>\n<style scoped>\n    .dataframe tbody tr th:only-of-type {\n        vertical-align: middle;\n    }\n\n    .dataframe tbody tr th {\n        vertical-align: top;\n    }\n\n    .dataframe thead th {\n        text-align: right;\n    }\n</style>\n<table border=\"1\" class=\"dataframe\">\n  <thead>\n    <tr style=\"text-align: right;\">\n      <th></th>\n      <th>published_time</th>\n      <th>article_content</th>\n      <th>word_tokens</th>\n      <th>features</th>\n    </tr>\n  </thead>\n  <tbody>\n    <tr>\n      <th>12886</th>\n      <td>1.514876e+09</td>\n      <td>here are some things going on today in your wo...</td>\n      <td>[go, today, world, tech, bellweth, tech, march...</td>\n      <td>[0, 0, 0, 0, 0, 0, 0, 0, 0, 0, 0, 0, 0, 0, 0, ...</td>\n    </tr>\n    <tr>\n      <th>13571</th>\n      <td>1.514876e+09</td>\n      <td>shutterstock photo\\nstocks indexes opened the ...</td>\n      <td>[photo, stock, new, year, first, session, chee...</td>\n      <td>[0, 0, 0, 0, 0, 0, 0, 0, 0, 0, 0, 0, 0, 0, 0, ...</td>\n    </tr>\n    <tr>\n      <th>11837</th>\n      <td>1.514876e+09</td>\n      <td>by ryan vlastelica\\nto simply match the market...</td>\n      <td>[simpli, match, market, may, need, take, lot, ...</td>\n      <td>[0, 1, 0, 0, 1, 0, 0, 0, 0, 0, 0, 0, 0, 0, 0, ...</td>\n    </tr>\n    <tr>\n      <th>13804</th>\n      <td>1.514876e+09</td>\n      <td>what happened shares of many optical networkin...</td>\n      <td>[mani, optic, decemb, accord, data, p, global,...</td>\n      <td>[0, 1, 0, 0, 0, 0, 0, 0, 0, 0, 0, 0, 0, 0, 0, ...</td>\n    </tr>\n    <tr>\n      <th>15737</th>\n      <td>1.514876e+09</td>\n      <td>by nigam arora\\nthe practical way to take adva...</td>\n      <td>[practic, way, take, advantag, januari, effect...</td>\n      <td>[0, 0, 0, 0, 0, 0, 0, 0, 0, 0, 0, 0, 0, 0, 0, ...</td>\n    </tr>\n    <tr>\n      <th>...</th>\n      <td>...</td>\n      <td>...</td>\n      <td>...</td>\n      <td>...</td>\n    </tr>\n    <tr>\n      <th>63653</th>\n      <td>1.549568e+09</td>\n      <td>introduction welcome to my monthly update for ...</td>\n      <td>[introduct, welcom, month, updat, dividend, gr...</td>\n      <td>[0, 0, 0, 0, 0, 0, 0, 0, 0, 0, 0, 0, 0, 0, 0, ...</td>\n    </tr>\n    <tr>\n      <th>63392</th>\n      <td>1.549572e+09</td>\n      <td>amazon is running away with the smart-speaker ...</td>\n      <td>[amazon, run, away, market, chris, motley, foo...</td>\n      <td>[0, 1, 0, 0, 0, 0, 0, 0, 0, 0, 0, 0, 0, 0, 0, ...</td>\n    </tr>\n    <tr>\n      <th>62662</th>\n      <td>1.549574e+09</td>\n      <td>the \" fast money \" traders shared their first ...</td>\n      <td>[fast, money, first, market, open, pete, buyer...</td>\n      <td>[0, 0, 0, 0, 0, 0, 0, 0, 0, 0, 0, 0, 0, 0, 0, ...</td>\n    </tr>\n    <tr>\n      <th>62647</th>\n      <td>1.549580e+09</td>\n      <td>investors lately have taken a somewhat jaundic...</td>\n      <td>[late, taken, somewhat, view, toward, mani, te...</td>\n      <td>[0, 0, 0, 0, 0, 0, 0, 0, 0, 0, 0, 0, 0, 2, 0, ...</td>\n    </tr>\n    <tr>\n      <th>63649</th>\n      <td>1.549593e+09</td>\n      <td>the latest data for the smart-speaker market w...</td>\n      <td>[latest, data, market, look, great, compani, e...</td>\n      <td>[0, 1, 0, 0, 0, 0, 0, 0, 0, 0, 0, 0, 0, 0, 0, ...</td>\n    </tr>\n  </tbody>\n</table>\n<p>6148 rows × 4 columns</p>\n</div>"
     },
     "execution_count": 99,
     "metadata": {},
     "output_type": "execute_result"
    }
   ],
   "source": [
    "amazon_news"
   ]
  },
  {
   "cell_type": "code",
   "execution_count": 100,
   "metadata": {
    "collapsed": false,
    "pycharm": {
     "name": "#%%\n"
    }
   },
   "outputs": [
    {
     "data": {
      "text/plain": "       published_time                                    article_content  \\\n12886    1.514876e+09  here are some things going on today in your wo...   \n13571    1.514876e+09  shutterstock photo\\nstocks indexes opened the ...   \n11837    1.514876e+09  by ryan vlastelica\\nto simply match the market...   \n13804    1.514876e+09  what happened shares of many optical networkin...   \n15737    1.514876e+09  by nigam arora\\nthe practical way to take adva...   \n...               ...                                                ...   \n63653    1.549568e+09  introduction welcome to my monthly update for ...   \n63392    1.549572e+09  amazon is running away with the smart-speaker ...   \n62662    1.549574e+09  the \" fast money \" traders shared their first ...   \n62647    1.549580e+09  investors lately have taken a somewhat jaundic...   \n63649    1.549593e+09  the latest data for the smart-speaker market w...   \n\n                                             word_tokens  \\\n12886  [go, today, world, tech, bellweth, tech, march...   \n13571  [photo, stock, new, year, first, session, chee...   \n11837  [simpli, match, market, may, need, take, lot, ...   \n13804  [mani, optic, decemb, accord, data, p, global,...   \n15737  [practic, way, take, advantag, januari, effect...   \n...                                                  ...   \n63653  [introduct, welcom, month, updat, dividend, gr...   \n63392  [amazon, run, away, market, chris, motley, foo...   \n62662  [fast, money, first, market, open, pete, buyer...   \n62647  [late, taken, somewhat, view, toward, mani, te...   \n63649  [latest, data, market, look, great, compani, e...   \n\n                                                features  trend  \n12886  [0, 0, 0, 0, 0, 0, 0, 0, 0, 0, 0, 0, 0, 0, 0, ...      0  \n13571  [0, 0, 0, 0, 0, 0, 0, 0, 0, 0, 0, 0, 0, 0, 0, ...      0  \n11837  [0, 1, 0, 0, 1, 0, 0, 0, 0, 0, 0, 0, 0, 0, 0, ...      0  \n13804  [0, 1, 0, 0, 0, 0, 0, 0, 0, 0, 0, 0, 0, 0, 0, ...      0  \n15737  [0, 0, 0, 0, 0, 0, 0, 0, 0, 0, 0, 0, 0, 0, 0, ...      0  \n...                                                  ...    ...  \n63653  [0, 0, 0, 0, 0, 0, 0, 0, 0, 0, 0, 0, 0, 0, 0, ...      0  \n63392  [0, 1, 0, 0, 0, 0, 0, 0, 0, 0, 0, 0, 0, 0, 0, ...      0  \n62662  [0, 0, 0, 0, 0, 0, 0, 0, 0, 0, 0, 0, 0, 0, 0, ...      0  \n62647  [0, 0, 0, 0, 0, 0, 0, 0, 0, 0, 0, 0, 0, 2, 0, ...      0  \n63649  [0, 1, 0, 0, 0, 0, 0, 0, 0, 0, 0, 0, 0, 0, 0, ...      0  \n\n[6148 rows x 5 columns]",
      "text/html": "<div>\n<style scoped>\n    .dataframe tbody tr th:only-of-type {\n        vertical-align: middle;\n    }\n\n    .dataframe tbody tr th {\n        vertical-align: top;\n    }\n\n    .dataframe thead th {\n        text-align: right;\n    }\n</style>\n<table border=\"1\" class=\"dataframe\">\n  <thead>\n    <tr style=\"text-align: right;\">\n      <th></th>\n      <th>published_time</th>\n      <th>article_content</th>\n      <th>word_tokens</th>\n      <th>features</th>\n      <th>trend</th>\n    </tr>\n  </thead>\n  <tbody>\n    <tr>\n      <th>12886</th>\n      <td>1.514876e+09</td>\n      <td>here are some things going on today in your wo...</td>\n      <td>[go, today, world, tech, bellweth, tech, march...</td>\n      <td>[0, 0, 0, 0, 0, 0, 0, 0, 0, 0, 0, 0, 0, 0, 0, ...</td>\n      <td>0</td>\n    </tr>\n    <tr>\n      <th>13571</th>\n      <td>1.514876e+09</td>\n      <td>shutterstock photo\\nstocks indexes opened the ...</td>\n      <td>[photo, stock, new, year, first, session, chee...</td>\n      <td>[0, 0, 0, 0, 0, 0, 0, 0, 0, 0, 0, 0, 0, 0, 0, ...</td>\n      <td>0</td>\n    </tr>\n    <tr>\n      <th>11837</th>\n      <td>1.514876e+09</td>\n      <td>by ryan vlastelica\\nto simply match the market...</td>\n      <td>[simpli, match, market, may, need, take, lot, ...</td>\n      <td>[0, 1, 0, 0, 1, 0, 0, 0, 0, 0, 0, 0, 0, 0, 0, ...</td>\n      <td>0</td>\n    </tr>\n    <tr>\n      <th>13804</th>\n      <td>1.514876e+09</td>\n      <td>what happened shares of many optical networkin...</td>\n      <td>[mani, optic, decemb, accord, data, p, global,...</td>\n      <td>[0, 1, 0, 0, 0, 0, 0, 0, 0, 0, 0, 0, 0, 0, 0, ...</td>\n      <td>0</td>\n    </tr>\n    <tr>\n      <th>15737</th>\n      <td>1.514876e+09</td>\n      <td>by nigam arora\\nthe practical way to take adva...</td>\n      <td>[practic, way, take, advantag, januari, effect...</td>\n      <td>[0, 0, 0, 0, 0, 0, 0, 0, 0, 0, 0, 0, 0, 0, 0, ...</td>\n      <td>0</td>\n    </tr>\n    <tr>\n      <th>...</th>\n      <td>...</td>\n      <td>...</td>\n      <td>...</td>\n      <td>...</td>\n      <td>...</td>\n    </tr>\n    <tr>\n      <th>63653</th>\n      <td>1.549568e+09</td>\n      <td>introduction welcome to my monthly update for ...</td>\n      <td>[introduct, welcom, month, updat, dividend, gr...</td>\n      <td>[0, 0, 0, 0, 0, 0, 0, 0, 0, 0, 0, 0, 0, 0, 0, ...</td>\n      <td>0</td>\n    </tr>\n    <tr>\n      <th>63392</th>\n      <td>1.549572e+09</td>\n      <td>amazon is running away with the smart-speaker ...</td>\n      <td>[amazon, run, away, market, chris, motley, foo...</td>\n      <td>[0, 1, 0, 0, 0, 0, 0, 0, 0, 0, 0, 0, 0, 0, 0, ...</td>\n      <td>0</td>\n    </tr>\n    <tr>\n      <th>62662</th>\n      <td>1.549574e+09</td>\n      <td>the \" fast money \" traders shared their first ...</td>\n      <td>[fast, money, first, market, open, pete, buyer...</td>\n      <td>[0, 0, 0, 0, 0, 0, 0, 0, 0, 0, 0, 0, 0, 0, 0, ...</td>\n      <td>0</td>\n    </tr>\n    <tr>\n      <th>62647</th>\n      <td>1.549580e+09</td>\n      <td>investors lately have taken a somewhat jaundic...</td>\n      <td>[late, taken, somewhat, view, toward, mani, te...</td>\n      <td>[0, 0, 0, 0, 0, 0, 0, 0, 0, 0, 0, 0, 0, 2, 0, ...</td>\n      <td>0</td>\n    </tr>\n    <tr>\n      <th>63649</th>\n      <td>1.549593e+09</td>\n      <td>the latest data for the smart-speaker market w...</td>\n      <td>[latest, data, market, look, great, compani, e...</td>\n      <td>[0, 1, 0, 0, 0, 0, 0, 0, 0, 0, 0, 0, 0, 0, 0, ...</td>\n      <td>0</td>\n    </tr>\n  </tbody>\n</table>\n<p>6148 rows × 5 columns</p>\n</div>"
     },
     "execution_count": 100,
     "metadata": {},
     "output_type": "execute_result"
    }
   ],
   "source": [
    "amazon_news['trend'] = [0 for i in range(0, len(amazon_news))]\n",
    "amazon_news"
   ]
  },
  {
   "cell_type": "code",
   "execution_count": 101,
   "metadata": {
    "collapsed": false,
    "pycharm": {
     "name": "#%%\n"
    }
   },
   "outputs": [
    {
     "name": "stdout",
     "output_type": "stream",
     "text": [
      "date value out of range\n",
      "it fails\n",
      "published_time                                          1549168860.0\n",
      "article_content    / investing why huawei matters, fomc decision,...\n",
      "word_tokens        [decis, watch, market, recon, think, agre, inc...\n",
      "features           [0, 0, 0, 0, 0, 0, 0, 0, 0, 0, 0, 0, 0, 0, 0, ...\n",
      "trend                                                              0\n",
      "Name: 63868, dtype: object 63868\n"
     ]
    },
    {
     "ename": "ValueError",
     "evalue": "Length of values (6079) does not match length of index (6148)",
     "output_type": "error",
     "traceback": [
      "\u001B[0;31m---------------------------------------------------------------------------\u001B[0m",
      "\u001B[0;31mValueError\u001B[0m                                Traceback (most recent call last)",
      "\u001B[0;32m/var/folders/p2/k76tzsj51ks1xgbf5_r8_3bw0000gn/T/ipykernel_7986/2201575027.py\u001B[0m in \u001B[0;36m<cell line: 31>\u001B[0;34m()\u001B[0m\n\u001B[1;32m     29\u001B[0m     \u001B[0mprint\u001B[0m\u001B[0;34m(\u001B[0m\u001B[0;34m\"it fails\"\u001B[0m\u001B[0;34m)\u001B[0m\u001B[0;34m\u001B[0m\u001B[0;34m\u001B[0m\u001B[0m\n\u001B[1;32m     30\u001B[0m     \u001B[0mprint\u001B[0m\u001B[0;34m(\u001B[0m\u001B[0mrow\u001B[0m\u001B[0;34m,\u001B[0m \u001B[0mindex\u001B[0m\u001B[0;34m)\u001B[0m\u001B[0;34m\u001B[0m\u001B[0;34m\u001B[0m\u001B[0m\n\u001B[0;32m---> 31\u001B[0;31m \u001B[0mamazon_news\u001B[0m\u001B[0;34m[\u001B[0m\u001B[0;34m'trend'\u001B[0m\u001B[0;34m]\u001B[0m \u001B[0;34m=\u001B[0m \u001B[0mtrends\u001B[0m\u001B[0;34m\u001B[0m\u001B[0;34m\u001B[0m\u001B[0m\n\u001B[0m",
      "\u001B[0;32m~/miniforge3/envs/pytorch_m1/lib/python3.8/site-packages/pandas/core/frame.py\u001B[0m in \u001B[0;36m__setitem__\u001B[0;34m(self, key, value)\u001B[0m\n\u001B[1;32m   3653\u001B[0m         \u001B[0;32melse\u001B[0m\u001B[0;34m:\u001B[0m\u001B[0;34m\u001B[0m\u001B[0;34m\u001B[0m\u001B[0m\n\u001B[1;32m   3654\u001B[0m             \u001B[0;31m# set column\u001B[0m\u001B[0;34m\u001B[0m\u001B[0;34m\u001B[0m\u001B[0;34m\u001B[0m\u001B[0m\n\u001B[0;32m-> 3655\u001B[0;31m             \u001B[0mself\u001B[0m\u001B[0;34m.\u001B[0m\u001B[0m_set_item\u001B[0m\u001B[0;34m(\u001B[0m\u001B[0mkey\u001B[0m\u001B[0;34m,\u001B[0m \u001B[0mvalue\u001B[0m\u001B[0;34m)\u001B[0m\u001B[0;34m\u001B[0m\u001B[0;34m\u001B[0m\u001B[0m\n\u001B[0m\u001B[1;32m   3656\u001B[0m \u001B[0;34m\u001B[0m\u001B[0m\n\u001B[1;32m   3657\u001B[0m     \u001B[0;32mdef\u001B[0m \u001B[0m_setitem_slice\u001B[0m\u001B[0;34m(\u001B[0m\u001B[0mself\u001B[0m\u001B[0;34m,\u001B[0m \u001B[0mkey\u001B[0m\u001B[0;34m:\u001B[0m \u001B[0mslice\u001B[0m\u001B[0;34m,\u001B[0m \u001B[0mvalue\u001B[0m\u001B[0;34m)\u001B[0m\u001B[0;34m:\u001B[0m\u001B[0;34m\u001B[0m\u001B[0;34m\u001B[0m\u001B[0m\n",
      "\u001B[0;32m~/miniforge3/envs/pytorch_m1/lib/python3.8/site-packages/pandas/core/frame.py\u001B[0m in \u001B[0;36m_set_item\u001B[0;34m(self, key, value)\u001B[0m\n\u001B[1;32m   3830\u001B[0m         \u001B[0mensure\u001B[0m \u001B[0mhomogeneity\u001B[0m\u001B[0;34m.\u001B[0m\u001B[0;34m\u001B[0m\u001B[0;34m\u001B[0m\u001B[0m\n\u001B[1;32m   3831\u001B[0m         \"\"\"\n\u001B[0;32m-> 3832\u001B[0;31m         \u001B[0mvalue\u001B[0m \u001B[0;34m=\u001B[0m \u001B[0mself\u001B[0m\u001B[0;34m.\u001B[0m\u001B[0m_sanitize_column\u001B[0m\u001B[0;34m(\u001B[0m\u001B[0mvalue\u001B[0m\u001B[0;34m)\u001B[0m\u001B[0;34m\u001B[0m\u001B[0;34m\u001B[0m\u001B[0m\n\u001B[0m\u001B[1;32m   3833\u001B[0m \u001B[0;34m\u001B[0m\u001B[0m\n\u001B[1;32m   3834\u001B[0m         if (\n",
      "\u001B[0;32m~/miniforge3/envs/pytorch_m1/lib/python3.8/site-packages/pandas/core/frame.py\u001B[0m in \u001B[0;36m_sanitize_column\u001B[0;34m(self, value)\u001B[0m\n\u001B[1;32m   4533\u001B[0m \u001B[0;34m\u001B[0m\u001B[0m\n\u001B[1;32m   4534\u001B[0m         \u001B[0;32mif\u001B[0m \u001B[0mis_list_like\u001B[0m\u001B[0;34m(\u001B[0m\u001B[0mvalue\u001B[0m\u001B[0;34m)\u001B[0m\u001B[0;34m:\u001B[0m\u001B[0;34m\u001B[0m\u001B[0;34m\u001B[0m\u001B[0m\n\u001B[0;32m-> 4535\u001B[0;31m             \u001B[0mcom\u001B[0m\u001B[0;34m.\u001B[0m\u001B[0mrequire_length_match\u001B[0m\u001B[0;34m(\u001B[0m\u001B[0mvalue\u001B[0m\u001B[0;34m,\u001B[0m \u001B[0mself\u001B[0m\u001B[0;34m.\u001B[0m\u001B[0mindex\u001B[0m\u001B[0;34m)\u001B[0m\u001B[0;34m\u001B[0m\u001B[0;34m\u001B[0m\u001B[0m\n\u001B[0m\u001B[1;32m   4536\u001B[0m         \u001B[0;32mreturn\u001B[0m \u001B[0msanitize_array\u001B[0m\u001B[0;34m(\u001B[0m\u001B[0mvalue\u001B[0m\u001B[0;34m,\u001B[0m \u001B[0mself\u001B[0m\u001B[0;34m.\u001B[0m\u001B[0mindex\u001B[0m\u001B[0;34m,\u001B[0m \u001B[0mcopy\u001B[0m\u001B[0;34m=\u001B[0m\u001B[0;32mTrue\u001B[0m\u001B[0;34m,\u001B[0m \u001B[0mallow_2d\u001B[0m\u001B[0;34m=\u001B[0m\u001B[0;32mTrue\u001B[0m\u001B[0;34m)\u001B[0m\u001B[0;34m\u001B[0m\u001B[0;34m\u001B[0m\u001B[0m\n\u001B[1;32m   4537\u001B[0m \u001B[0;34m\u001B[0m\u001B[0m\n",
      "\u001B[0;32m~/miniforge3/envs/pytorch_m1/lib/python3.8/site-packages/pandas/core/common.py\u001B[0m in \u001B[0;36mrequire_length_match\u001B[0;34m(data, index)\u001B[0m\n\u001B[1;32m    555\u001B[0m     \"\"\"\n\u001B[1;32m    556\u001B[0m     \u001B[0;32mif\u001B[0m \u001B[0mlen\u001B[0m\u001B[0;34m(\u001B[0m\u001B[0mdata\u001B[0m\u001B[0;34m)\u001B[0m \u001B[0;34m!=\u001B[0m \u001B[0mlen\u001B[0m\u001B[0;34m(\u001B[0m\u001B[0mindex\u001B[0m\u001B[0;34m)\u001B[0m\u001B[0;34m:\u001B[0m\u001B[0;34m\u001B[0m\u001B[0;34m\u001B[0m\u001B[0m\n\u001B[0;32m--> 557\u001B[0;31m         raise ValueError(\n\u001B[0m\u001B[1;32m    558\u001B[0m             \u001B[0;34m\"Length of values \"\u001B[0m\u001B[0;34m\u001B[0m\u001B[0;34m\u001B[0m\u001B[0m\n\u001B[1;32m    559\u001B[0m             \u001B[0;34mf\"({len(data)}) \"\u001B[0m\u001B[0;34m\u001B[0m\u001B[0;34m\u001B[0m\u001B[0m\n",
      "\u001B[0;31mValueError\u001B[0m: Length of values (6079) does not match length of index (6148)"
     ]
    }
   ],
   "source": [
    "import time, datetime\n",
    "\n",
    "index = 0\n",
    "row = []\n",
    "minutes = 1440\n",
    "\n",
    "form = \"%d-%m-%Y %H:%M\"\n",
    "trends = []\n",
    "\n",
    "\n",
    "def get_time_to_trend(chart, time_interval):\n",
    "    time_map = {}\n",
    "    if minutes == time_interval:\n",
    "        for chart_index, chart_row in chart.iterrows():\n",
    "            day = datetime.datetime.utcfromtimestamp(chart_row['timestamp'])\n",
    "            day = (day - datetime.timedelta(hours=day.hour, minutes=day.minute, seconds=day.second,\n",
    "                                            microseconds=day.microsecond))\n",
    "            timestamp = day.strftime(form)\n",
    "            time_map[timestamp] = chart_row['trends']\n",
    "    return time_map\n",
    "\n",
    "\n",
    "time_to_trend = get_time_to_trend(amazon_chart, 1440)\n",
    "\n",
    "try:\n",
    "    for index, row in amazon_news.iterrows():\n",
    "        day = datetime.datetime.utcfromtimestamp(row['published_time'])\n",
    "        day = (day - datetime.timedelta(hours=day.hour, minutes=day.minute, seconds=day.second,\n",
    "                                        microseconds=day.microsecond))\n",
    "        timestamp = day.strftime(form)\n",
    "        while timestamp not in time_to_trend:\n",
    "            day += datetime.timedelta(hours=24)\n",
    "            timestamp = day.strftime(form)\n",
    "        trends.append(int(time_to_trend[timestamp]))\n",
    "except Exception as e:\n",
    "    print(e)\n",
    "    print(\"it fails\")\n",
    "    print(row, index)\n",
    "amazon_news['trend'] = trends"
   ]
  },
  {
   "cell_type": "code",
   "execution_count": null,
   "metadata": {
    "collapsed": false,
    "pycharm": {
     "name": "#%%\n"
    }
   },
   "outputs": [],
   "source": [
    "amazon_news"
   ]
  },
  {
   "cell_type": "code",
   "execution_count": null,
   "metadata": {
    "collapsed": false,
    "pycharm": {
     "name": "#%%\n"
    }
   },
   "outputs": [],
   "source": [
    "import numpy\n",
    "\n",
    "amazon_news.drop(\"word_tokens\", axis=1, inplace=True)\n",
    "amazon_news.drop(\"article_content\", axis=1, inplace=True)\n",
    "amazon_news.drop(\"published_time\", axis=1, inplace=True)\n",
    "\n",
    "amazon_news"
   ]
  },
  {
   "cell_type": "code",
   "execution_count": null,
   "outputs": [],
   "source": [
    "import pickle\n",
    "\n",
    "pwd = \"/Users/k2rth1k/swm/stock_prediction_g24_p3/\"\n",
    "with open(pwd + 'data_preprocess/pkls/amazon_data_for_training.pkl', 'wb') as f:\n",
    "    pickle.dump(amazon_news, f)"
   ],
   "metadata": {
    "collapsed": false,
    "pycharm": {
     "name": "#%%\n"
    }
   }
  },
  {
   "cell_type": "code",
   "execution_count": null,
   "outputs": [],
   "source": [],
   "metadata": {
    "collapsed": false,
    "pycharm": {
     "name": "#%%"
    }
   }
  }
 ],
 "metadata": {
  "interpreter": {
   "hash": "dba153492da71b72ca386bda186463b4e0de85910fcb623493b512d22b510972"
  },
  "kernelspec": {
   "display_name": "PyCharm (Stock_prediction_G24_P3)",
   "language": "python",
   "name": "python3"
  },
  "language_info": {
   "codemirror_mode": {
    "name": "ipython",
    "version": 3
   },
   "file_extension": ".py",
   "mimetype": "text/x-python",
   "name": "python",
   "nbconvert_exporter": "python",
   "pygments_lexer": "ipython3",
   "version": "3.9.10"
  }
 },
 "nbformat": 4,
 "nbformat_minor": 0
}