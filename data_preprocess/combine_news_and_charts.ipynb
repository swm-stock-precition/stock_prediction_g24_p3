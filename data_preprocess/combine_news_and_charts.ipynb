{
 "cells": [
  {
   "cell_type": "code",
   "execution_count": 1,
   "metadata": {
    "collapsed": true
   },
   "outputs": [],
   "source": [
    "import pandas as pd"
   ]
  },
  {
   "cell_type": "code",
   "execution_count": 7,
   "outputs": [],
   "source": [
    "apple_news = pd.read_pickle(\"apple_news_data.pkl\", compression='infer')\n",
    "amazon_news = pd.read_pickle(\"amazon_news_data.pkl\", compression='infer')\n",
    "apple_chart = pd.read_pickle(\"apple_stock_chart.pkl\", compression='infer')\n",
    "amazon_chart = pd.read_pickle(\"apple_stock_chart.pkl\", compression='infer')"
   ],
   "metadata": {
    "collapsed": false,
    "pycharm": {
     "name": "#%%\n"
    }
   }
  },
  {
   "cell_type": "code",
   "execution_count": 8,
   "outputs": [
    {
     "data": {
      "text/plain": "           published_time                                    article_content\n0     2018-12-01 18:50:00  vishria bird financial group llc acquired a ne...\n1     2018-12-29 02:15:00  siri gets much smarter as apple's investments ...\n2     2018-12-06 00:00:00  apple ( aapl - free report ) closed the most r...\n3     2018-12-17 03:07:00  youtube/sakitech\\napple's 2018 iphone lineup i...\n4     2018-12-29 19:44:00  new york , dec. 27, 2018 /prnewswire/ — invest...\n...                   ...                                                ...\n78050 2018-03-30 05:38:00  apple (nasdaq:aapl) shares sold by edge adviso...\n78051 2018-03-06 19:05:00  stocks were already in a two-day slide when th...\n78052 2018-03-01 17:48:00  options unusual activity most active equity op...\n78053 2018-03-28 15:04:00  forget the iphone 8 and iphone x — here are 7 ...\n78054 2018-03-14 00:00:00  this stock’s up almost 25,000% since 2009 and ...\n\n[77687 rows x 2 columns]",
      "text/html": "<div>\n<style scoped>\n    .dataframe tbody tr th:only-of-type {\n        vertical-align: middle;\n    }\n\n    .dataframe tbody tr th {\n        vertical-align: top;\n    }\n\n    .dataframe thead th {\n        text-align: right;\n    }\n</style>\n<table border=\"1\" class=\"dataframe\">\n  <thead>\n    <tr style=\"text-align: right;\">\n      <th></th>\n      <th>published_time</th>\n      <th>article_content</th>\n    </tr>\n  </thead>\n  <tbody>\n    <tr>\n      <th>0</th>\n      <td>2018-12-01 18:50:00</td>\n      <td>vishria bird financial group llc acquired a ne...</td>\n    </tr>\n    <tr>\n      <th>1</th>\n      <td>2018-12-29 02:15:00</td>\n      <td>siri gets much smarter as apple's investments ...</td>\n    </tr>\n    <tr>\n      <th>2</th>\n      <td>2018-12-06 00:00:00</td>\n      <td>apple ( aapl - free report ) closed the most r...</td>\n    </tr>\n    <tr>\n      <th>3</th>\n      <td>2018-12-17 03:07:00</td>\n      <td>youtube/sakitech\\napple's 2018 iphone lineup i...</td>\n    </tr>\n    <tr>\n      <th>4</th>\n      <td>2018-12-29 19:44:00</td>\n      <td>new york , dec. 27, 2018 /prnewswire/ — invest...</td>\n    </tr>\n    <tr>\n      <th>...</th>\n      <td>...</td>\n      <td>...</td>\n    </tr>\n    <tr>\n      <th>78050</th>\n      <td>2018-03-30 05:38:00</td>\n      <td>apple (nasdaq:aapl) shares sold by edge adviso...</td>\n    </tr>\n    <tr>\n      <th>78051</th>\n      <td>2018-03-06 19:05:00</td>\n      <td>stocks were already in a two-day slide when th...</td>\n    </tr>\n    <tr>\n      <th>78052</th>\n      <td>2018-03-01 17:48:00</td>\n      <td>options unusual activity most active equity op...</td>\n    </tr>\n    <tr>\n      <th>78053</th>\n      <td>2018-03-28 15:04:00</td>\n      <td>forget the iphone 8 and iphone x — here are 7 ...</td>\n    </tr>\n    <tr>\n      <th>78054</th>\n      <td>2018-03-14 00:00:00</td>\n      <td>this stock’s up almost 25,000% since 2009 and ...</td>\n    </tr>\n  </tbody>\n</table>\n<p>77687 rows × 2 columns</p>\n</div>"
     },
     "execution_count": 8,
     "metadata": {},
     "output_type": "execute_result"
    }
   ],
   "source": [
    "apple_news"
   ],
   "metadata": {
    "collapsed": false,
    "pycharm": {
     "name": "#%%\n"
    }
   }
  },
  {
   "cell_type": "code",
   "execution_count": 9,
   "outputs": [
    {
     "data": {
      "text/plain": "           published_time                                    article_content\n1     2018-12-29 02:15:00  siri gets much smarter as apple's investments ...\n5     2018-12-07 14:33:00  home > mutual funds & etfs > etf investing > h...\n6     2018-12-16 14:30:00  stock market power rankings: down is the new u...\n7     2018-12-06 20:30:00  source: shutterstock\\ndividend yield: 3.2%\\nha...\n8     2018-12-10 17:30:00  investors who want an edge in the stock market...\n...                   ...                                                ...\n78034 2018-03-25 16:08:00  san francisco (reuters) - the quartet of techn...\n78037 2018-03-08 16:36:00  while the strategy of investing in internet-re...\n78039 2018-03-20 21:11:00  march 20, 2018 / 9:09 pm / updated 10 minutes ...\n78051 2018-03-06 19:05:00  stocks were already in a two-day slide when th...\n78054 2018-03-14 00:00:00  this stock’s up almost 25,000% since 2009 and ...\n\n[21395 rows x 2 columns]",
      "text/html": "<div>\n<style scoped>\n    .dataframe tbody tr th:only-of-type {\n        vertical-align: middle;\n    }\n\n    .dataframe tbody tr th {\n        vertical-align: top;\n    }\n\n    .dataframe thead th {\n        text-align: right;\n    }\n</style>\n<table border=\"1\" class=\"dataframe\">\n  <thead>\n    <tr style=\"text-align: right;\">\n      <th></th>\n      <th>published_time</th>\n      <th>article_content</th>\n    </tr>\n  </thead>\n  <tbody>\n    <tr>\n      <th>1</th>\n      <td>2018-12-29 02:15:00</td>\n      <td>siri gets much smarter as apple's investments ...</td>\n    </tr>\n    <tr>\n      <th>5</th>\n      <td>2018-12-07 14:33:00</td>\n      <td>home &gt; mutual funds &amp; etfs &gt; etf investing &gt; h...</td>\n    </tr>\n    <tr>\n      <th>6</th>\n      <td>2018-12-16 14:30:00</td>\n      <td>stock market power rankings: down is the new u...</td>\n    </tr>\n    <tr>\n      <th>7</th>\n      <td>2018-12-06 20:30:00</td>\n      <td>source: shutterstock\\ndividend yield: 3.2%\\nha...</td>\n    </tr>\n    <tr>\n      <th>8</th>\n      <td>2018-12-10 17:30:00</td>\n      <td>investors who want an edge in the stock market...</td>\n    </tr>\n    <tr>\n      <th>...</th>\n      <td>...</td>\n      <td>...</td>\n    </tr>\n    <tr>\n      <th>78034</th>\n      <td>2018-03-25 16:08:00</td>\n      <td>san francisco (reuters) - the quartet of techn...</td>\n    </tr>\n    <tr>\n      <th>78037</th>\n      <td>2018-03-08 16:36:00</td>\n      <td>while the strategy of investing in internet-re...</td>\n    </tr>\n    <tr>\n      <th>78039</th>\n      <td>2018-03-20 21:11:00</td>\n      <td>march 20, 2018 / 9:09 pm / updated 10 minutes ...</td>\n    </tr>\n    <tr>\n      <th>78051</th>\n      <td>2018-03-06 19:05:00</td>\n      <td>stocks were already in a two-day slide when th...</td>\n    </tr>\n    <tr>\n      <th>78054</th>\n      <td>2018-03-14 00:00:00</td>\n      <td>this stock’s up almost 25,000% since 2009 and ...</td>\n    </tr>\n  </tbody>\n</table>\n<p>21395 rows × 2 columns</p>\n</div>"
     },
     "execution_count": 9,
     "metadata": {},
     "output_type": "execute_result"
    }
   ],
   "source": [
    "amazon_news"
   ],
   "metadata": {
    "collapsed": false,
    "pycharm": {
     "name": "#%%\n"
    }
   }
  },
  {
   "cell_type": "code",
   "execution_count": 10,
   "outputs": [
    {
     "data": {
      "text/plain": "            date   time     open     high      low    close  volume  \\\n0     2014.06.30  00:00   93.159   94.194   93.028   93.460    2799   \n1     2014.07.01  00:00   93.973   94.546   93.611   93.993    4787   \n2     2014.07.02  00:00   94.344   94.515   93.540   93.902    4476   \n3     2014.07.03  00:00   94.113   94.545   93.661   94.495    3454   \n4     2014.07.07  00:00   94.936   96.423   94.936   96.403    4638   \n...          ...    ...      ...      ...      ...      ...     ...   \n1138  2019.01.28  00:00  156.250  156.490  153.650  155.920   62867   \n1139  2019.01.29  00:00  156.470  161.620  150.980  160.540   66595   \n1140  2019.01.30  00:00  161.680  166.110  160.220  165.660   70344   \n1141  2019.01.31  00:00  166.100  168.980  164.530  166.770   62821   \n1142  2019.02.01  00:00  166.100  168.960  165.900  166.130   51990   \n\n      upward_trend  \n0             True  \n1             True  \n2            False  \n3             True  \n4             True  \n...            ...  \n1138         False  \n1139          True  \n1140          True  \n1141          True  \n1142          True  \n\n[1143 rows x 8 columns]",
      "text/html": "<div>\n<style scoped>\n    .dataframe tbody tr th:only-of-type {\n        vertical-align: middle;\n    }\n\n    .dataframe tbody tr th {\n        vertical-align: top;\n    }\n\n    .dataframe thead th {\n        text-align: right;\n    }\n</style>\n<table border=\"1\" class=\"dataframe\">\n  <thead>\n    <tr style=\"text-align: right;\">\n      <th></th>\n      <th>date</th>\n      <th>time</th>\n      <th>open</th>\n      <th>high</th>\n      <th>low</th>\n      <th>close</th>\n      <th>volume</th>\n      <th>upward_trend</th>\n    </tr>\n  </thead>\n  <tbody>\n    <tr>\n      <th>0</th>\n      <td>2014.06.30</td>\n      <td>00:00</td>\n      <td>93.159</td>\n      <td>94.194</td>\n      <td>93.028</td>\n      <td>93.460</td>\n      <td>2799</td>\n      <td>True</td>\n    </tr>\n    <tr>\n      <th>1</th>\n      <td>2014.07.01</td>\n      <td>00:00</td>\n      <td>93.973</td>\n      <td>94.546</td>\n      <td>93.611</td>\n      <td>93.993</td>\n      <td>4787</td>\n      <td>True</td>\n    </tr>\n    <tr>\n      <th>2</th>\n      <td>2014.07.02</td>\n      <td>00:00</td>\n      <td>94.344</td>\n      <td>94.515</td>\n      <td>93.540</td>\n      <td>93.902</td>\n      <td>4476</td>\n      <td>False</td>\n    </tr>\n    <tr>\n      <th>3</th>\n      <td>2014.07.03</td>\n      <td>00:00</td>\n      <td>94.113</td>\n      <td>94.545</td>\n      <td>93.661</td>\n      <td>94.495</td>\n      <td>3454</td>\n      <td>True</td>\n    </tr>\n    <tr>\n      <th>4</th>\n      <td>2014.07.07</td>\n      <td>00:00</td>\n      <td>94.936</td>\n      <td>96.423</td>\n      <td>94.936</td>\n      <td>96.403</td>\n      <td>4638</td>\n      <td>True</td>\n    </tr>\n    <tr>\n      <th>...</th>\n      <td>...</td>\n      <td>...</td>\n      <td>...</td>\n      <td>...</td>\n      <td>...</td>\n      <td>...</td>\n      <td>...</td>\n      <td>...</td>\n    </tr>\n    <tr>\n      <th>1138</th>\n      <td>2019.01.28</td>\n      <td>00:00</td>\n      <td>156.250</td>\n      <td>156.490</td>\n      <td>153.650</td>\n      <td>155.920</td>\n      <td>62867</td>\n      <td>False</td>\n    </tr>\n    <tr>\n      <th>1139</th>\n      <td>2019.01.29</td>\n      <td>00:00</td>\n      <td>156.470</td>\n      <td>161.620</td>\n      <td>150.980</td>\n      <td>160.540</td>\n      <td>66595</td>\n      <td>True</td>\n    </tr>\n    <tr>\n      <th>1140</th>\n      <td>2019.01.30</td>\n      <td>00:00</td>\n      <td>161.680</td>\n      <td>166.110</td>\n      <td>160.220</td>\n      <td>165.660</td>\n      <td>70344</td>\n      <td>True</td>\n    </tr>\n    <tr>\n      <th>1141</th>\n      <td>2019.01.31</td>\n      <td>00:00</td>\n      <td>166.100</td>\n      <td>168.980</td>\n      <td>164.530</td>\n      <td>166.770</td>\n      <td>62821</td>\n      <td>True</td>\n    </tr>\n    <tr>\n      <th>1142</th>\n      <td>2019.02.01</td>\n      <td>00:00</td>\n      <td>166.100</td>\n      <td>168.960</td>\n      <td>165.900</td>\n      <td>166.130</td>\n      <td>51990</td>\n      <td>True</td>\n    </tr>\n  </tbody>\n</table>\n<p>1143 rows × 8 columns</p>\n</div>"
     },
     "execution_count": 10,
     "metadata": {},
     "output_type": "execute_result"
    }
   ],
   "source": [
    "apple_chart"
   ],
   "metadata": {
    "collapsed": false,
    "pycharm": {
     "name": "#%%\n"
    }
   }
  },
  {
   "cell_type": "code",
   "execution_count": 11,
   "outputs": [
    {
     "data": {
      "text/plain": "            date   time     open     high      low    close  volume  \\\n0     2014.06.30  00:00   93.159   94.194   93.028   93.460    2799   \n1     2014.07.01  00:00   93.973   94.546   93.611   93.993    4787   \n2     2014.07.02  00:00   94.344   94.515   93.540   93.902    4476   \n3     2014.07.03  00:00   94.113   94.545   93.661   94.495    3454   \n4     2014.07.07  00:00   94.936   96.423   94.936   96.403    4638   \n...          ...    ...      ...      ...      ...      ...     ...   \n1138  2019.01.28  00:00  156.250  156.490  153.650  155.920   62867   \n1139  2019.01.29  00:00  156.470  161.620  150.980  160.540   66595   \n1140  2019.01.30  00:00  161.680  166.110  160.220  165.660   70344   \n1141  2019.01.31  00:00  166.100  168.980  164.530  166.770   62821   \n1142  2019.02.01  00:00  166.100  168.960  165.900  166.130   51990   \n\n      upward_trend  \n0             True  \n1             True  \n2            False  \n3             True  \n4             True  \n...            ...  \n1138         False  \n1139          True  \n1140          True  \n1141          True  \n1142          True  \n\n[1143 rows x 8 columns]",
      "text/html": "<div>\n<style scoped>\n    .dataframe tbody tr th:only-of-type {\n        vertical-align: middle;\n    }\n\n    .dataframe tbody tr th {\n        vertical-align: top;\n    }\n\n    .dataframe thead th {\n        text-align: right;\n    }\n</style>\n<table border=\"1\" class=\"dataframe\">\n  <thead>\n    <tr style=\"text-align: right;\">\n      <th></th>\n      <th>date</th>\n      <th>time</th>\n      <th>open</th>\n      <th>high</th>\n      <th>low</th>\n      <th>close</th>\n      <th>volume</th>\n      <th>upward_trend</th>\n    </tr>\n  </thead>\n  <tbody>\n    <tr>\n      <th>0</th>\n      <td>2014.06.30</td>\n      <td>00:00</td>\n      <td>93.159</td>\n      <td>94.194</td>\n      <td>93.028</td>\n      <td>93.460</td>\n      <td>2799</td>\n      <td>True</td>\n    </tr>\n    <tr>\n      <th>1</th>\n      <td>2014.07.01</td>\n      <td>00:00</td>\n      <td>93.973</td>\n      <td>94.546</td>\n      <td>93.611</td>\n      <td>93.993</td>\n      <td>4787</td>\n      <td>True</td>\n    </tr>\n    <tr>\n      <th>2</th>\n      <td>2014.07.02</td>\n      <td>00:00</td>\n      <td>94.344</td>\n      <td>94.515</td>\n      <td>93.540</td>\n      <td>93.902</td>\n      <td>4476</td>\n      <td>False</td>\n    </tr>\n    <tr>\n      <th>3</th>\n      <td>2014.07.03</td>\n      <td>00:00</td>\n      <td>94.113</td>\n      <td>94.545</td>\n      <td>93.661</td>\n      <td>94.495</td>\n      <td>3454</td>\n      <td>True</td>\n    </tr>\n    <tr>\n      <th>4</th>\n      <td>2014.07.07</td>\n      <td>00:00</td>\n      <td>94.936</td>\n      <td>96.423</td>\n      <td>94.936</td>\n      <td>96.403</td>\n      <td>4638</td>\n      <td>True</td>\n    </tr>\n    <tr>\n      <th>...</th>\n      <td>...</td>\n      <td>...</td>\n      <td>...</td>\n      <td>...</td>\n      <td>...</td>\n      <td>...</td>\n      <td>...</td>\n      <td>...</td>\n    </tr>\n    <tr>\n      <th>1138</th>\n      <td>2019.01.28</td>\n      <td>00:00</td>\n      <td>156.250</td>\n      <td>156.490</td>\n      <td>153.650</td>\n      <td>155.920</td>\n      <td>62867</td>\n      <td>False</td>\n    </tr>\n    <tr>\n      <th>1139</th>\n      <td>2019.01.29</td>\n      <td>00:00</td>\n      <td>156.470</td>\n      <td>161.620</td>\n      <td>150.980</td>\n      <td>160.540</td>\n      <td>66595</td>\n      <td>True</td>\n    </tr>\n    <tr>\n      <th>1140</th>\n      <td>2019.01.30</td>\n      <td>00:00</td>\n      <td>161.680</td>\n      <td>166.110</td>\n      <td>160.220</td>\n      <td>165.660</td>\n      <td>70344</td>\n      <td>True</td>\n    </tr>\n    <tr>\n      <th>1141</th>\n      <td>2019.01.31</td>\n      <td>00:00</td>\n      <td>166.100</td>\n      <td>168.980</td>\n      <td>164.530</td>\n      <td>166.770</td>\n      <td>62821</td>\n      <td>True</td>\n    </tr>\n    <tr>\n      <th>1142</th>\n      <td>2019.02.01</td>\n      <td>00:00</td>\n      <td>166.100</td>\n      <td>168.960</td>\n      <td>165.900</td>\n      <td>166.130</td>\n      <td>51990</td>\n      <td>True</td>\n    </tr>\n  </tbody>\n</table>\n<p>1143 rows × 8 columns</p>\n</div>"
     },
     "execution_count": 11,
     "metadata": {},
     "output_type": "execute_result"
    }
   ],
   "source": [
    "amazon_chart"
   ],
   "metadata": {
    "collapsed": false,
    "pycharm": {
     "name": "#%%\n"
    }
   }
  }
 ],
 "metadata": {
  "kernelspec": {
   "display_name": "Python 3",
   "language": "python",
   "name": "python3"
  },
  "language_info": {
   "codemirror_mode": {
    "name": "ipython",
    "version": 2
   },
   "file_extension": ".py",
   "mimetype": "text/x-python",
   "name": "python",
   "nbconvert_exporter": "python",
   "pygments_lexer": "ipython2",
   "version": "2.7.6"
  }
 },
 "nbformat": 4,
 "nbformat_minor": 0
}