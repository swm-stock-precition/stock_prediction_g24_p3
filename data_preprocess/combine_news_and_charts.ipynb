{
 "cells": [
  {
   "cell_type": "code",
   "execution_count": 122,
   "metadata": {
    "collapsed": true
   },
   "outputs": [],
   "source": [
    "from datetime import timedelta\n",
    "from datetime import datetime\n",
    "import pandas as pd\n",
    "from datetime import timezone\n",
    "import numpy as np\n",
    "import pickle"
   ]
  },
  {
   "cell_type": "code",
   "execution_count": 123,
   "metadata": {
    "collapsed": false,
    "pycharm": {
     "name": "#%%\n"
    }
   },
   "outputs": [],
   "source": [
    "import json\n",
    "\n",
    "config = json.load(open(\"../configure.json\"))\n",
    "pkls_dir=config['pkls_dir']\n",
    "start_date = datetime.fromisoformat(config['start_time']).astimezone(tz=timezone.utc).replace(tzinfo=None).timestamp()\n",
    "end_date = datetime.fromisoformat(config['end_time']).astimezone(tz=timezone.utc).replace(tzinfo=None).timestamp()"
   ]
  },
  {
   "cell_type": "code",
   "execution_count": 124,
   "metadata": {
    "collapsed": false,
    "pycharm": {
     "name": "#%%\n"
    }
   },
   "outputs": [],
   "source": [
    "apple_news = pd.read_pickle(\"pkls/apple_news_2gram.pkl\", compression='infer')\n",
    "amazon_news = pd.read_pickle(\"pkls/amazon_news_2gram.pkl\", compression='infer')\n",
    "apple_chart = pd.read_pickle(\"pkls/apple_stock_chart.pkl\", compression='infer')\n",
    "amazon_chart = pd.read_pickle(\"pkls/apple_stock_chart.pkl\", compression='infer')"
   ]
  },
  {
   "cell_type": "code",
   "execution_count": 125,
   "metadata": {
    "collapsed": false,
    "pycharm": {
     "name": "#%%\n"
    }
   },
   "outputs": [
    {
     "data": {
      "text/plain": "       published_time                                    article_content  \\\n12869    1.514876e+09  by nigam arora\\nthe practical way to take adva...   \n12886    1.514876e+09  here are some things going on today in your wo...   \n13804    1.514876e+09  what happened shares of many optical networkin...   \n11106    1.514876e+09  by ciara linnane and tomi kilgore, marketwatch...   \n11837    1.514876e+09  by ryan vlastelica\\nto simply match the market...   \n...               ...                                                ...   \n73836    1.519896e+09  don't get too discouraged by wednesday's big m...   \n77943    1.519901e+09  san francisco -- music-streaming pioneer spoti...   \n75095    1.519908e+09  share tweet \\nby ben hirschler \\nlondon (reute...   \n77284    1.519910e+09  stocks won't test the correction lows february...   \n73473    1.519911e+09  official notice nr: 157477 title: rule based p...   \n\n                                             word_tokens  \\\n12869  [practic, way, take, advantag, januari, effect...   \n12886  [go, today, world, tech, bellweth, tech, march...   \n13804  [mani, optic, decemb, accord, data, p, global,...   \n11106  [gain, vener, blue, chip, ge, stock, appl, par...   \n11837  [simpli, match, market, may, need, take, lot, ...   \n...                                                  ...   \n73836  [get, wednesday, big, market, jim, told, mad, ...   \n77943  [san, francisco, pioneer, attract, new, crowd,...   \n75095  [share, tweet, ben, race, scoop, patient, heal...   \n77284  [stock, wo, test, correct, februari, kevin, co...   \n73473  [offici, notic, titl, rule, base, paramet, adj...   \n\n                                                features  \n12869  [0, 0, 0, 0, 0, 0, 0, 0, 0, 0, 0, 0, 0, 0, 0, ...  \n12886  [0, 0, 0, 0, 0, 0, 0, 0, 0, 0, 0, 0, 0, 0, 0, ...  \n13804  [0, 0, 0, 0, 1, 0, 0, 0, 0, 0, 0, 0, 0, 0, 0, ...  \n11106  [0, 0, 0, 0, 0, 0, 0, 0, 0, 0, 0, 0, 0, 0, 0, ...  \n11837  [0, 0, 0, 0, 1, 0, 0, 1, 1, 0, 0, 0, 0, 0, 0, ...  \n...                                                  ...  \n73836  [0, 0, 0, 0, 0, 0, 0, 0, 0, 0, 0, 0, 0, 0, 0, ...  \n77943  [0, 0, 0, 0, 0, 0, 0, 0, 0, 0, 0, 0, 0, 0, 0, ...  \n75095  [0, 0, 0, 0, 0, 0, 0, 0, 0, 0, 0, 0, 0, 0, 0, ...  \n77284  [0, 0, 0, 0, 0, 0, 0, 0, 0, 0, 0, 0, 0, 0, 0, ...  \n73473  [0, 0, 0, 0, 0, 0, 0, 0, 0, 0, 0, 0, 0, 0, 0, ...  \n\n[1115 rows x 4 columns]",
      "text/html": "<div>\n<style scoped>\n    .dataframe tbody tr th:only-of-type {\n        vertical-align: middle;\n    }\n\n    .dataframe tbody tr th {\n        vertical-align: top;\n    }\n\n    .dataframe thead th {\n        text-align: right;\n    }\n</style>\n<table border=\"1\" class=\"dataframe\">\n  <thead>\n    <tr style=\"text-align: right;\">\n      <th></th>\n      <th>published_time</th>\n      <th>article_content</th>\n      <th>word_tokens</th>\n      <th>features</th>\n    </tr>\n  </thead>\n  <tbody>\n    <tr>\n      <th>12869</th>\n      <td>1.514876e+09</td>\n      <td>by nigam arora\\nthe practical way to take adva...</td>\n      <td>[practic, way, take, advantag, januari, effect...</td>\n      <td>[0, 0, 0, 0, 0, 0, 0, 0, 0, 0, 0, 0, 0, 0, 0, ...</td>\n    </tr>\n    <tr>\n      <th>12886</th>\n      <td>1.514876e+09</td>\n      <td>here are some things going on today in your wo...</td>\n      <td>[go, today, world, tech, bellweth, tech, march...</td>\n      <td>[0, 0, 0, 0, 0, 0, 0, 0, 0, 0, 0, 0, 0, 0, 0, ...</td>\n    </tr>\n    <tr>\n      <th>13804</th>\n      <td>1.514876e+09</td>\n      <td>what happened shares of many optical networkin...</td>\n      <td>[mani, optic, decemb, accord, data, p, global,...</td>\n      <td>[0, 0, 0, 0, 1, 0, 0, 0, 0, 0, 0, 0, 0, 0, 0, ...</td>\n    </tr>\n    <tr>\n      <th>11106</th>\n      <td>1.514876e+09</td>\n      <td>by ciara linnane and tomi kilgore, marketwatch...</td>\n      <td>[gain, vener, blue, chip, ge, stock, appl, par...</td>\n      <td>[0, 0, 0, 0, 0, 0, 0, 0, 0, 0, 0, 0, 0, 0, 0, ...</td>\n    </tr>\n    <tr>\n      <th>11837</th>\n      <td>1.514876e+09</td>\n      <td>by ryan vlastelica\\nto simply match the market...</td>\n      <td>[simpli, match, market, may, need, take, lot, ...</td>\n      <td>[0, 0, 0, 0, 1, 0, 0, 1, 1, 0, 0, 0, 0, 0, 0, ...</td>\n    </tr>\n    <tr>\n      <th>...</th>\n      <td>...</td>\n      <td>...</td>\n      <td>...</td>\n      <td>...</td>\n    </tr>\n    <tr>\n      <th>73836</th>\n      <td>1.519896e+09</td>\n      <td>don't get too discouraged by wednesday's big m...</td>\n      <td>[get, wednesday, big, market, jim, told, mad, ...</td>\n      <td>[0, 0, 0, 0, 0, 0, 0, 0, 0, 0, 0, 0, 0, 0, 0, ...</td>\n    </tr>\n    <tr>\n      <th>77943</th>\n      <td>1.519901e+09</td>\n      <td>san francisco -- music-streaming pioneer spoti...</td>\n      <td>[san, francisco, pioneer, attract, new, crowd,...</td>\n      <td>[0, 0, 0, 0, 0, 0, 0, 0, 0, 0, 0, 0, 0, 0, 0, ...</td>\n    </tr>\n    <tr>\n      <th>75095</th>\n      <td>1.519908e+09</td>\n      <td>share tweet \\nby ben hirschler \\nlondon (reute...</td>\n      <td>[share, tweet, ben, race, scoop, patient, heal...</td>\n      <td>[0, 0, 0, 0, 0, 0, 0, 0, 0, 0, 0, 0, 0, 0, 0, ...</td>\n    </tr>\n    <tr>\n      <th>77284</th>\n      <td>1.519910e+09</td>\n      <td>stocks won't test the correction lows february...</td>\n      <td>[stock, wo, test, correct, februari, kevin, co...</td>\n      <td>[0, 0, 0, 0, 0, 0, 0, 0, 0, 0, 0, 0, 0, 0, 0, ...</td>\n    </tr>\n    <tr>\n      <th>73473</th>\n      <td>1.519911e+09</td>\n      <td>official notice nr: 157477 title: rule based p...</td>\n      <td>[offici, notic, titl, rule, base, paramet, adj...</td>\n      <td>[0, 0, 0, 0, 0, 0, 0, 0, 0, 0, 0, 0, 0, 0, 0, ...</td>\n    </tr>\n  </tbody>\n</table>\n<p>1115 rows × 4 columns</p>\n</div>"
     },
     "execution_count": 125,
     "metadata": {},
     "output_type": "execute_result"
    }
   ],
   "source": [
    "apple_news"
   ]
  },
  {
   "cell_type": "code",
   "execution_count": 126,
   "metadata": {
    "collapsed": false,
    "pycharm": {
     "name": "#%%\n"
    }
   },
   "outputs": [
    {
     "data": {
      "text/plain": "       published_time                                    article_content  \\\n12869    1.514876e+09  by nigam arora\\nthe practical way to take adva...   \n12886    1.514876e+09  here are some things going on today in your wo...   \n13804    1.514876e+09  what happened shares of many optical networkin...   \n11106    1.514876e+09  by ciara linnane and tomi kilgore, marketwatch...   \n11837    1.514876e+09  by ryan vlastelica\\nto simply match the market...   \n...               ...                                                ...   \n73836    1.519896e+09  don't get too discouraged by wednesday's big m...   \n77943    1.519901e+09  san francisco -- music-streaming pioneer spoti...   \n75095    1.519908e+09  share tweet \\nby ben hirschler \\nlondon (reute...   \n77284    1.519910e+09  stocks won't test the correction lows february...   \n73473    1.519911e+09  official notice nr: 157477 title: rule based p...   \n\n                                             word_tokens  \\\n12869  [practic, way, take, advantag, januari, effect...   \n12886  [go, today, world, tech, bellweth, tech, march...   \n13804  [mani, optic, decemb, accord, data, p, global,...   \n11106  [gain, vener, blue, chip, ge, stock, appl, par...   \n11837  [simpli, match, market, may, need, take, lot, ...   \n...                                                  ...   \n73836  [get, wednesday, big, market, jim, told, mad, ...   \n77943  [san, francisco, pioneer, attract, new, crowd,...   \n75095  [share, tweet, ben, race, scoop, patient, heal...   \n77284  [stock, wo, test, correct, februari, kevin, co...   \n73473  [offici, notic, titl, rule, base, paramet, adj...   \n\n                                                features  \n12869  [0, 0, 0, 0, 0, 0, 0, 0, 0, 0, 0, 0, 0, 0, 0, ...  \n12886  [0, 0, 0, 0, 0, 0, 0, 0, 0, 0, 0, 0, 0, 0, 0, ...  \n13804  [0, 0, 0, 0, 1, 0, 0, 0, 0, 0, 0, 0, 0, 0, 0, ...  \n11106  [0, 0, 0, 0, 0, 0, 0, 0, 0, 0, 0, 0, 0, 0, 0, ...  \n11837  [0, 0, 0, 0, 1, 0, 0, 1, 1, 0, 0, 0, 0, 0, 0, ...  \n...                                                  ...  \n73836  [0, 0, 0, 0, 0, 0, 0, 0, 0, 0, 0, 0, 0, 0, 0, ...  \n77943  [0, 0, 0, 0, 0, 0, 0, 0, 0, 0, 0, 0, 0, 0, 0, ...  \n75095  [0, 0, 0, 0, 0, 0, 0, 0, 0, 0, 0, 0, 0, 0, 0, ...  \n77284  [0, 0, 0, 0, 0, 0, 0, 0, 0, 0, 0, 0, 0, 0, 0, ...  \n73473  [0, 0, 0, 0, 0, 0, 0, 0, 0, 0, 0, 0, 0, 0, 0, ...  \n\n[1115 rows x 4 columns]",
      "text/html": "<div>\n<style scoped>\n    .dataframe tbody tr th:only-of-type {\n        vertical-align: middle;\n    }\n\n    .dataframe tbody tr th {\n        vertical-align: top;\n    }\n\n    .dataframe thead th {\n        text-align: right;\n    }\n</style>\n<table border=\"1\" class=\"dataframe\">\n  <thead>\n    <tr style=\"text-align: right;\">\n      <th></th>\n      <th>published_time</th>\n      <th>article_content</th>\n      <th>word_tokens</th>\n      <th>features</th>\n    </tr>\n  </thead>\n  <tbody>\n    <tr>\n      <th>12869</th>\n      <td>1.514876e+09</td>\n      <td>by nigam arora\\nthe practical way to take adva...</td>\n      <td>[practic, way, take, advantag, januari, effect...</td>\n      <td>[0, 0, 0, 0, 0, 0, 0, 0, 0, 0, 0, 0, 0, 0, 0, ...</td>\n    </tr>\n    <tr>\n      <th>12886</th>\n      <td>1.514876e+09</td>\n      <td>here are some things going on today in your wo...</td>\n      <td>[go, today, world, tech, bellweth, tech, march...</td>\n      <td>[0, 0, 0, 0, 0, 0, 0, 0, 0, 0, 0, 0, 0, 0, 0, ...</td>\n    </tr>\n    <tr>\n      <th>13804</th>\n      <td>1.514876e+09</td>\n      <td>what happened shares of many optical networkin...</td>\n      <td>[mani, optic, decemb, accord, data, p, global,...</td>\n      <td>[0, 0, 0, 0, 1, 0, 0, 0, 0, 0, 0, 0, 0, 0, 0, ...</td>\n    </tr>\n    <tr>\n      <th>11106</th>\n      <td>1.514876e+09</td>\n      <td>by ciara linnane and tomi kilgore, marketwatch...</td>\n      <td>[gain, vener, blue, chip, ge, stock, appl, par...</td>\n      <td>[0, 0, 0, 0, 0, 0, 0, 0, 0, 0, 0, 0, 0, 0, 0, ...</td>\n    </tr>\n    <tr>\n      <th>11837</th>\n      <td>1.514876e+09</td>\n      <td>by ryan vlastelica\\nto simply match the market...</td>\n      <td>[simpli, match, market, may, need, take, lot, ...</td>\n      <td>[0, 0, 0, 0, 1, 0, 0, 1, 1, 0, 0, 0, 0, 0, 0, ...</td>\n    </tr>\n    <tr>\n      <th>...</th>\n      <td>...</td>\n      <td>...</td>\n      <td>...</td>\n      <td>...</td>\n    </tr>\n    <tr>\n      <th>73836</th>\n      <td>1.519896e+09</td>\n      <td>don't get too discouraged by wednesday's big m...</td>\n      <td>[get, wednesday, big, market, jim, told, mad, ...</td>\n      <td>[0, 0, 0, 0, 0, 0, 0, 0, 0, 0, 0, 0, 0, 0, 0, ...</td>\n    </tr>\n    <tr>\n      <th>77943</th>\n      <td>1.519901e+09</td>\n      <td>san francisco -- music-streaming pioneer spoti...</td>\n      <td>[san, francisco, pioneer, attract, new, crowd,...</td>\n      <td>[0, 0, 0, 0, 0, 0, 0, 0, 0, 0, 0, 0, 0, 0, 0, ...</td>\n    </tr>\n    <tr>\n      <th>75095</th>\n      <td>1.519908e+09</td>\n      <td>share tweet \\nby ben hirschler \\nlondon (reute...</td>\n      <td>[share, tweet, ben, race, scoop, patient, heal...</td>\n      <td>[0, 0, 0, 0, 0, 0, 0, 0, 0, 0, 0, 0, 0, 0, 0, ...</td>\n    </tr>\n    <tr>\n      <th>77284</th>\n      <td>1.519910e+09</td>\n      <td>stocks won't test the correction lows february...</td>\n      <td>[stock, wo, test, correct, februari, kevin, co...</td>\n      <td>[0, 0, 0, 0, 0, 0, 0, 0, 0, 0, 0, 0, 0, 0, 0, ...</td>\n    </tr>\n    <tr>\n      <th>73473</th>\n      <td>1.519911e+09</td>\n      <td>official notice nr: 157477 title: rule based p...</td>\n      <td>[offici, notic, titl, rule, base, paramet, adj...</td>\n      <td>[0, 0, 0, 0, 0, 0, 0, 0, 0, 0, 0, 0, 0, 0, 0, ...</td>\n    </tr>\n  </tbody>\n</table>\n<p>1115 rows × 4 columns</p>\n</div>"
     },
     "execution_count": 126,
     "metadata": {},
     "output_type": "execute_result"
    }
   ],
   "source": [
    "amazon_news"
   ]
  },
  {
   "cell_type": "code",
   "execution_count": 127,
   "metadata": {
    "collapsed": false,
    "pycharm": {
     "name": "#%%\n"
    }
   },
   "outputs": [
    {
     "data": {
      "text/plain": "       published_time                                    article_content  \\\n12869    1.514876e+09  by nigam arora\\nthe practical way to take adva...   \n12886    1.514876e+09  here are some things going on today in your wo...   \n13804    1.514876e+09  what happened shares of many optical networkin...   \n11106    1.514876e+09  by ciara linnane and tomi kilgore, marketwatch...   \n11837    1.514876e+09  by ryan vlastelica\\nto simply match the market...   \n...               ...                                                ...   \n73836    1.519896e+09  don't get too discouraged by wednesday's big m...   \n77943    1.519901e+09  san francisco -- music-streaming pioneer spoti...   \n75095    1.519908e+09  share tweet \\nby ben hirschler \\nlondon (reute...   \n77284    1.519910e+09  stocks won't test the correction lows february...   \n73473    1.519911e+09  official notice nr: 157477 title: rule based p...   \n\n                                             word_tokens  \\\n12869  [practic, way, take, advantag, januari, effect...   \n12886  [go, today, world, tech, bellweth, tech, march...   \n13804  [mani, optic, decemb, accord, data, p, global,...   \n11106  [gain, vener, blue, chip, ge, stock, appl, par...   \n11837  [simpli, match, market, may, need, take, lot, ...   \n...                                                  ...   \n73836  [get, wednesday, big, market, jim, told, mad, ...   \n77943  [san, francisco, pioneer, attract, new, crowd,...   \n75095  [share, tweet, ben, race, scoop, patient, heal...   \n77284  [stock, wo, test, correct, februari, kevin, co...   \n73473  [offici, notic, titl, rule, base, paramet, adj...   \n\n                                                features  trend  \n12869  [0, 0, 0, 0, 0, 0, 0, 0, 0, 0, 0, 0, 0, 0, 0, ...      0  \n12886  [0, 0, 0, 0, 0, 0, 0, 0, 0, 0, 0, 0, 0, 0, 0, ...      0  \n13804  [0, 0, 0, 0, 1, 0, 0, 0, 0, 0, 0, 0, 0, 0, 0, ...      0  \n11106  [0, 0, 0, 0, 0, 0, 0, 0, 0, 0, 0, 0, 0, 0, 0, ...      0  \n11837  [0, 0, 0, 0, 1, 0, 0, 1, 1, 0, 0, 0, 0, 0, 0, ...      0  \n...                                                  ...    ...  \n73836  [0, 0, 0, 0, 0, 0, 0, 0, 0, 0, 0, 0, 0, 0, 0, ...      0  \n77943  [0, 0, 0, 0, 0, 0, 0, 0, 0, 0, 0, 0, 0, 0, 0, ...      0  \n75095  [0, 0, 0, 0, 0, 0, 0, 0, 0, 0, 0, 0, 0, 0, 0, ...      0  \n77284  [0, 0, 0, 0, 0, 0, 0, 0, 0, 0, 0, 0, 0, 0, 0, ...      0  \n73473  [0, 0, 0, 0, 0, 0, 0, 0, 0, 0, 0, 0, 0, 0, 0, ...      0  \n\n[1115 rows x 5 columns]",
      "text/html": "<div>\n<style scoped>\n    .dataframe tbody tr th:only-of-type {\n        vertical-align: middle;\n    }\n\n    .dataframe tbody tr th {\n        vertical-align: top;\n    }\n\n    .dataframe thead th {\n        text-align: right;\n    }\n</style>\n<table border=\"1\" class=\"dataframe\">\n  <thead>\n    <tr style=\"text-align: right;\">\n      <th></th>\n      <th>published_time</th>\n      <th>article_content</th>\n      <th>word_tokens</th>\n      <th>features</th>\n      <th>trend</th>\n    </tr>\n  </thead>\n  <tbody>\n    <tr>\n      <th>12869</th>\n      <td>1.514876e+09</td>\n      <td>by nigam arora\\nthe practical way to take adva...</td>\n      <td>[practic, way, take, advantag, januari, effect...</td>\n      <td>[0, 0, 0, 0, 0, 0, 0, 0, 0, 0, 0, 0, 0, 0, 0, ...</td>\n      <td>0</td>\n    </tr>\n    <tr>\n      <th>12886</th>\n      <td>1.514876e+09</td>\n      <td>here are some things going on today in your wo...</td>\n      <td>[go, today, world, tech, bellweth, tech, march...</td>\n      <td>[0, 0, 0, 0, 0, 0, 0, 0, 0, 0, 0, 0, 0, 0, 0, ...</td>\n      <td>0</td>\n    </tr>\n    <tr>\n      <th>13804</th>\n      <td>1.514876e+09</td>\n      <td>what happened shares of many optical networkin...</td>\n      <td>[mani, optic, decemb, accord, data, p, global,...</td>\n      <td>[0, 0, 0, 0, 1, 0, 0, 0, 0, 0, 0, 0, 0, 0, 0, ...</td>\n      <td>0</td>\n    </tr>\n    <tr>\n      <th>11106</th>\n      <td>1.514876e+09</td>\n      <td>by ciara linnane and tomi kilgore, marketwatch...</td>\n      <td>[gain, vener, blue, chip, ge, stock, appl, par...</td>\n      <td>[0, 0, 0, 0, 0, 0, 0, 0, 0, 0, 0, 0, 0, 0, 0, ...</td>\n      <td>0</td>\n    </tr>\n    <tr>\n      <th>11837</th>\n      <td>1.514876e+09</td>\n      <td>by ryan vlastelica\\nto simply match the market...</td>\n      <td>[simpli, match, market, may, need, take, lot, ...</td>\n      <td>[0, 0, 0, 0, 1, 0, 0, 1, 1, 0, 0, 0, 0, 0, 0, ...</td>\n      <td>0</td>\n    </tr>\n    <tr>\n      <th>...</th>\n      <td>...</td>\n      <td>...</td>\n      <td>...</td>\n      <td>...</td>\n      <td>...</td>\n    </tr>\n    <tr>\n      <th>73836</th>\n      <td>1.519896e+09</td>\n      <td>don't get too discouraged by wednesday's big m...</td>\n      <td>[get, wednesday, big, market, jim, told, mad, ...</td>\n      <td>[0, 0, 0, 0, 0, 0, 0, 0, 0, 0, 0, 0, 0, 0, 0, ...</td>\n      <td>0</td>\n    </tr>\n    <tr>\n      <th>77943</th>\n      <td>1.519901e+09</td>\n      <td>san francisco -- music-streaming pioneer spoti...</td>\n      <td>[san, francisco, pioneer, attract, new, crowd,...</td>\n      <td>[0, 0, 0, 0, 0, 0, 0, 0, 0, 0, 0, 0, 0, 0, 0, ...</td>\n      <td>0</td>\n    </tr>\n    <tr>\n      <th>75095</th>\n      <td>1.519908e+09</td>\n      <td>share tweet \\nby ben hirschler \\nlondon (reute...</td>\n      <td>[share, tweet, ben, race, scoop, patient, heal...</td>\n      <td>[0, 0, 0, 0, 0, 0, 0, 0, 0, 0, 0, 0, 0, 0, 0, ...</td>\n      <td>0</td>\n    </tr>\n    <tr>\n      <th>77284</th>\n      <td>1.519910e+09</td>\n      <td>stocks won't test the correction lows february...</td>\n      <td>[stock, wo, test, correct, februari, kevin, co...</td>\n      <td>[0, 0, 0, 0, 0, 0, 0, 0, 0, 0, 0, 0, 0, 0, 0, ...</td>\n      <td>0</td>\n    </tr>\n    <tr>\n      <th>73473</th>\n      <td>1.519911e+09</td>\n      <td>official notice nr: 157477 title: rule based p...</td>\n      <td>[offici, notic, titl, rule, base, paramet, adj...</td>\n      <td>[0, 0, 0, 0, 0, 0, 0, 0, 0, 0, 0, 0, 0, 0, 0, ...</td>\n      <td>0</td>\n    </tr>\n  </tbody>\n</table>\n<p>1115 rows × 5 columns</p>\n</div>"
     },
     "execution_count": 127,
     "metadata": {},
     "output_type": "execute_result"
    }
   ],
   "source": [
    "amazon_news['trend'] = [0 for i in range(0, len(amazon_news))]\n",
    "amazon_news"
   ]
  },
  {
   "cell_type": "code",
   "execution_count": 128,
   "metadata": {
    "collapsed": false,
    "pycharm": {
     "name": "#%%\n"
    }
   },
   "outputs": [],
   "source": [
    "import time, datetime\n",
    "\n",
    "index = 0\n",
    "row = []\n",
    "minutes = 1440\n",
    "\n",
    "form = \"%d-%m-%Y %H:%M\"\n",
    "trends = []\n",
    "\n",
    "\n",
    "def get_time_to_trend(chart, time_interval):\n",
    "    time_map = {}\n",
    "    if minutes == time_interval:\n",
    "        for chart_index, chart_row in chart.iterrows():\n",
    "            day = datetime.datetime.utcfromtimestamp(chart_row['timestamp'])\n",
    "            day = (day - datetime.timedelta(hours=day.hour, minutes=day.minute, seconds=day.second,\n",
    "                                            microseconds=day.microsecond))\n",
    "            timestamp = day.strftime(form)\n",
    "            time_map[timestamp] = chart_row['trends']\n",
    "    return time_map\n",
    "\n",
    "\n",
    "time_to_trend = get_time_to_trend(amazon_chart, 1440)\n",
    "\n",
    "try:\n",
    "    for index, row in amazon_news.iterrows():\n",
    "        day = datetime.datetime.utcfromtimestamp(row['published_time'])\n",
    "        day = (day - datetime.timedelta(hours=day.hour, minutes=day.minute, seconds=day.second,\n",
    "                                        microseconds=day.microsecond))\n",
    "        timestamp = day.strftime(form)\n",
    "        while timestamp not in time_to_trend:\n",
    "            day += datetime.timedelta(hours=24)\n",
    "            timestamp = day.strftime(form)\n",
    "        trends.append(int(time_to_trend[timestamp]))\n",
    "except Exception as e:\n",
    "    print(e)\n",
    "    print(\"it fails\")\n",
    "    print(row, index)\n",
    "amazon_news['trend'] = trends"
   ]
  },
  {
   "cell_type": "code",
   "execution_count": 129,
   "metadata": {
    "collapsed": false,
    "pycharm": {
     "name": "#%%\n"
    }
   },
   "outputs": [
    {
     "data": {
      "text/plain": "       published_time                                    article_content  \\\n12869    1.514876e+09  by nigam arora\\nthe practical way to take adva...   \n12886    1.514876e+09  here are some things going on today in your wo...   \n13804    1.514876e+09  what happened shares of many optical networkin...   \n11106    1.514876e+09  by ciara linnane and tomi kilgore, marketwatch...   \n11837    1.514876e+09  by ryan vlastelica\\nto simply match the market...   \n...               ...                                                ...   \n73836    1.519896e+09  don't get too discouraged by wednesday's big m...   \n77943    1.519901e+09  san francisco -- music-streaming pioneer spoti...   \n75095    1.519908e+09  share tweet \\nby ben hirschler \\nlondon (reute...   \n77284    1.519910e+09  stocks won't test the correction lows february...   \n73473    1.519911e+09  official notice nr: 157477 title: rule based p...   \n\n                                             word_tokens  \\\n12869  [practic, way, take, advantag, januari, effect...   \n12886  [go, today, world, tech, bellweth, tech, march...   \n13804  [mani, optic, decemb, accord, data, p, global,...   \n11106  [gain, vener, blue, chip, ge, stock, appl, par...   \n11837  [simpli, match, market, may, need, take, lot, ...   \n...                                                  ...   \n73836  [get, wednesday, big, market, jim, told, mad, ...   \n77943  [san, francisco, pioneer, attract, new, crowd,...   \n75095  [share, tweet, ben, race, scoop, patient, heal...   \n77284  [stock, wo, test, correct, februari, kevin, co...   \n73473  [offici, notic, titl, rule, base, paramet, adj...   \n\n                                                features  trend  \n12869  [0, 0, 0, 0, 0, 0, 0, 0, 0, 0, 0, 0, 0, 0, 0, ...      1  \n12886  [0, 0, 0, 0, 0, 0, 0, 0, 0, 0, 0, 0, 0, 0, 0, ...      1  \n13804  [0, 0, 0, 0, 1, 0, 0, 0, 0, 0, 0, 0, 0, 0, 0, ...      1  \n11106  [0, 0, 0, 0, 0, 0, 0, 0, 0, 0, 0, 0, 0, 0, 0, ...      1  \n11837  [0, 0, 0, 0, 1, 0, 0, 1, 1, 0, 0, 0, 0, 0, 0, ...      1  \n...                                                  ...    ...  \n73836  [0, 0, 0, 0, 0, 0, 0, 0, 0, 0, 0, 0, 0, 0, 0, ...     -1  \n77943  [0, 0, 0, 0, 0, 0, 0, 0, 0, 0, 0, 0, 0, 0, 0, ...     -1  \n75095  [0, 0, 0, 0, 0, 0, 0, 0, 0, 0, 0, 0, 0, 0, 0, ...     -1  \n77284  [0, 0, 0, 0, 0, 0, 0, 0, 0, 0, 0, 0, 0, 0, 0, ...     -1  \n73473  [0, 0, 0, 0, 0, 0, 0, 0, 0, 0, 0, 0, 0, 0, 0, ...     -1  \n\n[1115 rows x 5 columns]",
      "text/html": "<div>\n<style scoped>\n    .dataframe tbody tr th:only-of-type {\n        vertical-align: middle;\n    }\n\n    .dataframe tbody tr th {\n        vertical-align: top;\n    }\n\n    .dataframe thead th {\n        text-align: right;\n    }\n</style>\n<table border=\"1\" class=\"dataframe\">\n  <thead>\n    <tr style=\"text-align: right;\">\n      <th></th>\n      <th>published_time</th>\n      <th>article_content</th>\n      <th>word_tokens</th>\n      <th>features</th>\n      <th>trend</th>\n    </tr>\n  </thead>\n  <tbody>\n    <tr>\n      <th>12869</th>\n      <td>1.514876e+09</td>\n      <td>by nigam arora\\nthe practical way to take adva...</td>\n      <td>[practic, way, take, advantag, januari, effect...</td>\n      <td>[0, 0, 0, 0, 0, 0, 0, 0, 0, 0, 0, 0, 0, 0, 0, ...</td>\n      <td>1</td>\n    </tr>\n    <tr>\n      <th>12886</th>\n      <td>1.514876e+09</td>\n      <td>here are some things going on today in your wo...</td>\n      <td>[go, today, world, tech, bellweth, tech, march...</td>\n      <td>[0, 0, 0, 0, 0, 0, 0, 0, 0, 0, 0, 0, 0, 0, 0, ...</td>\n      <td>1</td>\n    </tr>\n    <tr>\n      <th>13804</th>\n      <td>1.514876e+09</td>\n      <td>what happened shares of many optical networkin...</td>\n      <td>[mani, optic, decemb, accord, data, p, global,...</td>\n      <td>[0, 0, 0, 0, 1, 0, 0, 0, 0, 0, 0, 0, 0, 0, 0, ...</td>\n      <td>1</td>\n    </tr>\n    <tr>\n      <th>11106</th>\n      <td>1.514876e+09</td>\n      <td>by ciara linnane and tomi kilgore, marketwatch...</td>\n      <td>[gain, vener, blue, chip, ge, stock, appl, par...</td>\n      <td>[0, 0, 0, 0, 0, 0, 0, 0, 0, 0, 0, 0, 0, 0, 0, ...</td>\n      <td>1</td>\n    </tr>\n    <tr>\n      <th>11837</th>\n      <td>1.514876e+09</td>\n      <td>by ryan vlastelica\\nto simply match the market...</td>\n      <td>[simpli, match, market, may, need, take, lot, ...</td>\n      <td>[0, 0, 0, 0, 1, 0, 0, 1, 1, 0, 0, 0, 0, 0, 0, ...</td>\n      <td>1</td>\n    </tr>\n    <tr>\n      <th>...</th>\n      <td>...</td>\n      <td>...</td>\n      <td>...</td>\n      <td>...</td>\n      <td>...</td>\n    </tr>\n    <tr>\n      <th>73836</th>\n      <td>1.519896e+09</td>\n      <td>don't get too discouraged by wednesday's big m...</td>\n      <td>[get, wednesday, big, market, jim, told, mad, ...</td>\n      <td>[0, 0, 0, 0, 0, 0, 0, 0, 0, 0, 0, 0, 0, 0, 0, ...</td>\n      <td>-1</td>\n    </tr>\n    <tr>\n      <th>77943</th>\n      <td>1.519901e+09</td>\n      <td>san francisco -- music-streaming pioneer spoti...</td>\n      <td>[san, francisco, pioneer, attract, new, crowd,...</td>\n      <td>[0, 0, 0, 0, 0, 0, 0, 0, 0, 0, 0, 0, 0, 0, 0, ...</td>\n      <td>-1</td>\n    </tr>\n    <tr>\n      <th>75095</th>\n      <td>1.519908e+09</td>\n      <td>share tweet \\nby ben hirschler \\nlondon (reute...</td>\n      <td>[share, tweet, ben, race, scoop, patient, heal...</td>\n      <td>[0, 0, 0, 0, 0, 0, 0, 0, 0, 0, 0, 0, 0, 0, 0, ...</td>\n      <td>-1</td>\n    </tr>\n    <tr>\n      <th>77284</th>\n      <td>1.519910e+09</td>\n      <td>stocks won't test the correction lows february...</td>\n      <td>[stock, wo, test, correct, februari, kevin, co...</td>\n      <td>[0, 0, 0, 0, 0, 0, 0, 0, 0, 0, 0, 0, 0, 0, 0, ...</td>\n      <td>-1</td>\n    </tr>\n    <tr>\n      <th>73473</th>\n      <td>1.519911e+09</td>\n      <td>official notice nr: 157477 title: rule based p...</td>\n      <td>[offici, notic, titl, rule, base, paramet, adj...</td>\n      <td>[0, 0, 0, 0, 0, 0, 0, 0, 0, 0, 0, 0, 0, 0, 0, ...</td>\n      <td>-1</td>\n    </tr>\n  </tbody>\n</table>\n<p>1115 rows × 5 columns</p>\n</div>"
     },
     "execution_count": 129,
     "metadata": {},
     "output_type": "execute_result"
    }
   ],
   "source": [
    "amazon_news"
   ]
  },
  {
   "cell_type": "code",
   "execution_count": 130,
   "metadata": {
    "collapsed": false,
    "pycharm": {
     "name": "#%%\n"
    }
   },
   "outputs": [
    {
     "data": {
      "text/plain": "                                                features  trend\n12869  [0, 0, 0, 0, 0, 0, 0, 0, 0, 0, 0, 0, 0, 0, 0, ...      1\n12886  [0, 0, 0, 0, 0, 0, 0, 0, 0, 0, 0, 0, 0, 0, 0, ...      1\n13804  [0, 0, 0, 0, 1, 0, 0, 0, 0, 0, 0, 0, 0, 0, 0, ...      1\n11106  [0, 0, 0, 0, 0, 0, 0, 0, 0, 0, 0, 0, 0, 0, 0, ...      1\n11837  [0, 0, 0, 0, 1, 0, 0, 1, 1, 0, 0, 0, 0, 0, 0, ...      1\n...                                                  ...    ...\n73836  [0, 0, 0, 0, 0, 0, 0, 0, 0, 0, 0, 0, 0, 0, 0, ...     -1\n77943  [0, 0, 0, 0, 0, 0, 0, 0, 0, 0, 0, 0, 0, 0, 0, ...     -1\n75095  [0, 0, 0, 0, 0, 0, 0, 0, 0, 0, 0, 0, 0, 0, 0, ...     -1\n77284  [0, 0, 0, 0, 0, 0, 0, 0, 0, 0, 0, 0, 0, 0, 0, ...     -1\n73473  [0, 0, 0, 0, 0, 0, 0, 0, 0, 0, 0, 0, 0, 0, 0, ...     -1\n\n[1115 rows x 2 columns]",
      "text/html": "<div>\n<style scoped>\n    .dataframe tbody tr th:only-of-type {\n        vertical-align: middle;\n    }\n\n    .dataframe tbody tr th {\n        vertical-align: top;\n    }\n\n    .dataframe thead th {\n        text-align: right;\n    }\n</style>\n<table border=\"1\" class=\"dataframe\">\n  <thead>\n    <tr style=\"text-align: right;\">\n      <th></th>\n      <th>features</th>\n      <th>trend</th>\n    </tr>\n  </thead>\n  <tbody>\n    <tr>\n      <th>12869</th>\n      <td>[0, 0, 0, 0, 0, 0, 0, 0, 0, 0, 0, 0, 0, 0, 0, ...</td>\n      <td>1</td>\n    </tr>\n    <tr>\n      <th>12886</th>\n      <td>[0, 0, 0, 0, 0, 0, 0, 0, 0, 0, 0, 0, 0, 0, 0, ...</td>\n      <td>1</td>\n    </tr>\n    <tr>\n      <th>13804</th>\n      <td>[0, 0, 0, 0, 1, 0, 0, 0, 0, 0, 0, 0, 0, 0, 0, ...</td>\n      <td>1</td>\n    </tr>\n    <tr>\n      <th>11106</th>\n      <td>[0, 0, 0, 0, 0, 0, 0, 0, 0, 0, 0, 0, 0, 0, 0, ...</td>\n      <td>1</td>\n    </tr>\n    <tr>\n      <th>11837</th>\n      <td>[0, 0, 0, 0, 1, 0, 0, 1, 1, 0, 0, 0, 0, 0, 0, ...</td>\n      <td>1</td>\n    </tr>\n    <tr>\n      <th>...</th>\n      <td>...</td>\n      <td>...</td>\n    </tr>\n    <tr>\n      <th>73836</th>\n      <td>[0, 0, 0, 0, 0, 0, 0, 0, 0, 0, 0, 0, 0, 0, 0, ...</td>\n      <td>-1</td>\n    </tr>\n    <tr>\n      <th>77943</th>\n      <td>[0, 0, 0, 0, 0, 0, 0, 0, 0, 0, 0, 0, 0, 0, 0, ...</td>\n      <td>-1</td>\n    </tr>\n    <tr>\n      <th>75095</th>\n      <td>[0, 0, 0, 0, 0, 0, 0, 0, 0, 0, 0, 0, 0, 0, 0, ...</td>\n      <td>-1</td>\n    </tr>\n    <tr>\n      <th>77284</th>\n      <td>[0, 0, 0, 0, 0, 0, 0, 0, 0, 0, 0, 0, 0, 0, 0, ...</td>\n      <td>-1</td>\n    </tr>\n    <tr>\n      <th>73473</th>\n      <td>[0, 0, 0, 0, 0, 0, 0, 0, 0, 0, 0, 0, 0, 0, 0, ...</td>\n      <td>-1</td>\n    </tr>\n  </tbody>\n</table>\n<p>1115 rows × 2 columns</p>\n</div>"
     },
     "execution_count": 130,
     "metadata": {},
     "output_type": "execute_result"
    }
   ],
   "source": [
    "import numpy\n",
    "\n",
    "amazon_news.drop(\"word_tokens\", axis=1, inplace=True)\n",
    "amazon_news.drop(\"article_content\", axis=1, inplace=True)\n",
    "amazon_news.drop(\"published_time\", axis=1, inplace=True)\n",
    "\n",
    "amazon_news"
   ]
  },
  {
   "cell_type": "code",
   "execution_count": 131,
   "outputs": [],
   "source": [
    "with open(pkls_dir + '/amazon_data_for_training.pkl', 'wb') as f:\n",
    "    pickle.dump(amazon_news, f)"
   ],
   "metadata": {
    "collapsed": false,
    "pycharm": {
     "name": "#%%\n"
    }
   }
  },
  {
   "cell_type": "code",
   "execution_count": 131,
   "outputs": [],
   "source": [],
   "metadata": {
    "collapsed": false,
    "pycharm": {
     "name": "#%%"
    }
   }
  }
 ],
 "metadata": {
  "interpreter": {
   "hash": "dba153492da71b72ca386bda186463b4e0de85910fcb623493b512d22b510972"
  },
  "kernelspec": {
   "display_name": "PyCharm (Stock_prediction_G24_P3)",
   "language": "python",
   "name": "python3"
  },
  "language_info": {
   "codemirror_mode": {
    "name": "ipython",
    "version": 3
   },
   "file_extension": ".py",
   "mimetype": "text/x-python",
   "name": "python",
   "nbconvert_exporter": "python",
   "pygments_lexer": "ipython3",
   "version": "3.9.10"
  }
 },
 "nbformat": 4,
 "nbformat_minor": 0
}