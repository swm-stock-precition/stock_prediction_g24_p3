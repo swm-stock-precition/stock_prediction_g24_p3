{
 "cells": [
  {
   "cell_type": "code",
   "execution_count": null,
   "metadata": {
    "collapsed": true
   },
   "outputs": [],
   "source": [
    "from datetime import datetime\n",
    "import pandas as pd\n",
    "from datetime import timezone"
   ]
  },
  {
   "cell_type": "code",
   "execution_count": null,
   "outputs": [],
   "source": [
    "start_date = datetime.fromisoformat(\"2018-01-01 00:00\").astimezone(tz=timezone.utc).replace(tzinfo=None).timestamp()\n",
    "end_date = datetime.fromisoformat(\"2018-12-31 23:59\").astimezone(tz=timezone.utc).replace(tzinfo=None).timestamp()"
   ],
   "metadata": {
    "collapsed": false,
    "pycharm": {
     "name": "#%%\n"
    }
   }
  },
  {
   "cell_type": "code",
   "execution_count": null,
   "outputs": [],
   "source": [
    "apple_news = pd.read_pickle(\"pkls/apple_news_data.pkl\", compression='infer')\n",
    "amazon_news = pd.read_pickle(\"pkls/amazon_news_data.pkl\", compression='infer')\n",
    "apple_chart = pd.read_pickle(\"pkls/apple_stock_chart.pkl\", compression='infer')\n",
    "amazon_chart = pd.read_pickle(\"pkls/apple_stock_chart.pkl\", compression='infer')"
   ],
   "metadata": {
    "collapsed": false,
    "pycharm": {
     "name": "#%%\n"
    }
   }
  },
  {
   "cell_type": "code",
   "execution_count": null,
   "outputs": [],
   "source": [
    "apple_news"
   ],
   "metadata": {
    "collapsed": false,
    "pycharm": {
     "name": "#%%\n"
    }
   }
  },
  {
   "cell_type": "code",
   "execution_count": null,
   "outputs": [],
   "source": [
    "amazon_news"
   ],
   "metadata": {
    "collapsed": false,
    "pycharm": {
     "name": "#%%\n"
    }
   }
  },
  {
   "cell_type": "code",
   "execution_count": null,
   "outputs": [],
   "source": [
    "apple_chart[\"articles\"] = pd.NaT"
   ],
   "metadata": {
    "collapsed": false,
    "pycharm": {
     "name": "#%%\n"
    }
   }
  },
  {
   "cell_type": "code",
   "execution_count": null,
   "outputs": [],
   "source": [
    "amazon_chart"
   ],
   "metadata": {
    "collapsed": false,
    "pycharm": {
     "name": "#%%\n"
    }
   }
  },
  {
   "cell_type": "code",
   "execution_count": 90,
   "outputs": [],
   "source": [
    "for index, row in apple_chart.iterrows():\n",
    "    time = datetime.fromtimestamp(row['timestamp']).date()\n",
    "    articles=[]\n",
    "    for news_index,news_row in apple_news.iterrows():\n",
    "        if datetime.fromtimestamp(news_row['published_time']).date() > time:\n",
    "            break\n",
    "        if datetime.fromtimestamp(news_row['published_time']).date() == time:\n",
    "            articles.append(news_row['article_content'])\n",
    "    apple_chart.at[index, 'articles'] = articles"
   ],
   "metadata": {
    "collapsed": false,
    "pycharm": {
     "name": "#%%\n"
    }
   }
  },
  {
   "cell_type": "code",
   "execution_count": 93,
   "outputs": [
    {
     "data": {
      "text/plain": "     index     timestamp  trends  \\\n0      870  1.514876e+09       1   \n1      871  1.514963e+09       0   \n2      872  1.515049e+09       1   \n3      873  1.515136e+09       1   \n4      874  1.515395e+09       0   \n..     ...           ...     ...   \n246   1116  1.545635e+09       0   \n247   1117  1.545808e+09       1   \n248   1118  1.545894e+09       1   \n249   1119  1.545980e+09       0   \n250   1120  1.546240e+09       1   \n\n                                              articles  \n0    [what happened shares of many optical networki...  \n1    [allergan plans to cut more than 1,000 jobs am...  \n2    [longtime music executive jimmy iovine plans t...  \n3    [by sara sjolin, marketwatch\\nwages are key pa...  \n4    [2 big shareholders want apple to investigate ...  \n..                                                 ...  \n246  [stock market power rankings: youtube catches ...  \n247  [wednesday’s wild day: 504 stocks rose, and on...  \n248  [print\\nstock markets staged a miraculous come...  \n249  [get the daily marketslant newsletter from pan...  \n250  [new york (cnn business) stocks are trying to ...  \n\n[251 rows x 4 columns]",
      "text/html": "<div>\n<style scoped>\n    .dataframe tbody tr th:only-of-type {\n        vertical-align: middle;\n    }\n\n    .dataframe tbody tr th {\n        vertical-align: top;\n    }\n\n    .dataframe thead th {\n        text-align: right;\n    }\n</style>\n<table border=\"1\" class=\"dataframe\">\n  <thead>\n    <tr style=\"text-align: right;\">\n      <th></th>\n      <th>index</th>\n      <th>timestamp</th>\n      <th>trends</th>\n      <th>articles</th>\n    </tr>\n  </thead>\n  <tbody>\n    <tr>\n      <th>0</th>\n      <td>870</td>\n      <td>1.514876e+09</td>\n      <td>1</td>\n      <td>[what happened shares of many optical networki...</td>\n    </tr>\n    <tr>\n      <th>1</th>\n      <td>871</td>\n      <td>1.514963e+09</td>\n      <td>0</td>\n      <td>[allergan plans to cut more than 1,000 jobs am...</td>\n    </tr>\n    <tr>\n      <th>2</th>\n      <td>872</td>\n      <td>1.515049e+09</td>\n      <td>1</td>\n      <td>[longtime music executive jimmy iovine plans t...</td>\n    </tr>\n    <tr>\n      <th>3</th>\n      <td>873</td>\n      <td>1.515136e+09</td>\n      <td>1</td>\n      <td>[by sara sjolin, marketwatch\\nwages are key pa...</td>\n    </tr>\n    <tr>\n      <th>4</th>\n      <td>874</td>\n      <td>1.515395e+09</td>\n      <td>0</td>\n      <td>[2 big shareholders want apple to investigate ...</td>\n    </tr>\n    <tr>\n      <th>...</th>\n      <td>...</td>\n      <td>...</td>\n      <td>...</td>\n      <td>...</td>\n    </tr>\n    <tr>\n      <th>246</th>\n      <td>1116</td>\n      <td>1.545635e+09</td>\n      <td>0</td>\n      <td>[stock market power rankings: youtube catches ...</td>\n    </tr>\n    <tr>\n      <th>247</th>\n      <td>1117</td>\n      <td>1.545808e+09</td>\n      <td>1</td>\n      <td>[wednesday’s wild day: 504 stocks rose, and on...</td>\n    </tr>\n    <tr>\n      <th>248</th>\n      <td>1118</td>\n      <td>1.545894e+09</td>\n      <td>1</td>\n      <td>[print\\nstock markets staged a miraculous come...</td>\n    </tr>\n    <tr>\n      <th>249</th>\n      <td>1119</td>\n      <td>1.545980e+09</td>\n      <td>0</td>\n      <td>[get the daily marketslant newsletter from pan...</td>\n    </tr>\n    <tr>\n      <th>250</th>\n      <td>1120</td>\n      <td>1.546240e+09</td>\n      <td>1</td>\n      <td>[new york (cnn business) stocks are trying to ...</td>\n    </tr>\n  </tbody>\n</table>\n<p>251 rows × 4 columns</p>\n</div>"
     },
     "execution_count": 93,
     "metadata": {},
     "output_type": "execute_result"
    }
   ],
   "source": [
    "apple_chart.reset_index(inplace=True)\n",
    "apple_chart"
   ],
   "metadata": {
    "collapsed": false,
    "pycharm": {
     "name": "#%%\n"
    }
   }
  },
  {
   "cell_type": "code",
   "execution_count": 98,
   "outputs": [
    {
     "data": {
      "text/plain": "182"
     },
     "execution_count": 98,
     "metadata": {},
     "output_type": "execute_result"
    }
   ],
   "source": [
    "len(apple_chart['articles'][30])"
   ],
   "metadata": {
    "collapsed": false,
    "pycharm": {
     "name": "#%%\n"
    }
   }
  }
 ],
 "metadata": {
  "kernelspec": {
   "name": "pycharm-9e7c138f",
   "language": "python",
   "display_name": "PyCharm (Stock_prediction_G24_P3)"
  },
  "language_info": {
   "codemirror_mode": {
    "name": "ipython",
    "version": 2
   },
   "file_extension": ".py",
   "mimetype": "text/x-python",
   "name": "python",
   "nbconvert_exporter": "python",
   "pygments_lexer": "ipython2",
   "version": "2.7.6"
  }
 },
 "nbformat": 4,
 "nbformat_minor": 0
}