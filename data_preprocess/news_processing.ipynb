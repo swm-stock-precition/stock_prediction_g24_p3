{
 "cells": [
  {
   "cell_type": "code",
   "execution_count": 11,
   "metadata": {},
   "outputs": [],
   "source": [
    "import json\n",
    "import pandas as pd\n",
    "from datetime import datetime, timezone\n",
    "import os\n",
    "import pickle\n",
    "import time"
   ]
  },
  {
   "cell_type": "code",
   "execution_count": 12,
   "metadata": {
    "pycharm": {
     "name": "#%%\n"
    }
   },
   "outputs": [],
   "source": [
    "import json\n",
    "\n",
    "config = json.load(open(\"../configure.json\"))\n",
    "pkls_dir = config['pkls_dir']\n",
    "start_date = datetime.fromisoformat(config['start_time']).astimezone(tz=timezone.utc).replace(tzinfo=None).timestamp()\n",
    "end_date = datetime.fromisoformat(config['end_time']).astimezone(tz=timezone.utc).replace(tzinfo=None).timestamp()\n",
    "news_data_pkl_path = config[\"news_data_pkls\"]"
   ]
  },
  {
   "cell_type": "code",
   "execution_count": 13,
   "metadata": {
    "pycharm": {
     "name": "#%%\n"
    }
   },
   "outputs": [],
   "source": [
    "news_path = config['news_dir']\n",
    "ignore_files = ['.DS_Store']\n",
    "news_folders = os.listdir(news_path)\n",
    "article_content = []\n",
    "published_time = []\n",
    "time_frames = []\n",
    "form = \"%d-%m-%Y %H:%M\"\n",
    "for sub_folder in news_folders:\n",
    "    if sub_folder in ignore_files:\n",
    "        continue\n",
    "    articles = os.listdir(news_path + \"/\" + sub_folder)\n",
    "\n",
    "    for article in articles:\n",
    "        apple_sentiment = 0\n",
    "        amazon_sentiment = 0\n",
    "        article_path = news_path + \"/\" + sub_folder + \"/\" + article\n",
    "        article_json = open(article_path)\n",
    "        data = json.load(article_json)\n",
    "        orgs = data['entities']['organizations']\n",
    "        time_of_publish = data['published']\n",
    "        time = datetime.fromisoformat(time_of_publish).astimezone(tz=timezone.utc).replace(tzinfo=None).timestamp()\n",
    "        published_time.append(time)\n",
    "        article_content.append(data['text'].lower())\n",
    "        time_frame = datetime.fromisoformat(time_of_publish).strftime(form)\n",
    "        time_frames.append(time_frame)\n",
    "\n",
    "raw_data = pd.DataFrame({\n",
    "    \"published_time\": published_time,\n",
    "    \"time_frames\": time_frames,\n",
    "    'article_content': article_content,\n",
    "})\n",
    "raw_data.drop(raw_data[(raw_data['published_time'] < start_date) | (raw_data['published_time'] > end_date)].index,\n",
    "              inplace=True)"
   ]
  },
  {
   "cell_type": "code",
   "execution_count": 14,
   "metadata": {
    "pycharm": {
     "name": "#%%\n"
    }
   },
   "outputs": [],
   "source": [
    "apple_news_data = raw_data[raw_data['article_content'].str.contains('apple|aapl')]\n",
    "amazon_news_data = raw_data[raw_data['article_content'].str.contains(\"amazon|amzn\")]\n",
    "amazon_news_data = amazon_news_data[amazon_news_data['article_content'].map(lambda x: x.isascii())]\n",
    "apple_news_data = apple_news_data[apple_news_data['article_content'].map(lambda x: x.isascii())]\n",
    "amazon_news_data.drop_duplicates(inplace=True)\n",
    "apple_news_data.drop_duplicates(inplace=True)\n",
    "amazon_news_data.sort_values('published_time', ascending=True, inplace=True)\n",
    "apple_news_data.sort_values('published_time', ascending=True, inplace=True)"
   ]
  },
  {
   "cell_type": "code",
   "execution_count": 15,
   "metadata": {
    "pycharm": {
     "name": "#%%\n"
    }
   },
   "outputs": [
    {
     "name": "stderr",
     "output_type": "stream",
     "text": [
      "[nltk_data] Downloading package punkt to /Users/k2rth1k/nltk_data...\n",
      "[nltk_data]   Package punkt is already up-to-date!\n"
     ]
    }
   ],
   "source": [
    "import time\n",
    "import nltk\n",
    "\n",
    "nltk.download('punkt')\n",
    "from nltk import word_tokenize\n",
    "from nltk.corpus import words\n",
    "\n",
    "amazon_news_data['word_tokens'] = amazon_news_data['article_content'].apply(lambda x: word_tokenize(x))\n",
    "apple_news_data['word_tokens'] = apple_news_data['article_content'].apply(lambda x: word_tokenize(x))"
   ]
  },
  {
   "cell_type": "code",
   "execution_count": 16,
   "metadata": {
    "collapsed": false,
    "pycharm": {
     "name": "#%%\n"
    }
   },
   "outputs": [
    {
     "name": "stderr",
     "output_type": "stream",
     "text": [
      "[nltk_data] Downloading package words to /Users/k2rth1k/nltk_data...\n",
      "[nltk_data]   Package words is already up-to-date!\n",
      "[nltk_data] Downloading package stopwords to\n",
      "[nltk_data]     /Users/k2rth1k/nltk_data...\n",
      "[nltk_data]   Package stopwords is already up-to-date!\n"
     ]
    }
   ],
   "source": [
    "from nltk import SnowballStemmer\n",
    "\n",
    "steps = 0\n",
    "from nltk.corpus import stopwords, words\n",
    "\n",
    "nltk.download('words')\n",
    "nltk.download('stopwords')\n",
    "import string\n",
    "\n",
    "lower_words = set([w.lower() for w in words.words()])\n",
    "stops = set(stopwords.words('english'))\n",
    "l_stops = len(stops)\n",
    "\n",
    "\n",
    "def has_numbers(inputString):\n",
    "    return any(char.isdigit() for char in inputString)\n",
    "\n",
    "\n",
    "def word_clean(x, steps=None):\n",
    "    global lower_words\n",
    "    global stops\n",
    "    res = [w for w in x if w.isascii()]\n",
    "    res = [w.translate(str.maketrans(dict.fromkeys(string.punctuation))) for w in res if w]\n",
    "    res = [w for w in res if\n",
    "           not ((has_numbers(w)) or (w.startswith(\"www\")) or (w.startswith(\"http\")) or (w.isnumeric()) or (\n",
    "                   w in stops))]\n",
    "    res = [w for w in res if w in lower_words]\n",
    "    res = [w for w in res if len(w) > 0]\n",
    "    stemmer = SnowballStemmer('english')\n",
    "    res = [stemmer.stem(w) for w in res if w]\n",
    "    return res"
   ]
  },
  {
   "cell_type": "code",
   "execution_count": 17,
   "metadata": {
    "pycharm": {
     "name": "#%%\n"
    }
   },
   "outputs": [],
   "source": [
    "amazon_news_data['word_tokens'] = amazon_news_data['word_tokens'].apply(lambda x: word_clean(x, 0))\n",
    "apple_news_data['word_tokens'] = apple_news_data['word_tokens'].apply(lambda x: word_clean(x, 0))"
   ]
  },
  {
   "cell_type": "code",
   "execution_count": 18,
   "metadata": {
    "collapsed": false,
    "pycharm": {
     "name": "#%%\n"
    }
   },
   "outputs": [],
   "source": [
    "with open(news_data_pkl_path + 'amazon_news_data.pkl', 'wb') as f:\n",
    "    pickle.dump(amazon_news_data, f)\n",
    "with open(news_data_pkl_path + 'apple_news_data.pkl', 'wb') as f:\n",
    "    pickle.dump(apple_news_data, f)"
   ]
  }
 ],
 "metadata": {
  "interpreter": {
   "hash": "5dac9560cdd23f2ec2ecd2acb3e37fbb14a57df1cc0063ebf51bc65640022a76"
  },
  "kernelspec": {
   "display_name": "PyCharm (Stock_prediction_G24_P3)",
   "language": "python",
   "name": "python3"
  },
  "language_info": {
   "codemirror_mode": {
    "name": "ipython",
    "version": 3
   },
   "file_extension": ".py",
   "mimetype": "text/x-python",
   "name": "python",
   "nbconvert_exporter": "python",
   "pygments_lexer": "ipython3",
   "version": "3.9.10"
  }
 },
 "nbformat": 4,
 "nbformat_minor": 1
}