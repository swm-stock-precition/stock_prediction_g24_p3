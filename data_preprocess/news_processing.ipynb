{
 "cells": [
  {
   "cell_type": "code",
   "execution_count": 1,
   "metadata": {},
   "outputs": [],
   "source": [
    "import json\n",
    "import pandas as pd\n",
    "from datetime import datetime, timezone\n",
    "import os\n",
    "import pickle\n",
    "import time"
   ]
  },
  {
   "cell_type": "code",
   "execution_count": 2,
   "metadata": {
    "pycharm": {
     "name": "#%%\n"
    }
   },
   "outputs": [],
   "source": [
    "start_date = datetime.fromisoformat(\"2018-01-01 00:00\").astimezone(tz=timezone.utc).replace(tzinfo=None).timestamp()\n",
    "end_date = datetime.fromisoformat(\"2018-12-31 23:59\").astimezone(tz=timezone.utc).replace(tzinfo=None).timestamp()"
   ]
  },
  {
   "cell_type": "code",
   "execution_count": 3,
   "metadata": {
    "pycharm": {
     "name": "#%%\n"
    }
   },
   "outputs": [],
   "source": [
    "news_path = \"/Users/k2rth1k/swm/News\"\n",
    "ignore_files = ['.DS_Store']\n",
    "news_folders = os.listdir(news_path)\n",
    "article_content = []\n",
    "published_time = []\n",
    "for sub_folder in news_folders:\n",
    "    if sub_folder in ignore_files:\n",
    "        continue\n",
    "    articles = os.listdir(news_path + \"/\" + sub_folder)\n",
    "\n",
    "    for article in articles:\n",
    "        apple_sentiment = 0\n",
    "        amazon_sentiment = 0\n",
    "        article_path = news_path + \"/\" + sub_folder + \"/\" + article\n",
    "        article_json = open(article_path)\n",
    "        data = json.load(article_json)\n",
    "        orgs = data['entities']['organizations']\n",
    "        time_of_publish = data['published']\n",
    "        time = datetime.fromisoformat(time_of_publish).astimezone(tz=timezone.utc).replace(tzinfo=None).timestamp()\n",
    "        published_time.append(time)\n",
    "        article_content.append(data['text'].lower())\n",
    "\n",
    "raw_data = pd.DataFrame({\n",
    "    \"published_time\": published_time,\n",
    "    'article_content': article_content,\n",
    "})\n",
    "raw_data.drop(raw_data[(raw_data['published_time'] < start_date) | (raw_data['published_time'] > end_date)].index,\n",
    "              inplace=True)"
   ]
  },
  {
   "cell_type": "code",
   "execution_count": 4,
   "metadata": {
    "pycharm": {
     "name": "#%%\n"
    }
   },
   "outputs": [],
   "source": [
    "apple_news_data = raw_data[raw_data['article_content'].str.contains('apple|aapl')]\n",
    "amazon_news_data = raw_data[raw_data['article_content'].str.contains(\"amazon|amzn\")]\n",
    "amazon_news_data = amazon_news_data[amazon_news_data['article_content'].map(lambda x: x.isascii())]\n",
    "apple_news_data = apple_news_data[apple_news_data['article_content'].map(lambda x: x.isascii())]\n",
    "amazon_news_data.drop_duplicates(inplace=True)\n",
    "apple_news_data.drop_duplicates(inplace=True)\n",
    "amazon_news_data.sort_values('published_time', ascending=True, inplace=True)\n",
    "apple_news_data.sort_values('published_time', ascending=True, inplace=True)"
   ]
  },
  {
   "cell_type": "code",
   "execution_count": 5,
   "metadata": {
    "pycharm": {
     "name": "#%%\n"
    }
   },
   "outputs": [
    {
     "data": {
      "text/plain": "       published_time                                    article_content\n12886    1.514876e+09  here are some things going on today in your wo...\n13571    1.514876e+09  shutterstock photo\\nstocks indexes opened the ...\n11837    1.514876e+09  by ryan vlastelica\\nto simply match the market...\n13804    1.514876e+09  what happened shares of many optical networkin...\n15737    1.514876e+09  by nigam arora\\nthe practical way to take adva...\n...               ...                                                ...\n1348     1.546281e+09  the biggest benefit from living are the lesson...\n2553     1.546290e+09  apple stock price\\napple (nasdaq: aapl ) was v...\n849      1.546306e+09  none of us has a crystal ball that shows us cl...\n56164    1.546321e+09  let's talk about apple, inc. (nasdaq: aapl ). ...\n61168    1.546322e+09  big trends: gartner iaas mq is down to 6 compa...\n\n[5677 rows x 2 columns]",
      "text/html": "<div>\n<style scoped>\n    .dataframe tbody tr th:only-of-type {\n        vertical-align: middle;\n    }\n\n    .dataframe tbody tr th {\n        vertical-align: top;\n    }\n\n    .dataframe thead th {\n        text-align: right;\n    }\n</style>\n<table border=\"1\" class=\"dataframe\">\n  <thead>\n    <tr style=\"text-align: right;\">\n      <th></th>\n      <th>published_time</th>\n      <th>article_content</th>\n    </tr>\n  </thead>\n  <tbody>\n    <tr>\n      <th>12886</th>\n      <td>1.514876e+09</td>\n      <td>here are some things going on today in your wo...</td>\n    </tr>\n    <tr>\n      <th>13571</th>\n      <td>1.514876e+09</td>\n      <td>shutterstock photo\\nstocks indexes opened the ...</td>\n    </tr>\n    <tr>\n      <th>11837</th>\n      <td>1.514876e+09</td>\n      <td>by ryan vlastelica\\nto simply match the market...</td>\n    </tr>\n    <tr>\n      <th>13804</th>\n      <td>1.514876e+09</td>\n      <td>what happened shares of many optical networkin...</td>\n    </tr>\n    <tr>\n      <th>15737</th>\n      <td>1.514876e+09</td>\n      <td>by nigam arora\\nthe practical way to take adva...</td>\n    </tr>\n    <tr>\n      <th>...</th>\n      <td>...</td>\n      <td>...</td>\n    </tr>\n    <tr>\n      <th>1348</th>\n      <td>1.546281e+09</td>\n      <td>the biggest benefit from living are the lesson...</td>\n    </tr>\n    <tr>\n      <th>2553</th>\n      <td>1.546290e+09</td>\n      <td>apple stock price\\napple (nasdaq: aapl ) was v...</td>\n    </tr>\n    <tr>\n      <th>849</th>\n      <td>1.546306e+09</td>\n      <td>none of us has a crystal ball that shows us cl...</td>\n    </tr>\n    <tr>\n      <th>56164</th>\n      <td>1.546321e+09</td>\n      <td>let's talk about apple, inc. (nasdaq: aapl ). ...</td>\n    </tr>\n    <tr>\n      <th>61168</th>\n      <td>1.546322e+09</td>\n      <td>big trends: gartner iaas mq is down to 6 compa...</td>\n    </tr>\n  </tbody>\n</table>\n<p>5677 rows × 2 columns</p>\n</div>"
     },
     "execution_count": 5,
     "metadata": {},
     "output_type": "execute_result"
    }
   ],
   "source": [
    "amazon_news_data\n"
   ]
  },
  {
   "cell_type": "code",
   "execution_count": 6,
   "metadata": {
    "pycharm": {
     "name": "#%%\n"
    }
   },
   "outputs": [],
   "source": [
    "with open('pkls/amazon_news_data.pkl', 'wb') as f:\n",
    "    pickle.dump(amazon_news_data, f)\n",
    "\n",
    "with open('pkls/apple_news_data.pkl', 'wb') as f:\n",
    "    pickle.dump(apple_news_data, f)"
   ]
  },
  {
   "cell_type": "code",
   "execution_count": 7,
   "metadata": {
    "pycharm": {
     "name": "#%%\n"
    }
   },
   "outputs": [
    {
     "name": "stderr",
     "output_type": "stream",
     "text": [
      "[nltk_data] Downloading package punkt to /Users/k2rth1k/nltk_data...\n",
      "[nltk_data]   Package punkt is already up-to-date!\n"
     ]
    },
    {
     "name": "stdout",
     "output_type": "stream",
     "text": [
      "time taken:  150.05701279640198\n"
     ]
    }
   ],
   "source": [
    "import time\n",
    "import nltk\n",
    "\n",
    "nltk.download('punkt')\n",
    "from nltk import word_tokenize\n",
    "from nltk.corpus import words\n",
    "\n",
    "begin = time.time()\n",
    "amazon_news_data['word_tokens'] = amazon_news_data['article_content'].apply(lambda x: word_tokenize(x))\n",
    "apple_news_data['word_tokens'] = apple_news_data['article_content'].apply(lambda x: word_tokenize(x))\n",
    "end = time.time()\n",
    "print(\"time taken: \", end - begin)"
   ]
  },
  {
   "cell_type": "code",
   "execution_count": 8,
   "metadata": {
    "pycharm": {
     "name": "#%%\n"
    }
   },
   "outputs": [
    {
     "data": {
      "text/plain": "       published_time                                    article_content  \\\n16174    1.514832e+09  facebook \\nciti analysts say that there is a 4...   \n15612    1.514855e+09  quote: in this context avxl is a new apple, im...   \n12200    1.514862e+09  2 warren buffett stocks to consider buying now...   \n15928    1.514862e+09  2 warren buffett stocks to consider buying now...   \n14085    1.514862e+09  2 warren buffett stocks to consider buying now...   \n...               ...                                                ...   \n56164    1.546321e+09  let's talk about apple, inc. (nasdaq: aapl ). ...   \n61168    1.546322e+09  big trends: gartner iaas mq is down to 6 compa...   \n41       1.546326e+09  - fundamental analysis - technology is apple s...   \n60869    1.546332e+09  new york, oct. 23, 2018 (globe newswire) -- in...   \n61440    1.546334e+09  merck (nyse: mrk ) and pfizer (nyse: pfe ) fin...   \n\n                                             word_tokens  \n16174  [facebook, citi, analysts, say, that, there, i...  \n15612  [quote, :, in, this, context, avxl, is, a, new...  \n12200  [2, warren, buffett, stocks, to, consider, buy...  \n15928  [2, warren, buffett, stocks, to, consider, buy...  \n14085  [2, warren, buffett, stocks, to, consider, buy...  \n...                                                  ...  \n56164  [let, 's, talk, about, apple, ,, inc., (, nasd...  \n61168  [big, trends, :, gartner, iaas, mq, is, down, ...  \n41     [-, fundamental, analysis, -, technology, is, ...  \n60869  [new, york, ,, oct., 23, ,, 2018, (, globe, ne...  \n61440  [merck, (, nyse, :, mrk, ), and, pfizer, (, ny...  \n\n[19084 rows x 3 columns]",
      "text/html": "<div>\n<style scoped>\n    .dataframe tbody tr th:only-of-type {\n        vertical-align: middle;\n    }\n\n    .dataframe tbody tr th {\n        vertical-align: top;\n    }\n\n    .dataframe thead th {\n        text-align: right;\n    }\n</style>\n<table border=\"1\" class=\"dataframe\">\n  <thead>\n    <tr style=\"text-align: right;\">\n      <th></th>\n      <th>published_time</th>\n      <th>article_content</th>\n      <th>word_tokens</th>\n    </tr>\n  </thead>\n  <tbody>\n    <tr>\n      <th>16174</th>\n      <td>1.514832e+09</td>\n      <td>facebook \\nciti analysts say that there is a 4...</td>\n      <td>[facebook, citi, analysts, say, that, there, i...</td>\n    </tr>\n    <tr>\n      <th>15612</th>\n      <td>1.514855e+09</td>\n      <td>quote: in this context avxl is a new apple, im...</td>\n      <td>[quote, :, in, this, context, avxl, is, a, new...</td>\n    </tr>\n    <tr>\n      <th>12200</th>\n      <td>1.514862e+09</td>\n      <td>2 warren buffett stocks to consider buying now...</td>\n      <td>[2, warren, buffett, stocks, to, consider, buy...</td>\n    </tr>\n    <tr>\n      <th>15928</th>\n      <td>1.514862e+09</td>\n      <td>2 warren buffett stocks to consider buying now...</td>\n      <td>[2, warren, buffett, stocks, to, consider, buy...</td>\n    </tr>\n    <tr>\n      <th>14085</th>\n      <td>1.514862e+09</td>\n      <td>2 warren buffett stocks to consider buying now...</td>\n      <td>[2, warren, buffett, stocks, to, consider, buy...</td>\n    </tr>\n    <tr>\n      <th>...</th>\n      <td>...</td>\n      <td>...</td>\n      <td>...</td>\n    </tr>\n    <tr>\n      <th>56164</th>\n      <td>1.546321e+09</td>\n      <td>let's talk about apple, inc. (nasdaq: aapl ). ...</td>\n      <td>[let, 's, talk, about, apple, ,, inc., (, nasd...</td>\n    </tr>\n    <tr>\n      <th>61168</th>\n      <td>1.546322e+09</td>\n      <td>big trends: gartner iaas mq is down to 6 compa...</td>\n      <td>[big, trends, :, gartner, iaas, mq, is, down, ...</td>\n    </tr>\n    <tr>\n      <th>41</th>\n      <td>1.546326e+09</td>\n      <td>- fundamental analysis - technology is apple s...</td>\n      <td>[-, fundamental, analysis, -, technology, is, ...</td>\n    </tr>\n    <tr>\n      <th>60869</th>\n      <td>1.546332e+09</td>\n      <td>new york, oct. 23, 2018 (globe newswire) -- in...</td>\n      <td>[new, york, ,, oct., 23, ,, 2018, (, globe, ne...</td>\n    </tr>\n    <tr>\n      <th>61440</th>\n      <td>1.546334e+09</td>\n      <td>merck (nyse: mrk ) and pfizer (nyse: pfe ) fin...</td>\n      <td>[merck, (, nyse, :, mrk, ), and, pfizer, (, ny...</td>\n    </tr>\n  </tbody>\n</table>\n<p>19084 rows × 3 columns</p>\n</div>"
     },
     "execution_count": 8,
     "metadata": {},
     "output_type": "execute_result"
    }
   ],
   "source": [
    "apple_news_data"
   ]
  },
  {
   "cell_type": "code",
   "execution_count": 9,
   "outputs": [
    {
     "name": "stderr",
     "output_type": "stream",
     "text": [
      "[nltk_data] Downloading package words to /Users/k2rth1k/nltk_data...\n",
      "[nltk_data]   Package words is already up-to-date!\n",
      "[nltk_data] Downloading package stopwords to\n",
      "[nltk_data]     /Users/k2rth1k/nltk_data...\n",
      "[nltk_data]   Package stopwords is already up-to-date!\n"
     ]
    }
   ],
   "source": [
    "from nltk import PorterStemmer, SnowballStemmer\n",
    "\n",
    "steps = 0\n",
    "from nltk.corpus import stopwords, words\n",
    "\n",
    "nltk.download('words')\n",
    "nltk.download('stopwords')\n",
    "import string\n",
    "\n",
    "lower_words = set([w.lower() for w in words.words()])\n",
    "stops = set(stopwords.words('english'))\n",
    "l_stops = len(stops)\n",
    "\n",
    "def has_numbers(inputString):\n",
    "    return any(char.isdigit() for char in inputString)\n",
    "\n",
    "def word_clean(x, steps=None):\n",
    "    global lower_words\n",
    "    global stops\n",
    "    res = [w for w in x if w.isascii()]\n",
    "    res = [w.translate(str.maketrans(dict.fromkeys(string.punctuation))) for w in res if w]\n",
    "    res = [w for w in res if not ((has_numbers(w))or (w.startswith(\"www\")) or (w.startswith(\"http\")) or (w.isnumeric()) or (\n",
    "            w in stops))]\n",
    "    res = [w for w in res if w in lower_words]\n",
    "    res = [w for w in res if len(w) > 0]\n",
    "    stemmer = SnowballStemmer('english')\n",
    "    res = [stemmer.stem(w) for w in res if w]\n",
    "    return res"
   ],
   "metadata": {
    "collapsed": false,
    "pycharm": {
     "name": "#%%\n"
    }
   }
  },
  {
   "cell_type": "code",
   "execution_count": null,
   "metadata": {
    "pycharm": {
     "name": "#%%\n"
    }
   },
   "outputs": [],
   "source": [
    "\n",
    "amazon_news_data\n",
    "res = amazon_news_data['word_tokens'][12886]\n",
    "print(len(res))\n",
    "begin = time.time()\n",
    "res = [w for w in res if w.isascii()]\n",
    "res = [w.translate(str.maketrans(dict.fromkeys(string.punctuation))) for w in res if w]\n",
    "res = [w for w in res if not ((w.startswith(\"www\")) or (w.startswith(\"http\")) or (w.isnumeric()) or (w.alpanumeric()) or (\n",
    "        w in stops))]\n",
    "res = [w for w in res if w in lower_words]\n",
    "res = [w for w in res if len(w) > 0]\n",
    "stemmer = SnowballStemmer('english')\n",
    "res = [stemmer.stem(w) for w in res if w]\n",
    "print(len(res))\n",
    "end = time.time()\n",
    "print(\"time taken to execute: \", end - begin)"
   ]
  },
  {
   "cell_type": "code",
   "execution_count": 10,
   "metadata": {
    "pycharm": {
     "name": "#%%\n"
    }
   },
   "outputs": [
    {
     "name": "stdout",
     "output_type": "stream",
     "text": [
      "time taken to execute:  31.21256709098816\n"
     ]
    }
   ],
   "source": [
    "begin = time.time()\n",
    "amazon_news_data['word_tokens'] = amazon_news_data['word_tokens'].apply(lambda x: word_clean(x, 0))\n",
    "end = time.time()\n",
    "print(\"time taken to execute: \", end - begin)"
   ]
  },
  {
   "cell_type": "code",
   "execution_count": 11,
   "outputs": [
    {
     "name": "stdout",
     "output_type": "stream",
     "text": [
      "time taken to execute:  0.8714330196380615\n"
     ]
    }
   ],
   "source": [
    "begin = time.time()\n",
    "amazon_news_data.to_csv('pkls/amazon_tokens.csv')\n",
    "end = time.time()\n",
    "print(\"time taken to execute: \", end - begin)\n",
    "#%"
   ],
   "metadata": {
    "collapsed": false,
    "pycharm": {
     "name": "#%%\n"
    }
   }
  },
  {
   "cell_type": "code",
   "execution_count": 12,
   "outputs": [
    {
     "name": "stdout",
     "output_type": "stream",
     "text": [
      "time taken to execute:  74.62903618812561\n"
     ]
    }
   ],
   "source": [
    "begin = time.time()\n",
    "apple_news_data['word_tokens'] = apple_news_data['word_tokens'].apply(lambda x: word_clean(x, 0))\n",
    "end = time.time()\n",
    "print(\"time taken to execute: \", end - begin)\n"
   ],
   "metadata": {
    "collapsed": false,
    "pycharm": {
     "name": "#%%\n"
    }
   }
  },
  {
   "cell_type": "code",
   "execution_count": 13,
   "outputs": [
    {
     "name": "stdout",
     "output_type": "stream",
     "text": [
      "time taken to execute:  0.8947939872741699\n"
     ]
    }
   ],
   "source": [
    "begin = time.time()\n",
    "amazon_news_data.to_csv('pkls/apple_tokens.csv')\n",
    "end = time.time()\n",
    "print(\"time taken to execute: \", end - begin)"
   ],
   "metadata": {
    "collapsed": false,
    "pycharm": {
     "name": "#%%\n"
    }
   }
  }
 ],
 "metadata": {
  "kernelspec": {
   "display_name": "PyCharm (Stock_prediction_G24_P3)",
   "language": "python",
   "name": "pycharm-9e7c138f"
  },
  "language_info": {
   "codemirror_mode": {
    "name": "ipython",
    "version": 3
   },
   "file_extension": ".py",
   "mimetype": "text/x-python",
   "name": "python",
   "nbconvert_exporter": "python",
   "pygments_lexer": "ipython3",
   "version": "3.8.12"
  }
 },
 "nbformat": 4,
 "nbformat_minor": 1
}