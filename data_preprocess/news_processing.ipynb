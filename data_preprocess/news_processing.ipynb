{
 "cells": [
  {
   "cell_type": "code",
   "execution_count": null,
   "metadata": {
    "collapsed": true
   },
   "outputs": [],
   "source": [
    "import json\n",
    "import pandas as pd\n",
    "from datetime import datetime, timezone\n",
    "import os\n",
    "import pickle"
   ]
  },
  {
   "cell_type": "code",
   "execution_count": null,
   "outputs": [],
   "source": [
    "start_date = datetime.fromisoformat(\"2018-01-01 00:00\").astimezone(tz=timezone.utc).replace(tzinfo=None).timestamp()\n",
    "end_date = datetime.fromisoformat(\"2018-12-31 23:59\").astimezone(tz=timezone.utc).replace(tzinfo=None).timestamp()"
   ],
   "metadata": {
    "collapsed": false,
    "pycharm": {
     "name": "#%%\n"
    }
   }
  },
  {
   "cell_type": "code",
   "execution_count": null,
   "outputs": [],
   "source": [
    "news_path = \"/Users/k2rth1k/swm/News\"\n",
    "ignore_files = ['.DS_Store']\n",
    "news_folders = os.listdir(news_path)\n",
    "article_content = []\n",
    "published_time = []\n",
    "for sub_folder in news_folders:\n",
    "    if sub_folder in ignore_files:\n",
    "        continue\n",
    "    articles = os.listdir(news_path + \"/\" + sub_folder)\n",
    "    for article in articles:\n",
    "        article_path = news_path + \"/\" + sub_folder + \"/\" + article\n",
    "        article_json = open(article_path)\n",
    "        data = json.load(article_json)\n",
    "        time_of_publish = data['published']\n",
    "        time = datetime.fromisoformat(time_of_publish).astimezone(tz=timezone.utc).replace(tzinfo=None).timestamp()\n",
    "        published_time.append(time)\n",
    "        article_content.append(data['text'].lower())\n",
    "\n",
    "raw_data = pd.DataFrame({\n",
    "    \"published_time\": published_time,\n",
    "    'article_content': article_content\n",
    "})\n",
    "raw_data.drop(raw_data[(raw_data['published_time'] < start_date) | (raw_data['published_time'] > end_date)].index,\n",
    "              inplace=True)"
   ],
   "metadata": {
    "collapsed": false,
    "pycharm": {
     "name": "#%%\n"
    }
   }
  },
  {
   "cell_type": "code",
   "execution_count": 31,
   "outputs": [],
   "source": [
    "apple_news_data = raw_data[raw_data['article_content'].str.contains('apple|aapl')]\n",
    "amazon_news_data = raw_data[raw_data['article_content'].str.contains(\"amazon|amzn\")]\n",
    "amazon_news_data = amazon_news_data[amazon_news_data['article_content'].map(lambda x: x.isascii())]\n",
    "apple_news_data = apple_news_data[apple_news_data['article_content'].map(lambda x: x.isascii())]\n",
    "amazon_news_data.drop_duplicates(inplace=True)\n",
    "apple_news_data.drop_duplicates(inplace=True)\n",
    "amazon_news_data.sort_values('published_time', ascending=True, inplace=True)\n",
    "apple_news_data.sort_values('published_time', ascending=True, inplace=True)"
   ],
   "metadata": {
    "collapsed": false,
    "pycharm": {
     "name": "#%%\n"
    }
   }
  },
  {
   "cell_type": "code",
   "execution_count": 32,
   "outputs": [
    {
     "data": {
      "text/plain": "       published_time                                    article_content\n16174    1.514832e+09  facebook \\nciti analysts say that there is a 4...\n15612    1.514855e+09  quote: in this context avxl is a new apple, im...\n12200    1.514862e+09  2 warren buffett stocks to consider buying now...\n15928    1.514862e+09  2 warren buffett stocks to consider buying now...\n14085    1.514862e+09  2 warren buffett stocks to consider buying now...\n...               ...                                                ...\n56164    1.546321e+09  let's talk about apple, inc. (nasdaq: aapl ). ...\n61168    1.546322e+09  big trends: gartner iaas mq is down to 6 compa...\n41       1.546326e+09  - fundamental analysis - technology is apple s...\n60869    1.546332e+09  new york, oct. 23, 2018 (globe newswire) -- in...\n61440    1.546334e+09  merck (nyse: mrk ) and pfizer (nyse: pfe ) fin...\n\n[19084 rows x 2 columns]",
      "text/html": "<div>\n<style scoped>\n    .dataframe tbody tr th:only-of-type {\n        vertical-align: middle;\n    }\n\n    .dataframe tbody tr th {\n        vertical-align: top;\n    }\n\n    .dataframe thead th {\n        text-align: right;\n    }\n</style>\n<table border=\"1\" class=\"dataframe\">\n  <thead>\n    <tr style=\"text-align: right;\">\n      <th></th>\n      <th>published_time</th>\n      <th>article_content</th>\n    </tr>\n  </thead>\n  <tbody>\n    <tr>\n      <th>16174</th>\n      <td>1.514832e+09</td>\n      <td>facebook \\nciti analysts say that there is a 4...</td>\n    </tr>\n    <tr>\n      <th>15612</th>\n      <td>1.514855e+09</td>\n      <td>quote: in this context avxl is a new apple, im...</td>\n    </tr>\n    <tr>\n      <th>12200</th>\n      <td>1.514862e+09</td>\n      <td>2 warren buffett stocks to consider buying now...</td>\n    </tr>\n    <tr>\n      <th>15928</th>\n      <td>1.514862e+09</td>\n      <td>2 warren buffett stocks to consider buying now...</td>\n    </tr>\n    <tr>\n      <th>14085</th>\n      <td>1.514862e+09</td>\n      <td>2 warren buffett stocks to consider buying now...</td>\n    </tr>\n    <tr>\n      <th>...</th>\n      <td>...</td>\n      <td>...</td>\n    </tr>\n    <tr>\n      <th>56164</th>\n      <td>1.546321e+09</td>\n      <td>let's talk about apple, inc. (nasdaq: aapl ). ...</td>\n    </tr>\n    <tr>\n      <th>61168</th>\n      <td>1.546322e+09</td>\n      <td>big trends: gartner iaas mq is down to 6 compa...</td>\n    </tr>\n    <tr>\n      <th>41</th>\n      <td>1.546326e+09</td>\n      <td>- fundamental analysis - technology is apple s...</td>\n    </tr>\n    <tr>\n      <th>60869</th>\n      <td>1.546332e+09</td>\n      <td>new york, oct. 23, 2018 (globe newswire) -- in...</td>\n    </tr>\n    <tr>\n      <th>61440</th>\n      <td>1.546334e+09</td>\n      <td>merck (nyse: mrk ) and pfizer (nyse: pfe ) fin...</td>\n    </tr>\n  </tbody>\n</table>\n<p>19084 rows × 2 columns</p>\n</div>"
     },
     "execution_count": 32,
     "metadata": {},
     "output_type": "execute_result"
    }
   ],
   "source": [
    "apple_news_data"
   ],
   "metadata": {
    "collapsed": false,
    "pycharm": {
     "name": "#%%\n"
    }
   }
  },
  {
   "cell_type": "code",
   "execution_count": 33,
   "outputs": [
    {
     "data": {
      "text/plain": "       published_time                                    article_content\n12886    1.514876e+09  here are some things going on today in your wo...\n13571    1.514876e+09  shutterstock photo\\nstocks indexes opened the ...\n11837    1.514876e+09  by ryan vlastelica\\nto simply match the market...\n13804    1.514876e+09  what happened shares of many optical networkin...\n15737    1.514876e+09  by nigam arora\\nthe practical way to take adva...\n...               ...                                                ...\n1348     1.546281e+09  the biggest benefit from living are the lesson...\n2553     1.546290e+09  apple stock price\\napple (nasdaq: aapl ) was v...\n849      1.546306e+09  none of us has a crystal ball that shows us cl...\n56164    1.546321e+09  let's talk about apple, inc. (nasdaq: aapl ). ...\n61168    1.546322e+09  big trends: gartner iaas mq is down to 6 compa...\n\n[5677 rows x 2 columns]",
      "text/html": "<div>\n<style scoped>\n    .dataframe tbody tr th:only-of-type {\n        vertical-align: middle;\n    }\n\n    .dataframe tbody tr th {\n        vertical-align: top;\n    }\n\n    .dataframe thead th {\n        text-align: right;\n    }\n</style>\n<table border=\"1\" class=\"dataframe\">\n  <thead>\n    <tr style=\"text-align: right;\">\n      <th></th>\n      <th>published_time</th>\n      <th>article_content</th>\n    </tr>\n  </thead>\n  <tbody>\n    <tr>\n      <th>12886</th>\n      <td>1.514876e+09</td>\n      <td>here are some things going on today in your wo...</td>\n    </tr>\n    <tr>\n      <th>13571</th>\n      <td>1.514876e+09</td>\n      <td>shutterstock photo\\nstocks indexes opened the ...</td>\n    </tr>\n    <tr>\n      <th>11837</th>\n      <td>1.514876e+09</td>\n      <td>by ryan vlastelica\\nto simply match the market...</td>\n    </tr>\n    <tr>\n      <th>13804</th>\n      <td>1.514876e+09</td>\n      <td>what happened shares of many optical networkin...</td>\n    </tr>\n    <tr>\n      <th>15737</th>\n      <td>1.514876e+09</td>\n      <td>by nigam arora\\nthe practical way to take adva...</td>\n    </tr>\n    <tr>\n      <th>...</th>\n      <td>...</td>\n      <td>...</td>\n    </tr>\n    <tr>\n      <th>1348</th>\n      <td>1.546281e+09</td>\n      <td>the biggest benefit from living are the lesson...</td>\n    </tr>\n    <tr>\n      <th>2553</th>\n      <td>1.546290e+09</td>\n      <td>apple stock price\\napple (nasdaq: aapl ) was v...</td>\n    </tr>\n    <tr>\n      <th>849</th>\n      <td>1.546306e+09</td>\n      <td>none of us has a crystal ball that shows us cl...</td>\n    </tr>\n    <tr>\n      <th>56164</th>\n      <td>1.546321e+09</td>\n      <td>let's talk about apple, inc. (nasdaq: aapl ). ...</td>\n    </tr>\n    <tr>\n      <th>61168</th>\n      <td>1.546322e+09</td>\n      <td>big trends: gartner iaas mq is down to 6 compa...</td>\n    </tr>\n  </tbody>\n</table>\n<p>5677 rows × 2 columns</p>\n</div>"
     },
     "execution_count": 33,
     "metadata": {},
     "output_type": "execute_result"
    }
   ],
   "source": [
    "amazon_news_data"
   ],
   "metadata": {
    "collapsed": false,
    "pycharm": {
     "name": "#%%\n"
    }
   }
  },
  {
   "cell_type": "code",
   "execution_count": 34,
   "outputs": [],
   "source": [
    "with open('pkls/amazon_news_data.pkl', 'wb') as f:\n",
    "    pickle.dump(amazon_news_data, f)\n",
    "\n",
    "with open('pkls/apple_news_data.pkl', 'wb') as f:\n",
    "    pickle.dump(apple_news_data, f)"
   ],
   "metadata": {
    "collapsed": false,
    "pycharm": {
     "name": "#%%\n"
    }
   }
  }
 ],
 "metadata": {
  "kernelspec": {
   "name": "pycharm-9e7c138f",
   "language": "python",
   "display_name": "PyCharm (Stock_prediction_G24_P3)"
  },
  "language_info": {
   "codemirror_mode": {
    "name": "ipython",
    "version": 2
   },
   "file_extension": ".py",
   "mimetype": "text/x-python",
   "name": "python",
   "nbconvert_exporter": "python",
   "pygments_lexer": "ipython2",
   "version": "2.7.6"
  }
 },
 "nbformat": 4,
 "nbformat_minor": 0
}