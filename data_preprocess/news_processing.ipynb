{
 "cells": [
  {
   "cell_type": "code",
   "execution_count": 14,
   "metadata": {
    "collapsed": true
   },
   "outputs": [],
   "source": [
    "import json\n",
    "import pandas as pd\n",
    "from datetime import datetime, timezone\n",
    "import os\n",
    "import pickle"
   ]
  },
  {
   "cell_type": "code",
   "execution_count": 15,
   "outputs": [],
   "source": [
    "start_date = datetime.fromisoformat(\"2018-01-01 00:00\").astimezone(tz=timezone.utc).replace(tzinfo=None).timestamp()\n",
    "end_date = datetime.fromisoformat(\"2018-12-31 23:59\").astimezone(tz=timezone.utc).replace(tzinfo=None).timestamp()"
   ],
   "metadata": {
    "collapsed": false,
    "pycharm": {
     "name": "#%%\n"
    }
   }
  },
  {
   "cell_type": "code",
   "execution_count": 16,
   "outputs": [],
   "source": [
    "news_path = \"/Users/k2rth1k/swm/News\"\n",
    "ignore_files = ['.DS_Store']\n",
    "news_folders = os.listdir(news_path)\n",
    "article_content = []\n",
    "published_time = []\n",
    "for sub_folder in news_folders:\n",
    "    if sub_folder in ignore_files:\n",
    "        continue\n",
    "    articles = os.listdir(news_path + \"/\" + sub_folder)\n",
    "    for article in articles:\n",
    "        article_path = news_path + \"/\" + sub_folder + \"/\" + article\n",
    "        article_json = open(article_path)\n",
    "        data = json.load(article_json)\n",
    "        time_of_publish = data['published']\n",
    "        time = datetime.fromisoformat(time_of_publish).astimezone(tz=timezone.utc).replace(tzinfo=None).timestamp()\n",
    "        published_time.append(time)\n",
    "        article_content.append(data['text'].lower())\n",
    "\n",
    "raw_data = pd.DataFrame({\n",
    "    \"published_time\": published_time,\n",
    "    'article_content': article_content\n",
    "})\n",
    "raw_data.drop(raw_data[(raw_data['published_time'] < start_date) | (raw_data['published_time'] > end_date)].index,\n",
    "              inplace=True)"
   ],
   "metadata": {
    "collapsed": false,
    "pycharm": {
     "name": "#%%\n"
    }
   }
  },
  {
   "cell_type": "code",
   "execution_count": 17,
   "outputs": [
    {
     "name": "stderr",
     "output_type": "stream",
     "text": [
      "/var/folders/p2/k76tzsj51ks1xgbf5_r8_3bw0000gn/T/ipykernel_30079/2364031488.py:3: SettingWithCopyWarning: \n",
      "A value is trying to be set on a copy of a slice from a DataFrame\n",
      "\n",
      "See the caveats in the documentation: https://pandas.pydata.org/pandas-docs/stable/user_guide/indexing.html#returning-a-view-versus-a-copy\n",
      "  amazon_news_data.sort_values('published_time', ascending=True, inplace=True)\n",
      "/var/folders/p2/k76tzsj51ks1xgbf5_r8_3bw0000gn/T/ipykernel_30079/2364031488.py:4: SettingWithCopyWarning: \n",
      "A value is trying to be set on a copy of a slice from a DataFrame\n",
      "\n",
      "See the caveats in the documentation: https://pandas.pydata.org/pandas-docs/stable/user_guide/indexing.html#returning-a-view-versus-a-copy\n",
      "  apple_news_data.sort_values('published_time', ascending=True, inplace=True)\n"
     ]
    }
   ],
   "source": [
    "apple_news_data = raw_data[raw_data['article_content'].str.contains('apple|aapl')]\n",
    "amazon_news_data = raw_data[raw_data['article_content'].str.contains(\"amazon|amzn\")]\n",
    "amazon_news_data.sort_values('published_time', ascending=True, inplace=True)\n",
    "apple_news_data.sort_values('published_time', ascending=True, inplace=True)"
   ],
   "metadata": {
    "collapsed": false,
    "pycharm": {
     "name": "#%%\n"
    }
   }
  },
  {
   "cell_type": "code",
   "execution_count": 18,
   "outputs": [
    {
     "data": {
      "text/plain": "       published_time                                    article_content\n13314    1.514822e+09  there is a 40% chance apple will acquire netfl...\n15691    1.514828e+09  2017-12-29 23:40:20 aapl,t,tmus,twx,vz, \\nat&t...\n14820    1.514837e+09  the top high-yield cefs for the new year (bst)...\n14722    1.514845e+09  新年新气象，但过分的狂喜不是我们理性投资人的风格。居安思危地想，2018年里有什么事情是值得...\n11492    1.514864e+09  browse: home mainstream bitcoin bitcoin or sto...\n...               ...                                                ...\n58787    1.546326e+09  eps for general motors company (gm) expected a...\n61410    1.546326e+09  what’s in j.c. penney company inc holding comp...\n54183    1.546336e+09  background it has been a year since we first i...\n60850    1.546341e+09  access_time 2 mins ago\\nin what has become som...\n56562    1.546344e+09  investing.com - stocks closed higher monday, g...\n\n[19286 rows x 2 columns]",
      "text/html": "<div>\n<style scoped>\n    .dataframe tbody tr th:only-of-type {\n        vertical-align: middle;\n    }\n\n    .dataframe tbody tr th {\n        vertical-align: top;\n    }\n\n    .dataframe thead th {\n        text-align: right;\n    }\n</style>\n<table border=\"1\" class=\"dataframe\">\n  <thead>\n    <tr style=\"text-align: right;\">\n      <th></th>\n      <th>published_time</th>\n      <th>article_content</th>\n    </tr>\n  </thead>\n  <tbody>\n    <tr>\n      <th>13314</th>\n      <td>1.514822e+09</td>\n      <td>there is a 40% chance apple will acquire netfl...</td>\n    </tr>\n    <tr>\n      <th>15691</th>\n      <td>1.514828e+09</td>\n      <td>2017-12-29 23:40:20 aapl,t,tmus,twx,vz, \\nat&amp;t...</td>\n    </tr>\n    <tr>\n      <th>14820</th>\n      <td>1.514837e+09</td>\n      <td>the top high-yield cefs for the new year (bst)...</td>\n    </tr>\n    <tr>\n      <th>14722</th>\n      <td>1.514845e+09</td>\n      <td>新年新气象，但过分的狂喜不是我们理性投资人的风格。居安思危地想，2018年里有什么事情是值得...</td>\n    </tr>\n    <tr>\n      <th>11492</th>\n      <td>1.514864e+09</td>\n      <td>browse: home mainstream bitcoin bitcoin or sto...</td>\n    </tr>\n    <tr>\n      <th>...</th>\n      <td>...</td>\n      <td>...</td>\n    </tr>\n    <tr>\n      <th>58787</th>\n      <td>1.546326e+09</td>\n      <td>eps for general motors company (gm) expected a...</td>\n    </tr>\n    <tr>\n      <th>61410</th>\n      <td>1.546326e+09</td>\n      <td>what’s in j.c. penney company inc holding comp...</td>\n    </tr>\n    <tr>\n      <th>54183</th>\n      <td>1.546336e+09</td>\n      <td>background it has been a year since we first i...</td>\n    </tr>\n    <tr>\n      <th>60850</th>\n      <td>1.546341e+09</td>\n      <td>access_time 2 mins ago\\nin what has become som...</td>\n    </tr>\n    <tr>\n      <th>56562</th>\n      <td>1.546344e+09</td>\n      <td>investing.com - stocks closed higher monday, g...</td>\n    </tr>\n  </tbody>\n</table>\n<p>19286 rows × 2 columns</p>\n</div>"
     },
     "execution_count": 18,
     "metadata": {},
     "output_type": "execute_result"
    }
   ],
   "source": [
    "amazon_news_data"
   ],
   "metadata": {
    "collapsed": false,
    "pycharm": {
     "name": "#%%\n"
    }
   }
  },
  {
   "cell_type": "code",
   "execution_count": 19,
   "outputs": [
    {
     "data": {
      "text/plain": "       published_time                                    article_content\n0        1.543715e+09  vishria bird financial group llc acquired a ne...\n1        1.546075e+09  siri gets much smarter as apple's investments ...\n2        1.544080e+09  apple ( aapl - free report ) closed the most r...\n3        1.545041e+09  youtube/sakitech\\napple's 2018 iphone lineup i...\n4        1.546138e+09  new york , dec. 27, 2018 /prnewswire/ — invest...\n...               ...                                                ...\n78050    1.522413e+09  apple (nasdaq:aapl) shares sold by edge adviso...\n78051    1.520388e+09  stocks were already in a two-day slide when th...\n78052    1.519952e+09  options unusual activity most active equity op...\n78053    1.522275e+09  forget the iphone 8 and iphone x — here are 7 ...\n78054    1.521011e+09  this stock’s up almost 25,000% since 2009 and ...\n\n[68251 rows x 2 columns]",
      "text/html": "<div>\n<style scoped>\n    .dataframe tbody tr th:only-of-type {\n        vertical-align: middle;\n    }\n\n    .dataframe tbody tr th {\n        vertical-align: top;\n    }\n\n    .dataframe thead th {\n        text-align: right;\n    }\n</style>\n<table border=\"1\" class=\"dataframe\">\n  <thead>\n    <tr style=\"text-align: right;\">\n      <th></th>\n      <th>published_time</th>\n      <th>article_content</th>\n    </tr>\n  </thead>\n  <tbody>\n    <tr>\n      <th>0</th>\n      <td>1.543715e+09</td>\n      <td>vishria bird financial group llc acquired a ne...</td>\n    </tr>\n    <tr>\n      <th>1</th>\n      <td>1.546075e+09</td>\n      <td>siri gets much smarter as apple's investments ...</td>\n    </tr>\n    <tr>\n      <th>2</th>\n      <td>1.544080e+09</td>\n      <td>apple ( aapl - free report ) closed the most r...</td>\n    </tr>\n    <tr>\n      <th>3</th>\n      <td>1.545041e+09</td>\n      <td>youtube/sakitech\\napple's 2018 iphone lineup i...</td>\n    </tr>\n    <tr>\n      <th>4</th>\n      <td>1.546138e+09</td>\n      <td>new york , dec. 27, 2018 /prnewswire/ — invest...</td>\n    </tr>\n    <tr>\n      <th>...</th>\n      <td>...</td>\n      <td>...</td>\n    </tr>\n    <tr>\n      <th>78050</th>\n      <td>1.522413e+09</td>\n      <td>apple (nasdaq:aapl) shares sold by edge adviso...</td>\n    </tr>\n    <tr>\n      <th>78051</th>\n      <td>1.520388e+09</td>\n      <td>stocks were already in a two-day slide when th...</td>\n    </tr>\n    <tr>\n      <th>78052</th>\n      <td>1.519952e+09</td>\n      <td>options unusual activity most active equity op...</td>\n    </tr>\n    <tr>\n      <th>78053</th>\n      <td>1.522275e+09</td>\n      <td>forget the iphone 8 and iphone x — here are 7 ...</td>\n    </tr>\n    <tr>\n      <th>78054</th>\n      <td>1.521011e+09</td>\n      <td>this stock’s up almost 25,000% since 2009 and ...</td>\n    </tr>\n  </tbody>\n</table>\n<p>68251 rows × 2 columns</p>\n</div>"
     },
     "execution_count": 19,
     "metadata": {},
     "output_type": "execute_result"
    }
   ],
   "source": [
    "raw_data"
   ],
   "metadata": {
    "collapsed": false,
    "pycharm": {
     "name": "#%%\n"
    }
   }
  },
  {
   "cell_type": "code",
   "execution_count": 20,
   "outputs": [
    {
     "name": "stdout",
     "output_type": "stream",
     "text": [
      "done\n",
      "done\n"
     ]
    }
   ],
   "source": [
    "with open('pkls/amazon_news_data.pkl', 'wb') as f:\n",
    "    pickle.dump(amazon_news_data, f)\n",
    "    print(\"done\")\n",
    "with open('pkls/apple_news_data.pkl', 'wb') as f:\n",
    "    pickle.dump(apple_news_data, f)\n",
    "    print(\"done\")"
   ],
   "metadata": {
    "collapsed": false,
    "pycharm": {
     "name": "#%%\n"
    }
   }
  }
 ],
 "metadata": {
  "kernelspec": {
   "name": "pycharm-9e7c138f",
   "language": "python",
   "display_name": "PyCharm (Stock_prediction_G24_P3)"
  },
  "language_info": {
   "codemirror_mode": {
    "name": "ipython",
    "version": 2
   },
   "file_extension": ".py",
   "mimetype": "text/x-python",
   "name": "python",
   "nbconvert_exporter": "python",
   "pygments_lexer": "ipython2",
   "version": "2.7.6"
  }
 },
 "nbformat": 4,
 "nbformat_minor": 0
}