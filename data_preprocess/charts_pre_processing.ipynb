{
 "cells": [
  {
   "cell_type": "code",
   "execution_count": 5,
   "metadata": {
    "collapsed": true
   },
   "outputs": [],
   "source": [
    "import pandas as pd\n",
    "import os\n",
    "import pickle\n",
    "from datetime import datetime\n",
    "from datetime import timezone"
   ]
  },
  {
   "cell_type": "code",
   "execution_count": 6,
   "metadata": {
    "collapsed": false,
    "pycharm": {
     "name": "#%%\n"
    }
   },
   "outputs": [],
   "source": [
    "import json\n",
    "\n",
    "config = json.load(open(\"../configure.json\"))\n",
    "start_date = datetime.fromisoformat(config['start_time']).astimezone(tz=timezone.utc).replace(tzinfo=None).timestamp()\n",
    "end_date = datetime.fromisoformat(config['buffer_end_time']).astimezone(tz=timezone.utc).replace(\n",
    "    tzinfo=None).timestamp()"
   ]
  },
  {
   "cell_type": "code",
   "execution_count": 7,
   "metadata": {
    "collapsed": false,
    "pycharm": {
     "name": "#%%\n"
    }
   },
   "outputs": [],
   "source": [
    "charts = os.listdir('data/CHARTS')\n",
    "length_of_time_windows = [5, 15, 30, 60, 240, 1440]\n",
    "preferred_time = 1440\n",
    "chart_pkls_path = config['chart_pkls']"
   ]
  },
  {
   "cell_type": "code",
   "execution_count": 8,
   "metadata": {
    "collapsed": false,
    "pycharm": {
     "name": "#%%\n"
    }
   },
   "outputs": [],
   "source": [
    "form = \"%d-%m-%Y %H:%M\"\n",
    "\n",
    "\n",
    "def company_chart(data_set):\n",
    "    headers = [\"date\", \"time\", \"open\", \"high\", \"low\", \"close\", \"volume\"]\n",
    "    stock_chart = pd.read_csv(data_set, names=headers)\n",
    "    trends = stock_chart.apply(lambda row: 1 if row[\"close\"] > row[\"open\"] else -1, axis=1)\n",
    "    timestamps = stock_chart.apply(\n",
    "        lambda row: datetime.fromisoformat(row[\"date\"].replace(\".\", \"-\") + \" \" + row[\"time\"]).timestamp(), axis=1)\n",
    "    time_frames = stock_chart.apply(\n",
    "        lambda row: datetime.fromisoformat(row[\"date\"].replace(\".\", \"-\") + \" \" + row[\"time\"]).strftime(form), axis=1)\n",
    "    df = pd.DataFrame({\n",
    "        \"timestamp\": timestamps,\n",
    "        \"time_frame\": time_frames,\n",
    "        \"trends\": trends\n",
    "    })\n",
    "    df.drop(df[(df['timestamp'] < start_date) | (\n",
    "            df['timestamp'] > end_date)].index,\n",
    "            inplace=True)\n",
    "    df.sort_values('timestamp', ascending=True, inplace=True)\n",
    "    return df\n",
    "\n",
    "\n",
    "for i in length_of_time_windows:\n",
    "    amazon_stock_prices = company_chart('data/CHARTS/' + 'AMAZON' + str(i) + \".csv\")\n",
    "    apple_stock_prices = company_chart('data/CHARTS/' + 'APPLE' + str(i) + \".csv\")\n",
    "    with open(chart_pkls_path + 'amazon_stock_chart' + str(i) + '.pkl', 'wb') as f:\n",
    "        pickle.dump(apple_stock_prices, f)\n",
    "    with open(chart_pkls_path + 'apple_stock_chart' + str(i) + '.pkl', 'wb') as f:\n",
    "        pickle.dump(apple_stock_prices, f)"
   ]
  }
 ],
 "metadata": {
  "interpreter": {
   "hash": "dba153492da71b72ca386bda186463b4e0de85910fcb623493b512d22b510972"
  },
  "kernelspec": {
   "display_name": "PyCharm (Stock_prediction_G24_P3)",
   "language": "python",
   "name": "python3"
  },
  "language_info": {
   "codemirror_mode": {
    "name": "ipython",
    "version": 3
   },
   "file_extension": ".py",
   "mimetype": "text/x-python",
   "name": "python",
   "nbconvert_exporter": "python",
   "pygments_lexer": "ipython3",
   "version": "3.9.10"
  }
 },
 "nbformat": 4,
 "nbformat_minor": 0
}