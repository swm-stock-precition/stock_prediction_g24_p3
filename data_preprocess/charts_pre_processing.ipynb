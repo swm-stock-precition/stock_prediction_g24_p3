{
 "cells": [
  {
   "cell_type": "code",
   "execution_count": 26,
   "metadata": {
    "collapsed": true
   },
   "outputs": [],
   "source": [
    "import pandas as pd\n",
    "import os\n",
    "import pickle\n",
    "from datetime import datetime\n",
    "from datetime import timezone"
   ]
  },
  {
   "cell_type": "code",
   "execution_count": 27,
   "outputs": [],
   "source": [
    "import json\n",
    "\n",
    "config = json.load(open(\"../configure.json\"))\n",
    "start_date = datetime.fromisoformat(config['start_time']).astimezone(tz=timezone.utc).replace(tzinfo=None).timestamp()\n",
    "end_date = datetime.fromisoformat(config['end_time']).astimezone(tz=timezone.utc).replace(tzinfo=None).timestamp()"
   ],
   "metadata": {
    "collapsed": false,
    "pycharm": {
     "name": "#%%\n"
    }
   }
  },
  {
   "cell_type": "code",
   "execution_count": 28,
   "outputs": [],
   "source": [
    "charts = os.listdir('data/CHARTS')\n",
    "length_of_time_windows = [5, 15, 30, 60, 240, 1440]\n",
    "preferred_time = 1440"
   ],
   "metadata": {
    "collapsed": false,
    "pycharm": {
     "name": "#%%\n"
    }
   }
  },
  {
   "cell_type": "code",
   "execution_count": 29,
   "outputs": [],
   "source": [
    "apple_stock_chart = pd.DataFrame()\n",
    "amazon_trends = []\n",
    "amazon_timestamps = []\n",
    "amazon_time_frames = []\n",
    "apple_trends = []\n",
    "apple_timestamps = []\n",
    "apple_time_frames = []\n",
    "if 'AMAZON' + str(preferred_time) + \".csv\" in charts:\n",
    "    headers = [\"date\", \"time\", \"open\", \"high\", \"low\", \"close\", \"volume\"]\n",
    "    amazon_stock_chart = pd.read_csv('data/CHARTS/' + 'AMAZON' + str(preferred_time) + \".csv\", names=headers)\n",
    "    amazon_trends = amazon_stock_chart.apply(lambda row: 1 if row[\"close\"] > row[\"open\"] else -1, axis=1)\n",
    "    amazon_timestamps = amazon_stock_chart.apply(\n",
    "        lambda row: datetime.fromisoformat(row[\"date\"].replace(\".\", \"-\") + \" \" + row[\"time\"]).timestamp(), axis=1)\n",
    "if 'APPLE' + str(preferred_time) + \".csv\" in charts:\n",
    "    headers = [\"date\", \"time\", \"open\", \"high\", \"low\", \"close\", \"volume\"]\n",
    "    apple_stock_chart = pd.read_csv('data/CHARTS/' + 'APPLE' + str(preferred_time) + \".csv\", names=headers)\n",
    "    apple_trends = apple_stock_chart.apply(lambda row: 1 if row[\"close\"] > row[\"open\"] else -1, axis=1)\n",
    "    apple_timestamps = apple_stock_chart.apply(\n",
    "        lambda row: datetime.fromisoformat(row[\"date\"].replace(\".\", \"-\") + \" \" + row[\"time\"]).timestamp(), axis=1)\n",
    "\n",
    "amazon_stock_prices = pd.DataFrame({\n",
    "    \"timestamp\": amazon_timestamps,\n",
    "    \"trends\": amazon_trends\n",
    "})\n",
    "apple_stock_prices = pd.DataFrame({\n",
    "    \"timestamp\": apple_timestamps,\n",
    "    \"trends\": apple_trends\n",
    "})\n",
    "apple_stock_prices.drop(apple_stock_prices[(apple_stock_prices['timestamp'] < start_date) | (\n",
    "        apple_stock_prices['timestamp'] > end_date)].index,\n",
    "                        inplace=True)\n",
    "amazon_stock_prices.drop(amazon_stock_prices[(amazon_stock_prices['timestamp'] < start_date) | (\n",
    "        amazon_stock_prices['timestamp'] > end_date)].index,\n",
    "                         inplace=True)\n",
    "apple_stock_prices.sort_values('timestamp', ascending=True, inplace=True)\n",
    "amazon_stock_prices.sort_values('timestamp', ascending=True, inplace=True)"
   ],
   "metadata": {
    "collapsed": false,
    "pycharm": {
     "name": "#%%\n"
    }
   }
  },
  {
   "cell_type": "code",
   "execution_count": 30,
   "outputs": [
    {
     "data": {
      "text/plain": "        timestamp  trends\n821  1.514876e+09       1\n822  1.514963e+09       1\n823  1.515049e+09       1\n824  1.515136e+09       1\n825  1.515395e+09       1\n826  1.515481e+09      -1\n827  1.515568e+09       1\n828  1.515654e+09       1\n829  1.515740e+09       1\n830  1.516086e+09      -1\n831  1.516172e+09      -1\n832  1.516259e+09      -1\n833  1.516345e+09      -1\n834  1.516604e+09       1\n835  1.516691e+09       1\n836  1.516777e+09      -1\n837  1.516864e+09       1\n838  1.516950e+09       1\n839  1.517209e+09       1\n840  1.517296e+09       1\n841  1.517382e+09      -1\n842  1.517468e+09       1\n843  1.517555e+09      -1\n844  1.517814e+09      -1\n845  1.517900e+09       1\n846  1.517987e+09      -1\n847  1.518073e+09      -1\n848  1.518160e+09      -1\n849  1.518419e+09       1\n850  1.518505e+09       1\n851  1.518592e+09       1\n852  1.518678e+09       1\n853  1.518764e+09      -1\n854  1.519110e+09       1\n855  1.519196e+09      -1\n856  1.519283e+09      -1\n857  1.519369e+09       1\n858  1.519628e+09       1\n859  1.519715e+09      -1\n860  1.519801e+09      -1\n861  1.519888e+09      -1",
      "text/html": "<div>\n<style scoped>\n    .dataframe tbody tr th:only-of-type {\n        vertical-align: middle;\n    }\n\n    .dataframe tbody tr th {\n        vertical-align: top;\n    }\n\n    .dataframe thead th {\n        text-align: right;\n    }\n</style>\n<table border=\"1\" class=\"dataframe\">\n  <thead>\n    <tr style=\"text-align: right;\">\n      <th></th>\n      <th>timestamp</th>\n      <th>trends</th>\n    </tr>\n  </thead>\n  <tbody>\n    <tr>\n      <th>821</th>\n      <td>1.514876e+09</td>\n      <td>1</td>\n    </tr>\n    <tr>\n      <th>822</th>\n      <td>1.514963e+09</td>\n      <td>1</td>\n    </tr>\n    <tr>\n      <th>823</th>\n      <td>1.515049e+09</td>\n      <td>1</td>\n    </tr>\n    <tr>\n      <th>824</th>\n      <td>1.515136e+09</td>\n      <td>1</td>\n    </tr>\n    <tr>\n      <th>825</th>\n      <td>1.515395e+09</td>\n      <td>1</td>\n    </tr>\n    <tr>\n      <th>826</th>\n      <td>1.515481e+09</td>\n      <td>-1</td>\n    </tr>\n    <tr>\n      <th>827</th>\n      <td>1.515568e+09</td>\n      <td>1</td>\n    </tr>\n    <tr>\n      <th>828</th>\n      <td>1.515654e+09</td>\n      <td>1</td>\n    </tr>\n    <tr>\n      <th>829</th>\n      <td>1.515740e+09</td>\n      <td>1</td>\n    </tr>\n    <tr>\n      <th>830</th>\n      <td>1.516086e+09</td>\n      <td>-1</td>\n    </tr>\n    <tr>\n      <th>831</th>\n      <td>1.516172e+09</td>\n      <td>-1</td>\n    </tr>\n    <tr>\n      <th>832</th>\n      <td>1.516259e+09</td>\n      <td>-1</td>\n    </tr>\n    <tr>\n      <th>833</th>\n      <td>1.516345e+09</td>\n      <td>-1</td>\n    </tr>\n    <tr>\n      <th>834</th>\n      <td>1.516604e+09</td>\n      <td>1</td>\n    </tr>\n    <tr>\n      <th>835</th>\n      <td>1.516691e+09</td>\n      <td>1</td>\n    </tr>\n    <tr>\n      <th>836</th>\n      <td>1.516777e+09</td>\n      <td>-1</td>\n    </tr>\n    <tr>\n      <th>837</th>\n      <td>1.516864e+09</td>\n      <td>1</td>\n    </tr>\n    <tr>\n      <th>838</th>\n      <td>1.516950e+09</td>\n      <td>1</td>\n    </tr>\n    <tr>\n      <th>839</th>\n      <td>1.517209e+09</td>\n      <td>1</td>\n    </tr>\n    <tr>\n      <th>840</th>\n      <td>1.517296e+09</td>\n      <td>1</td>\n    </tr>\n    <tr>\n      <th>841</th>\n      <td>1.517382e+09</td>\n      <td>-1</td>\n    </tr>\n    <tr>\n      <th>842</th>\n      <td>1.517468e+09</td>\n      <td>1</td>\n    </tr>\n    <tr>\n      <th>843</th>\n      <td>1.517555e+09</td>\n      <td>-1</td>\n    </tr>\n    <tr>\n      <th>844</th>\n      <td>1.517814e+09</td>\n      <td>-1</td>\n    </tr>\n    <tr>\n      <th>845</th>\n      <td>1.517900e+09</td>\n      <td>1</td>\n    </tr>\n    <tr>\n      <th>846</th>\n      <td>1.517987e+09</td>\n      <td>-1</td>\n    </tr>\n    <tr>\n      <th>847</th>\n      <td>1.518073e+09</td>\n      <td>-1</td>\n    </tr>\n    <tr>\n      <th>848</th>\n      <td>1.518160e+09</td>\n      <td>-1</td>\n    </tr>\n    <tr>\n      <th>849</th>\n      <td>1.518419e+09</td>\n      <td>1</td>\n    </tr>\n    <tr>\n      <th>850</th>\n      <td>1.518505e+09</td>\n      <td>1</td>\n    </tr>\n    <tr>\n      <th>851</th>\n      <td>1.518592e+09</td>\n      <td>1</td>\n    </tr>\n    <tr>\n      <th>852</th>\n      <td>1.518678e+09</td>\n      <td>1</td>\n    </tr>\n    <tr>\n      <th>853</th>\n      <td>1.518764e+09</td>\n      <td>-1</td>\n    </tr>\n    <tr>\n      <th>854</th>\n      <td>1.519110e+09</td>\n      <td>1</td>\n    </tr>\n    <tr>\n      <th>855</th>\n      <td>1.519196e+09</td>\n      <td>-1</td>\n    </tr>\n    <tr>\n      <th>856</th>\n      <td>1.519283e+09</td>\n      <td>-1</td>\n    </tr>\n    <tr>\n      <th>857</th>\n      <td>1.519369e+09</td>\n      <td>1</td>\n    </tr>\n    <tr>\n      <th>858</th>\n      <td>1.519628e+09</td>\n      <td>1</td>\n    </tr>\n    <tr>\n      <th>859</th>\n      <td>1.519715e+09</td>\n      <td>-1</td>\n    </tr>\n    <tr>\n      <th>860</th>\n      <td>1.519801e+09</td>\n      <td>-1</td>\n    </tr>\n    <tr>\n      <th>861</th>\n      <td>1.519888e+09</td>\n      <td>-1</td>\n    </tr>\n  </tbody>\n</table>\n</div>"
     },
     "execution_count": 30,
     "metadata": {},
     "output_type": "execute_result"
    }
   ],
   "source": [
    "amazon_stock_prices\n",
    "\n",
    "#%"
   ],
   "metadata": {
    "collapsed": false,
    "pycharm": {
     "name": "#%%\n"
    }
   }
  },
  {
   "cell_type": "code",
   "execution_count": 31,
   "outputs": [
    {
     "data": {
      "text/plain": "        timestamp  trends\n870  1.514876e+09       1\n871  1.514963e+09      -1\n872  1.515049e+09       1\n873  1.515136e+09       1\n874  1.515395e+09      -1\n875  1.515481e+09      -1\n876  1.515568e+09       1\n877  1.515654e+09       1\n878  1.515740e+09       1\n879  1.516086e+09      -1\n880  1.516172e+09       1\n881  1.516259e+09      -1\n882  1.516345e+09      -1\n883  1.516604e+09      -1\n884  1.516691e+09      -1\n885  1.516777e+09      -1\n886  1.516864e+09      -1\n887  1.516950e+09      -1\n888  1.517209e+09      -1\n889  1.517296e+09       1\n890  1.517382e+09       1\n891  1.517468e+09       1\n892  1.517555e+09      -1\n893  1.517814e+09      -1\n894  1.517900e+09       1\n895  1.517987e+09      -1\n896  1.518073e+09      -1\n897  1.518160e+09      -1\n898  1.518419e+09       1\n899  1.518505e+09       1\n900  1.518592e+09       1\n901  1.518678e+09       1\n902  1.518764e+09       1\n903  1.519110e+09      -1\n904  1.519196e+09      -1\n905  1.519283e+09       1\n906  1.519369e+09       1\n907  1.519628e+09       1\n908  1.519715e+09      -1\n909  1.519801e+09      -1\n910  1.519888e+09      -1",
      "text/html": "<div>\n<style scoped>\n    .dataframe tbody tr th:only-of-type {\n        vertical-align: middle;\n    }\n\n    .dataframe tbody tr th {\n        vertical-align: top;\n    }\n\n    .dataframe thead th {\n        text-align: right;\n    }\n</style>\n<table border=\"1\" class=\"dataframe\">\n  <thead>\n    <tr style=\"text-align: right;\">\n      <th></th>\n      <th>timestamp</th>\n      <th>trends</th>\n    </tr>\n  </thead>\n  <tbody>\n    <tr>\n      <th>870</th>\n      <td>1.514876e+09</td>\n      <td>1</td>\n    </tr>\n    <tr>\n      <th>871</th>\n      <td>1.514963e+09</td>\n      <td>-1</td>\n    </tr>\n    <tr>\n      <th>872</th>\n      <td>1.515049e+09</td>\n      <td>1</td>\n    </tr>\n    <tr>\n      <th>873</th>\n      <td>1.515136e+09</td>\n      <td>1</td>\n    </tr>\n    <tr>\n      <th>874</th>\n      <td>1.515395e+09</td>\n      <td>-1</td>\n    </tr>\n    <tr>\n      <th>875</th>\n      <td>1.515481e+09</td>\n      <td>-1</td>\n    </tr>\n    <tr>\n      <th>876</th>\n      <td>1.515568e+09</td>\n      <td>1</td>\n    </tr>\n    <tr>\n      <th>877</th>\n      <td>1.515654e+09</td>\n      <td>1</td>\n    </tr>\n    <tr>\n      <th>878</th>\n      <td>1.515740e+09</td>\n      <td>1</td>\n    </tr>\n    <tr>\n      <th>879</th>\n      <td>1.516086e+09</td>\n      <td>-1</td>\n    </tr>\n    <tr>\n      <th>880</th>\n      <td>1.516172e+09</td>\n      <td>1</td>\n    </tr>\n    <tr>\n      <th>881</th>\n      <td>1.516259e+09</td>\n      <td>-1</td>\n    </tr>\n    <tr>\n      <th>882</th>\n      <td>1.516345e+09</td>\n      <td>-1</td>\n    </tr>\n    <tr>\n      <th>883</th>\n      <td>1.516604e+09</td>\n      <td>-1</td>\n    </tr>\n    <tr>\n      <th>884</th>\n      <td>1.516691e+09</td>\n      <td>-1</td>\n    </tr>\n    <tr>\n      <th>885</th>\n      <td>1.516777e+09</td>\n      <td>-1</td>\n    </tr>\n    <tr>\n      <th>886</th>\n      <td>1.516864e+09</td>\n      <td>-1</td>\n    </tr>\n    <tr>\n      <th>887</th>\n      <td>1.516950e+09</td>\n      <td>-1</td>\n    </tr>\n    <tr>\n      <th>888</th>\n      <td>1.517209e+09</td>\n      <td>-1</td>\n    </tr>\n    <tr>\n      <th>889</th>\n      <td>1.517296e+09</td>\n      <td>1</td>\n    </tr>\n    <tr>\n      <th>890</th>\n      <td>1.517382e+09</td>\n      <td>1</td>\n    </tr>\n    <tr>\n      <th>891</th>\n      <td>1.517468e+09</td>\n      <td>1</td>\n    </tr>\n    <tr>\n      <th>892</th>\n      <td>1.517555e+09</td>\n      <td>-1</td>\n    </tr>\n    <tr>\n      <th>893</th>\n      <td>1.517814e+09</td>\n      <td>-1</td>\n    </tr>\n    <tr>\n      <th>894</th>\n      <td>1.517900e+09</td>\n      <td>1</td>\n    </tr>\n    <tr>\n      <th>895</th>\n      <td>1.517987e+09</td>\n      <td>-1</td>\n    </tr>\n    <tr>\n      <th>896</th>\n      <td>1.518073e+09</td>\n      <td>-1</td>\n    </tr>\n    <tr>\n      <th>897</th>\n      <td>1.518160e+09</td>\n      <td>-1</td>\n    </tr>\n    <tr>\n      <th>898</th>\n      <td>1.518419e+09</td>\n      <td>1</td>\n    </tr>\n    <tr>\n      <th>899</th>\n      <td>1.518505e+09</td>\n      <td>1</td>\n    </tr>\n    <tr>\n      <th>900</th>\n      <td>1.518592e+09</td>\n      <td>1</td>\n    </tr>\n    <tr>\n      <th>901</th>\n      <td>1.518678e+09</td>\n      <td>1</td>\n    </tr>\n    <tr>\n      <th>902</th>\n      <td>1.518764e+09</td>\n      <td>1</td>\n    </tr>\n    <tr>\n      <th>903</th>\n      <td>1.519110e+09</td>\n      <td>-1</td>\n    </tr>\n    <tr>\n      <th>904</th>\n      <td>1.519196e+09</td>\n      <td>-1</td>\n    </tr>\n    <tr>\n      <th>905</th>\n      <td>1.519283e+09</td>\n      <td>1</td>\n    </tr>\n    <tr>\n      <th>906</th>\n      <td>1.519369e+09</td>\n      <td>1</td>\n    </tr>\n    <tr>\n      <th>907</th>\n      <td>1.519628e+09</td>\n      <td>1</td>\n    </tr>\n    <tr>\n      <th>908</th>\n      <td>1.519715e+09</td>\n      <td>-1</td>\n    </tr>\n    <tr>\n      <th>909</th>\n      <td>1.519801e+09</td>\n      <td>-1</td>\n    </tr>\n    <tr>\n      <th>910</th>\n      <td>1.519888e+09</td>\n      <td>-1</td>\n    </tr>\n  </tbody>\n</table>\n</div>"
     },
     "execution_count": 31,
     "metadata": {},
     "output_type": "execute_result"
    }
   ],
   "source": [
    "apple_stock_prices"
   ],
   "metadata": {
    "collapsed": false,
    "pycharm": {
     "name": "#%%\n"
    }
   }
  },
  {
   "cell_type": "code",
   "execution_count": 32,
   "outputs": [
    {
     "name": "stdout",
     "output_type": "stream",
     "text": [
      "done\n",
      "done\n"
     ]
    }
   ],
   "source": [
    "with open('pkls/amazon_stock_chart.pkl', 'wb') as f:\n",
    "    pickle.dump(apple_stock_prices, f)\n",
    "    print(\"done\")\n",
    "with open('pkls/apple_stock_chart.pkl', 'wb') as f:\n",
    "    pickle.dump(apple_stock_prices, f)\n",
    "    print(\"done\")"
   ],
   "metadata": {
    "collapsed": false,
    "pycharm": {
     "name": "#%%\n"
    }
   }
  }
 ],
 "metadata": {
  "kernelspec": {
   "name": "pycharm-9e7c138f",
   "language": "python",
   "display_name": "PyCharm (Stock_prediction_G24_P3)"
  },
  "language_info": {
   "codemirror_mode": {
    "name": "ipython",
    "version": 2
   },
   "file_extension": ".py",
   "mimetype": "text/x-python",
   "name": "python",
   "nbconvert_exporter": "python",
   "pygments_lexer": "ipython2",
   "version": "2.7.6"
  }
 },
 "nbformat": 4,
 "nbformat_minor": 0
}