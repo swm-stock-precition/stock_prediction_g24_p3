{
 "cells": [
  {
   "cell_type": "code",
   "execution_count": 6,
   "metadata": {
    "collapsed": true
   },
   "outputs": [],
   "source": [
    "import pandas as pd\n",
    "import os\n",
    "import pickle"
   ]
  },
  {
   "cell_type": "code",
   "execution_count": 2,
   "outputs": [],
   "source": [
    "charts = os.listdir('data/CHARTS')\n",
    "length_of_time_windows = [5, 15, 30, 60, 240, 1440]\n",
    "preferred_time = 1440"
   ],
   "metadata": {
    "collapsed": false,
    "pycharm": {
     "name": "#%%\n"
    }
   }
  },
  {
   "cell_type": "code",
   "execution_count": 3,
   "outputs": [
    {
     "data": {
      "text/plain": "            date   time     open     high      low    close  volume  \\\n0     2014.06.30  00:00   93.159   94.194   93.028   93.460    2799   \n1     2014.07.01  00:00   93.973   94.546   93.611   93.993    4787   \n2     2014.07.02  00:00   94.344   94.515   93.540   93.902    4476   \n3     2014.07.03  00:00   94.113   94.545   93.661   94.495    3454   \n4     2014.07.07  00:00   94.936   96.423   94.936   96.403    4638   \n...          ...    ...      ...      ...      ...      ...     ...   \n1138  2019.01.28  00:00  156.250  156.490  153.650  155.920   62867   \n1139  2019.01.29  00:00  156.470  161.620  150.980  160.540   66595   \n1140  2019.01.30  00:00  161.680  166.110  160.220  165.660   70344   \n1141  2019.01.31  00:00  166.100  168.980  164.530  166.770   62821   \n1142  2019.02.01  00:00  166.100  168.960  165.900  166.130   51990   \n\n      upward_trend  \n0             True  \n1             True  \n2            False  \n3             True  \n4             True  \n...            ...  \n1138         False  \n1139          True  \n1140          True  \n1141          True  \n1142          True  \n\n[1143 rows x 8 columns]",
      "text/html": "<div>\n<style scoped>\n    .dataframe tbody tr th:only-of-type {\n        vertical-align: middle;\n    }\n\n    .dataframe tbody tr th {\n        vertical-align: top;\n    }\n\n    .dataframe thead th {\n        text-align: right;\n    }\n</style>\n<table border=\"1\" class=\"dataframe\">\n  <thead>\n    <tr style=\"text-align: right;\">\n      <th></th>\n      <th>date</th>\n      <th>time</th>\n      <th>open</th>\n      <th>high</th>\n      <th>low</th>\n      <th>close</th>\n      <th>volume</th>\n      <th>upward_trend</th>\n    </tr>\n  </thead>\n  <tbody>\n    <tr>\n      <th>0</th>\n      <td>2014.06.30</td>\n      <td>00:00</td>\n      <td>93.159</td>\n      <td>94.194</td>\n      <td>93.028</td>\n      <td>93.460</td>\n      <td>2799</td>\n      <td>True</td>\n    </tr>\n    <tr>\n      <th>1</th>\n      <td>2014.07.01</td>\n      <td>00:00</td>\n      <td>93.973</td>\n      <td>94.546</td>\n      <td>93.611</td>\n      <td>93.993</td>\n      <td>4787</td>\n      <td>True</td>\n    </tr>\n    <tr>\n      <th>2</th>\n      <td>2014.07.02</td>\n      <td>00:00</td>\n      <td>94.344</td>\n      <td>94.515</td>\n      <td>93.540</td>\n      <td>93.902</td>\n      <td>4476</td>\n      <td>False</td>\n    </tr>\n    <tr>\n      <th>3</th>\n      <td>2014.07.03</td>\n      <td>00:00</td>\n      <td>94.113</td>\n      <td>94.545</td>\n      <td>93.661</td>\n      <td>94.495</td>\n      <td>3454</td>\n      <td>True</td>\n    </tr>\n    <tr>\n      <th>4</th>\n      <td>2014.07.07</td>\n      <td>00:00</td>\n      <td>94.936</td>\n      <td>96.423</td>\n      <td>94.936</td>\n      <td>96.403</td>\n      <td>4638</td>\n      <td>True</td>\n    </tr>\n    <tr>\n      <th>...</th>\n      <td>...</td>\n      <td>...</td>\n      <td>...</td>\n      <td>...</td>\n      <td>...</td>\n      <td>...</td>\n      <td>...</td>\n      <td>...</td>\n    </tr>\n    <tr>\n      <th>1138</th>\n      <td>2019.01.28</td>\n      <td>00:00</td>\n      <td>156.250</td>\n      <td>156.490</td>\n      <td>153.650</td>\n      <td>155.920</td>\n      <td>62867</td>\n      <td>False</td>\n    </tr>\n    <tr>\n      <th>1139</th>\n      <td>2019.01.29</td>\n      <td>00:00</td>\n      <td>156.470</td>\n      <td>161.620</td>\n      <td>150.980</td>\n      <td>160.540</td>\n      <td>66595</td>\n      <td>True</td>\n    </tr>\n    <tr>\n      <th>1140</th>\n      <td>2019.01.30</td>\n      <td>00:00</td>\n      <td>161.680</td>\n      <td>166.110</td>\n      <td>160.220</td>\n      <td>165.660</td>\n      <td>70344</td>\n      <td>True</td>\n    </tr>\n    <tr>\n      <th>1141</th>\n      <td>2019.01.31</td>\n      <td>00:00</td>\n      <td>166.100</td>\n      <td>168.980</td>\n      <td>164.530</td>\n      <td>166.770</td>\n      <td>62821</td>\n      <td>True</td>\n    </tr>\n    <tr>\n      <th>1142</th>\n      <td>2019.02.01</td>\n      <td>00:00</td>\n      <td>166.100</td>\n      <td>168.960</td>\n      <td>165.900</td>\n      <td>166.130</td>\n      <td>51990</td>\n      <td>True</td>\n    </tr>\n  </tbody>\n</table>\n<p>1143 rows × 8 columns</p>\n</div>"
     },
     "execution_count": 3,
     "metadata": {},
     "output_type": "execute_result"
    }
   ],
   "source": [
    "amazon_stock_chart = pd.DataFrame()\n",
    "apple_stock_chart = pd.DataFrame()\n",
    "if 'AMAZON' + str(preferred_time) + \".csv\" in charts:\n",
    "    headers = [\"date\", \"time\", \"open\", \"high\", \"low\", \"close\", \"volume\"]\n",
    "    amazon_stock_chart = pd.read_csv('data/CHARTS/' + 'AMAZON' + str(preferred_time) + \".csv\", names=headers)\n",
    "    amazon_stock_chart['upward_trend'] = (amazon_stock_chart['close'] - amazon_stock_chart['open'] > 0)\n",
    "if 'APPLE' + str(preferred_time) + \".csv\" in charts:\n",
    "    headers = [\"date\", \"time\", \"open\", \"high\", \"low\", \"close\", \"volume\"]\n",
    "    apple_stock_chart = pd.read_csv('data/CHARTS/' + 'APPLE' + str(preferred_time) + \".csv\", names=headers)\n",
    "    apple_stock_chart['upward_trend'] = (apple_stock_chart['close'] - apple_stock_chart['open'] > 0)\n",
    "apple_stock_chart"
   ],
   "metadata": {
    "collapsed": false,
    "pycharm": {
     "name": "#%%\n"
    }
   }
  },
  {
   "cell_type": "code",
   "execution_count": 4,
   "outputs": [
    {
     "data": {
      "text/plain": "            date   time     open     high      low    close  volume  \\\n0     2014.09.29  00:00   320.12   323.60   319.50   321.82    7187   \n1     2014.09.30  00:00   320.81   323.38   318.60   322.44    8364   \n2     2014.10.01  00:00   321.27   321.47   315.52   317.46   12002   \n3     2014.10.02  00:00   316.16   318.40   311.31   318.40   15487   \n4     2014.10.03  00:00   321.29   325.10   319.50   322.61   11113   \n...          ...    ...      ...      ...      ...      ...     ...   \n1089  2019.01.28  00:00  1656.96  1662.25  1614.07  1633.73   41878   \n1090  2019.01.29  00:00  1638.23  1639.42  1584.97  1612.87   39136   \n1091  2019.01.30  00:00  1616.53  1685.61  1616.53  1684.04   39652   \n1092  2019.01.31  00:00  1703.57  1776.99  1670.01  1709.98   51953   \n1093  2019.02.01  00:00  1638.98  1672.00  1624.34  1624.58   40974   \n\n      upward_trend  \n0             True  \n1             True  \n2            False  \n3             True  \n4             True  \n...            ...  \n1089         False  \n1090         False  \n1091          True  \n1092          True  \n1093         False  \n\n[1094 rows x 8 columns]",
      "text/html": "<div>\n<style scoped>\n    .dataframe tbody tr th:only-of-type {\n        vertical-align: middle;\n    }\n\n    .dataframe tbody tr th {\n        vertical-align: top;\n    }\n\n    .dataframe thead th {\n        text-align: right;\n    }\n</style>\n<table border=\"1\" class=\"dataframe\">\n  <thead>\n    <tr style=\"text-align: right;\">\n      <th></th>\n      <th>date</th>\n      <th>time</th>\n      <th>open</th>\n      <th>high</th>\n      <th>low</th>\n      <th>close</th>\n      <th>volume</th>\n      <th>upward_trend</th>\n    </tr>\n  </thead>\n  <tbody>\n    <tr>\n      <th>0</th>\n      <td>2014.09.29</td>\n      <td>00:00</td>\n      <td>320.12</td>\n      <td>323.60</td>\n      <td>319.50</td>\n      <td>321.82</td>\n      <td>7187</td>\n      <td>True</td>\n    </tr>\n    <tr>\n      <th>1</th>\n      <td>2014.09.30</td>\n      <td>00:00</td>\n      <td>320.81</td>\n      <td>323.38</td>\n      <td>318.60</td>\n      <td>322.44</td>\n      <td>8364</td>\n      <td>True</td>\n    </tr>\n    <tr>\n      <th>2</th>\n      <td>2014.10.01</td>\n      <td>00:00</td>\n      <td>321.27</td>\n      <td>321.47</td>\n      <td>315.52</td>\n      <td>317.46</td>\n      <td>12002</td>\n      <td>False</td>\n    </tr>\n    <tr>\n      <th>3</th>\n      <td>2014.10.02</td>\n      <td>00:00</td>\n      <td>316.16</td>\n      <td>318.40</td>\n      <td>311.31</td>\n      <td>318.40</td>\n      <td>15487</td>\n      <td>True</td>\n    </tr>\n    <tr>\n      <th>4</th>\n      <td>2014.10.03</td>\n      <td>00:00</td>\n      <td>321.29</td>\n      <td>325.10</td>\n      <td>319.50</td>\n      <td>322.61</td>\n      <td>11113</td>\n      <td>True</td>\n    </tr>\n    <tr>\n      <th>...</th>\n      <td>...</td>\n      <td>...</td>\n      <td>...</td>\n      <td>...</td>\n      <td>...</td>\n      <td>...</td>\n      <td>...</td>\n      <td>...</td>\n    </tr>\n    <tr>\n      <th>1089</th>\n      <td>2019.01.28</td>\n      <td>00:00</td>\n      <td>1656.96</td>\n      <td>1662.25</td>\n      <td>1614.07</td>\n      <td>1633.73</td>\n      <td>41878</td>\n      <td>False</td>\n    </tr>\n    <tr>\n      <th>1090</th>\n      <td>2019.01.29</td>\n      <td>00:00</td>\n      <td>1638.23</td>\n      <td>1639.42</td>\n      <td>1584.97</td>\n      <td>1612.87</td>\n      <td>39136</td>\n      <td>False</td>\n    </tr>\n    <tr>\n      <th>1091</th>\n      <td>2019.01.30</td>\n      <td>00:00</td>\n      <td>1616.53</td>\n      <td>1685.61</td>\n      <td>1616.53</td>\n      <td>1684.04</td>\n      <td>39652</td>\n      <td>True</td>\n    </tr>\n    <tr>\n      <th>1092</th>\n      <td>2019.01.31</td>\n      <td>00:00</td>\n      <td>1703.57</td>\n      <td>1776.99</td>\n      <td>1670.01</td>\n      <td>1709.98</td>\n      <td>51953</td>\n      <td>True</td>\n    </tr>\n    <tr>\n      <th>1093</th>\n      <td>2019.02.01</td>\n      <td>00:00</td>\n      <td>1638.98</td>\n      <td>1672.00</td>\n      <td>1624.34</td>\n      <td>1624.58</td>\n      <td>40974</td>\n      <td>False</td>\n    </tr>\n  </tbody>\n</table>\n<p>1094 rows × 8 columns</p>\n</div>"
     },
     "execution_count": 4,
     "metadata": {},
     "output_type": "execute_result"
    }
   ],
   "source": [
    "amazon_stock_chart"
   ],
   "metadata": {
    "collapsed": false,
    "pycharm": {
     "name": "#%%\n"
    }
   }
  },
  {
   "cell_type": "code",
   "execution_count": 5,
   "outputs": [
    {
     "name": "stdout",
     "output_type": "stream",
     "text": [
      "done\n",
      "done\n"
     ]
    }
   ],
   "source": [
    "with open('pkls/amazon_stock_chart.pkl', 'wb') as f:\n",
    "    pickle.dump(apple_stock_chart, f)\n",
    "    print(\"done\")\n",
    "with open('pkls/apple_stock_chart.pkl', 'wb') as f:\n",
    "    pickle.dump(apple_stock_chart, f)\n",
    "    print(\"done\")"
   ],
   "metadata": {
    "collapsed": false,
    "pycharm": {
     "name": "#%%\n"
    }
   }
  }
 ],
 "metadata": {
  "kernelspec": {
   "name": "pycharm-9e7c138f",
   "language": "python",
   "display_name": "PyCharm (Stock_prediction_G24_P3)"
  },
  "language_info": {
   "codemirror_mode": {
    "name": "ipython",
    "version": 2
   },
   "file_extension": ".py",
   "mimetype": "text/x-python",
   "name": "python",
   "nbconvert_exporter": "python",
   "pygments_lexer": "ipython2",
   "version": "2.7.6"
  }
 },
 "nbformat": 4,
 "nbformat_minor": 0
}