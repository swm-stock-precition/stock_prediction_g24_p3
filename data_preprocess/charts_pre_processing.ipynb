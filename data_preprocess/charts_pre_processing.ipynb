{
 "cells": [
  {
   "cell_type": "code",
   "execution_count": 19,
   "metadata": {
    "collapsed": true
   },
   "outputs": [],
   "source": [
    "import pandas as pd\n",
    "import os\n",
    "import pickle\n",
    "from datetime import datetime\n",
    "from datetime import timezone"
   ]
  },
  {
   "cell_type": "code",
   "execution_count": 20,
   "outputs": [],
   "source": [
    "start_date = datetime.fromisoformat(\"2018-01-01 00:00\").astimezone(tz=timezone.utc).replace(tzinfo=None).timestamp()\n",
    "end_date = datetime.fromisoformat(\"2018-12-31 23:59\").astimezone(tz=timezone.utc).replace(tzinfo=None).timestamp()"
   ],
   "metadata": {
    "collapsed": false,
    "pycharm": {
     "name": "#%%\n"
    }
   }
  },
  {
   "cell_type": "code",
   "execution_count": 21,
   "outputs": [],
   "source": [
    "charts = os.listdir('data/CHARTS')\n",
    "length_of_time_windows = [5, 15, 30, 60, 240, 1440]\n",
    "preferred_time = 240"
   ],
   "metadata": {
    "collapsed": false,
    "pycharm": {
     "name": "#%%\n"
    }
   }
  },
  {
   "cell_type": "code",
   "execution_count": 22,
   "outputs": [],
   "source": [
    "apple_stock_chart = pd.DataFrame()\n",
    "amazon_trends=[]\n",
    "amazon_timestamps=[]\n",
    "apple_trends=[]\n",
    "apple_timestamps=[]\n",
    "if 'AMAZON' + str(preferred_time) + \".csv\" in charts:\n",
    "    headers = [\"date\", \"time\", \"open\", \"high\", \"low\", \"close\", \"volume\"]\n",
    "    amazon_stock_chart = pd.read_csv('data/CHARTS/' + 'AMAZON' + str(preferred_time) + \".csv\", names=headers)\n",
    "    amazon_trends = amazon_stock_chart.apply(lambda row: 1 if row[\"close\"] > row[\"open\"] else -1, axis=1)\n",
    "    amazon_timestamps = amazon_stock_chart.apply(\n",
    "        lambda row: datetime.fromisoformat(row[\"date\"].replace(\".\", \"-\") + \" \" + row[\"time\"]).timestamp(), axis=1)\n",
    "if 'APPLE' + str(preferred_time) + \".csv\" in charts:\n",
    "    headers = [\"date\", \"time\", \"open\", \"high\", \"low\", \"close\", \"volume\"]\n",
    "    apple_stock_chart = pd.read_csv('data/CHARTS/' + 'APPLE' + str(preferred_time) + \".csv\", names=headers)\n",
    "    apple_trends = apple_stock_chart.apply(lambda row: 1 if row[\"close\"] > row[\"open\"] else -1, axis=1)\n",
    "    apple_timestamps = apple_stock_chart.apply(\n",
    "        lambda row: datetime.fromisoformat(row[\"date\"].replace(\".\", \"-\") + \" \" + row[\"time\"]).timestamp(), axis=1)\n",
    "\n",
    "amazon_stock_prices=pd.DataFrame({\n",
    "    \"timestamp\":amazon_timestamps,\n",
    "    \"trends\":amazon_trends\n",
    "})\n",
    "apple_stock_prices=pd.DataFrame({\n",
    "    \"timestamp\":apple_timestamps,\n",
    "    \"trends\":apple_trends\n",
    "})\n",
    "apple_stock_prices.drop(apple_stock_prices[(apple_stock_prices['timestamp'] < start_date) | (apple_stock_prices['timestamp'] > end_date)].index,\n",
    "              inplace=True)\n",
    "amazon_stock_prices.drop(amazon_stock_prices[(amazon_stock_prices['timestamp'] < start_date) | (amazon_stock_prices['timestamp'] > end_date)].index,\n",
    "              inplace=True)\n",
    "apple_stock_prices.sort_values('timestamp', ascending=True, inplace=True)\n",
    "amazon_stock_prices.sort_values('timestamp', ascending=True, inplace=True)"
   ],
   "metadata": {
    "collapsed": false,
    "pycharm": {
     "name": "#%%\n"
    }
   }
  },
  {
   "cell_type": "code",
   "execution_count": 23,
   "outputs": [
    {
     "data": {
      "text/plain": "         timestamp  trends\n1506  1.514925e+09       1\n1507  1.514939e+09      -1\n1508  1.514954e+09       1\n1509  1.515011e+09       1\n1510  1.515026e+09       1\n...            ...     ...\n2200  1.545971e+09      -1\n2201  1.546029e+09       1\n2202  1.546043e+09      -1\n2203  1.546288e+09       1\n2204  1.546303e+09      -1\n\n[699 rows x 2 columns]",
      "text/html": "<div>\n<style scoped>\n    .dataframe tbody tr th:only-of-type {\n        vertical-align: middle;\n    }\n\n    .dataframe tbody tr th {\n        vertical-align: top;\n    }\n\n    .dataframe thead th {\n        text-align: right;\n    }\n</style>\n<table border=\"1\" class=\"dataframe\">\n  <thead>\n    <tr style=\"text-align: right;\">\n      <th></th>\n      <th>timestamp</th>\n      <th>trends</th>\n    </tr>\n  </thead>\n  <tbody>\n    <tr>\n      <th>1506</th>\n      <td>1.514925e+09</td>\n      <td>1</td>\n    </tr>\n    <tr>\n      <th>1507</th>\n      <td>1.514939e+09</td>\n      <td>-1</td>\n    </tr>\n    <tr>\n      <th>1508</th>\n      <td>1.514954e+09</td>\n      <td>1</td>\n    </tr>\n    <tr>\n      <th>1509</th>\n      <td>1.515011e+09</td>\n      <td>1</td>\n    </tr>\n    <tr>\n      <th>1510</th>\n      <td>1.515026e+09</td>\n      <td>1</td>\n    </tr>\n    <tr>\n      <th>...</th>\n      <td>...</td>\n      <td>...</td>\n    </tr>\n    <tr>\n      <th>2200</th>\n      <td>1.545971e+09</td>\n      <td>-1</td>\n    </tr>\n    <tr>\n      <th>2201</th>\n      <td>1.546029e+09</td>\n      <td>1</td>\n    </tr>\n    <tr>\n      <th>2202</th>\n      <td>1.546043e+09</td>\n      <td>-1</td>\n    </tr>\n    <tr>\n      <th>2203</th>\n      <td>1.546288e+09</td>\n      <td>1</td>\n    </tr>\n    <tr>\n      <th>2204</th>\n      <td>1.546303e+09</td>\n      <td>-1</td>\n    </tr>\n  </tbody>\n</table>\n<p>699 rows × 2 columns</p>\n</div>"
     },
     "execution_count": 23,
     "metadata": {},
     "output_type": "execute_result"
    }
   ],
   "source": [
    "amazon_stock_prices\n",
    "\n",
    "#%"
   ],
   "metadata": {
    "collapsed": false,
    "pycharm": {
     "name": "#%%\n"
    }
   }
  },
  {
   "cell_type": "code",
   "execution_count": 24,
   "outputs": [
    {
     "data": {
      "text/plain": "         timestamp  trends\n2486  1.514925e+09       1\n2487  1.514939e+09       1\n2488  1.514954e+09      -1\n2489  1.515011e+09       1\n2490  1.515026e+09      -1\n...            ...     ...\n3180  1.545971e+09      -1\n3181  1.546029e+09      -1\n3182  1.546043e+09      -1\n3183  1.546288e+09       1\n3184  1.546303e+09      -1\n\n[699 rows x 2 columns]",
      "text/html": "<div>\n<style scoped>\n    .dataframe tbody tr th:only-of-type {\n        vertical-align: middle;\n    }\n\n    .dataframe tbody tr th {\n        vertical-align: top;\n    }\n\n    .dataframe thead th {\n        text-align: right;\n    }\n</style>\n<table border=\"1\" class=\"dataframe\">\n  <thead>\n    <tr style=\"text-align: right;\">\n      <th></th>\n      <th>timestamp</th>\n      <th>trends</th>\n    </tr>\n  </thead>\n  <tbody>\n    <tr>\n      <th>2486</th>\n      <td>1.514925e+09</td>\n      <td>1</td>\n    </tr>\n    <tr>\n      <th>2487</th>\n      <td>1.514939e+09</td>\n      <td>1</td>\n    </tr>\n    <tr>\n      <th>2488</th>\n      <td>1.514954e+09</td>\n      <td>-1</td>\n    </tr>\n    <tr>\n      <th>2489</th>\n      <td>1.515011e+09</td>\n      <td>1</td>\n    </tr>\n    <tr>\n      <th>2490</th>\n      <td>1.515026e+09</td>\n      <td>-1</td>\n    </tr>\n    <tr>\n      <th>...</th>\n      <td>...</td>\n      <td>...</td>\n    </tr>\n    <tr>\n      <th>3180</th>\n      <td>1.545971e+09</td>\n      <td>-1</td>\n    </tr>\n    <tr>\n      <th>3181</th>\n      <td>1.546029e+09</td>\n      <td>-1</td>\n    </tr>\n    <tr>\n      <th>3182</th>\n      <td>1.546043e+09</td>\n      <td>-1</td>\n    </tr>\n    <tr>\n      <th>3183</th>\n      <td>1.546288e+09</td>\n      <td>1</td>\n    </tr>\n    <tr>\n      <th>3184</th>\n      <td>1.546303e+09</td>\n      <td>-1</td>\n    </tr>\n  </tbody>\n</table>\n<p>699 rows × 2 columns</p>\n</div>"
     },
     "execution_count": 24,
     "metadata": {},
     "output_type": "execute_result"
    }
   ],
   "source": [
    "apple_stock_prices"
   ],
   "metadata": {
    "collapsed": false,
    "pycharm": {
     "name": "#%%\n"
    }
   }
  },
  {
   "cell_type": "code",
   "execution_count": 25,
   "outputs": [
    {
     "name": "stdout",
     "output_type": "stream",
     "text": [
      "done\n",
      "done\n"
     ]
    }
   ],
   "source": [
    "with open('pkls/amazon_stock_chart.pkl', 'wb') as f:\n",
    "    pickle.dump(apple_stock_prices, f)\n",
    "    print(\"done\")\n",
    "with open('pkls/apple_stock_chart.pkl', 'wb') as f:\n",
    "    pickle.dump(apple_stock_prices, f)\n",
    "    print(\"done\")"
   ],
   "metadata": {
    "collapsed": false,
    "pycharm": {
     "name": "#%%\n"
    }
   }
  }
 ],
 "metadata": {
  "kernelspec": {
   "name": "pycharm-9e7c138f",
   "language": "python",
   "display_name": "PyCharm (Stock_prediction_G24_P3)"
  },
  "language_info": {
   "codemirror_mode": {
    "name": "ipython",
    "version": 2
   },
   "file_extension": ".py",
   "mimetype": "text/x-python",
   "name": "python",
   "nbconvert_exporter": "python",
   "pygments_lexer": "ipython2",
   "version": "2.7.6"
  }
 },
 "nbformat": 4,
 "nbformat_minor": 0
}