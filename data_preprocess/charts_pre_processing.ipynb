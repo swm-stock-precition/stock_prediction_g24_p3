{
 "cells": [
  {
   "cell_type": "code",
   "execution_count": 12,
   "metadata": {
    "collapsed": true
   },
   "outputs": [],
   "source": [
    "import pandas as pd\n",
    "import os\n",
    "import pickle\n",
    "from datetime import datetime\n",
    "from datetime import timezone"
   ]
  },
  {
   "cell_type": "code",
   "execution_count": 14,
   "outputs": [],
   "source": [
    "import json\n",
    "\n",
    "config = json.load(open(\"../configure.json\"))\n",
    "start_date = datetime.fromisoformat(config['start_time']).astimezone(tz=timezone.utc).replace(tzinfo=None).timestamp()\n",
    "end_date = datetime.fromisoformat(config['end_time']).astimezone(tz=timezone.utc).replace(tzinfo=None).timestamp()"
   ],
   "metadata": {
    "collapsed": false,
    "pycharm": {
     "name": "#%%\n"
    }
   }
  },
  {
   "cell_type": "code",
   "execution_count": 5,
   "outputs": [],
   "source": [
    "charts = os.listdir('data/CHARTS')\n",
    "length_of_time_windows = [5, 15, 30, 60, 240, 1440]\n",
    "preferred_time = 240"
   ],
   "metadata": {
    "collapsed": false,
    "pycharm": {
     "name": "#%%\n"
    }
   }
  },
  {
   "cell_type": "code",
   "execution_count": 6,
   "outputs": [],
   "source": [
    "apple_stock_chart = pd.DataFrame()\n",
    "amazon_trends = []\n",
    "amazon_timestamps = []\n",
    "amazon_time_frames = []\n",
    "apple_trends = []\n",
    "apple_timestamps = []\n",
    "apple_time_frames = []\n",
    "if 'AMAZON' + str(preferred_time) + \".csv\" in charts:\n",
    "    headers = [\"date\", \"time\", \"open\", \"high\", \"low\", \"close\", \"volume\"]\n",
    "    amazon_stock_chart = pd.read_csv('data/CHARTS/' + 'AMAZON' + str(preferred_time) + \".csv\", names=headers)\n",
    "    amazon_trends = amazon_stock_chart.apply(lambda row: 1 if row[\"close\"] > row[\"open\"] else -1, axis=1)\n",
    "    amazon_timestamps = amazon_stock_chart.apply(\n",
    "        lambda row: datetime.fromisoformat(row[\"date\"].replace(\".\", \"-\") + \" \" + row[\"time\"]).timestamp(), axis=1)\n",
    "if 'APPLE' + str(preferred_time) + \".csv\" in charts:\n",
    "    headers = [\"date\", \"time\", \"open\", \"high\", \"low\", \"close\", \"volume\"]\n",
    "    apple_stock_chart = pd.read_csv('data/CHARTS/' + 'APPLE' + str(preferred_time) + \".csv\", names=headers)\n",
    "    apple_trends = apple_stock_chart.apply(lambda row: 1 if row[\"close\"] > row[\"open\"] else -1, axis=1)\n",
    "    apple_timestamps = apple_stock_chart.apply(\n",
    "        lambda row: datetime.fromisoformat(row[\"date\"].replace(\".\", \"-\") + \" \" + row[\"time\"]).timestamp(), axis=1)\n",
    "\n",
    "amazon_stock_prices = pd.DataFrame({\n",
    "    \"time\": amazon_timestamps,\n",
    "    \"trends\": amazon_trends\n",
    "})\n",
    "apple_stock_prices = pd.DataFrame({\n",
    "    \"time\": apple_timestamps,\n",
    "    \"trends\": apple_trends\n",
    "})\n",
    "apple_stock_prices.drop(apple_stock_prices[(apple_stock_prices['timestamp'] < start_date) | (\n",
    "        apple_stock_prices['timestamp'] > end_date)].index,\n",
    "                        inplace=True)\n",
    "amazon_stock_prices.drop(amazon_stock_prices[(amazon_stock_prices['timestamp'] < start_date) | (\n",
    "        amazon_stock_prices['timestamp'] > end_date)].index,\n",
    "                         inplace=True)\n",
    "apple_stock_prices.sort_values('timestamp', ascending=True, inplace=True)\n",
    "amazon_stock_prices.sort_values('timestamp', ascending=True, inplace=True)"
   ],
   "metadata": {
    "collapsed": false,
    "pycharm": {
     "name": "#%%\n"
    }
   }
  },
  {
   "cell_type": "code",
   "execution_count": 7,
   "outputs": [
    {
     "data": {
      "text/plain": "         timestamp  trends\n1506  1.514925e+09       1\n1507  1.514939e+09      -1\n1508  1.514954e+09       1\n1509  1.515011e+09       1\n1510  1.515026e+09       1\n...            ...     ...\n2261  1.548967e+09       1\n2262  1.548981e+09      -1\n2263  1.548995e+09       1\n2264  1.549053e+09       1\n2265  1.549067e+09      -1\n\n[760 rows x 2 columns]",
      "text/html": "<div>\n<style scoped>\n    .dataframe tbody tr th:only-of-type {\n        vertical-align: middle;\n    }\n\n    .dataframe tbody tr th {\n        vertical-align: top;\n    }\n\n    .dataframe thead th {\n        text-align: right;\n    }\n</style>\n<table border=\"1\" class=\"dataframe\">\n  <thead>\n    <tr style=\"text-align: right;\">\n      <th></th>\n      <th>timestamp</th>\n      <th>trends</th>\n    </tr>\n  </thead>\n  <tbody>\n    <tr>\n      <th>1506</th>\n      <td>1.514925e+09</td>\n      <td>1</td>\n    </tr>\n    <tr>\n      <th>1507</th>\n      <td>1.514939e+09</td>\n      <td>-1</td>\n    </tr>\n    <tr>\n      <th>1508</th>\n      <td>1.514954e+09</td>\n      <td>1</td>\n    </tr>\n    <tr>\n      <th>1509</th>\n      <td>1.515011e+09</td>\n      <td>1</td>\n    </tr>\n    <tr>\n      <th>1510</th>\n      <td>1.515026e+09</td>\n      <td>1</td>\n    </tr>\n    <tr>\n      <th>...</th>\n      <td>...</td>\n      <td>...</td>\n    </tr>\n    <tr>\n      <th>2261</th>\n      <td>1.548967e+09</td>\n      <td>1</td>\n    </tr>\n    <tr>\n      <th>2262</th>\n      <td>1.548981e+09</td>\n      <td>-1</td>\n    </tr>\n    <tr>\n      <th>2263</th>\n      <td>1.548995e+09</td>\n      <td>1</td>\n    </tr>\n    <tr>\n      <th>2264</th>\n      <td>1.549053e+09</td>\n      <td>1</td>\n    </tr>\n    <tr>\n      <th>2265</th>\n      <td>1.549067e+09</td>\n      <td>-1</td>\n    </tr>\n  </tbody>\n</table>\n<p>760 rows × 2 columns</p>\n</div>"
     },
     "execution_count": 7,
     "metadata": {},
     "output_type": "execute_result"
    }
   ],
   "source": [
    "amazon_stock_prices\n",
    "\n",
    "#%"
   ],
   "metadata": {
    "collapsed": false,
    "pycharm": {
     "name": "#%%\n"
    }
   }
  },
  {
   "cell_type": "code",
   "execution_count": 8,
   "outputs": [
    {
     "data": {
      "text/plain": "         timestamp  trends\n2486  1.514925e+09       1\n2487  1.514939e+09       1\n2488  1.514954e+09      -1\n2489  1.515011e+09       1\n2490  1.515026e+09      -1\n...            ...     ...\n3241  1.548967e+09       1\n3242  1.548981e+09      -1\n3243  1.548995e+09       1\n3244  1.549053e+09       1\n3245  1.549067e+09      -1\n\n[760 rows x 2 columns]",
      "text/html": "<div>\n<style scoped>\n    .dataframe tbody tr th:only-of-type {\n        vertical-align: middle;\n    }\n\n    .dataframe tbody tr th {\n        vertical-align: top;\n    }\n\n    .dataframe thead th {\n        text-align: right;\n    }\n</style>\n<table border=\"1\" class=\"dataframe\">\n  <thead>\n    <tr style=\"text-align: right;\">\n      <th></th>\n      <th>timestamp</th>\n      <th>trends</th>\n    </tr>\n  </thead>\n  <tbody>\n    <tr>\n      <th>2486</th>\n      <td>1.514925e+09</td>\n      <td>1</td>\n    </tr>\n    <tr>\n      <th>2487</th>\n      <td>1.514939e+09</td>\n      <td>1</td>\n    </tr>\n    <tr>\n      <th>2488</th>\n      <td>1.514954e+09</td>\n      <td>-1</td>\n    </tr>\n    <tr>\n      <th>2489</th>\n      <td>1.515011e+09</td>\n      <td>1</td>\n    </tr>\n    <tr>\n      <th>2490</th>\n      <td>1.515026e+09</td>\n      <td>-1</td>\n    </tr>\n    <tr>\n      <th>...</th>\n      <td>...</td>\n      <td>...</td>\n    </tr>\n    <tr>\n      <th>3241</th>\n      <td>1.548967e+09</td>\n      <td>1</td>\n    </tr>\n    <tr>\n      <th>3242</th>\n      <td>1.548981e+09</td>\n      <td>-1</td>\n    </tr>\n    <tr>\n      <th>3243</th>\n      <td>1.548995e+09</td>\n      <td>1</td>\n    </tr>\n    <tr>\n      <th>3244</th>\n      <td>1.549053e+09</td>\n      <td>1</td>\n    </tr>\n    <tr>\n      <th>3245</th>\n      <td>1.549067e+09</td>\n      <td>-1</td>\n    </tr>\n  </tbody>\n</table>\n<p>760 rows × 2 columns</p>\n</div>"
     },
     "execution_count": 8,
     "metadata": {},
     "output_type": "execute_result"
    }
   ],
   "source": [
    "apple_stock_prices"
   ],
   "metadata": {
    "collapsed": false,
    "pycharm": {
     "name": "#%%\n"
    }
   }
  },
  {
   "cell_type": "code",
   "execution_count": 9,
   "outputs": [
    {
     "name": "stdout",
     "output_type": "stream",
     "text": [
      "done\n",
      "done\n"
     ]
    }
   ],
   "source": [
    "with open('pkls/amazon_stock_chart.pkl', 'wb') as f:\n",
    "    pickle.dump(apple_stock_prices, f)\n",
    "    print(\"done\")\n",
    "with open('pkls/apple_stock_chart.pkl', 'wb') as f:\n",
    "    pickle.dump(apple_stock_prices, f)\n",
    "    print(\"done\")"
   ],
   "metadata": {
    "collapsed": false,
    "pycharm": {
     "name": "#%%\n"
    }
   }
  }
 ],
 "metadata": {
  "kernelspec": {
   "name": "pycharm-9e7c138f",
   "language": "python",
   "display_name": "PyCharm (Stock_prediction_G24_P3)"
  },
  "language_info": {
   "codemirror_mode": {
    "name": "ipython",
    "version": 2
   },
   "file_extension": ".py",
   "mimetype": "text/x-python",
   "name": "python",
   "nbconvert_exporter": "python",
   "pygments_lexer": "ipython2",
   "version": "2.7.6"
  }
 },
 "nbformat": 4,
 "nbformat_minor": 0
}