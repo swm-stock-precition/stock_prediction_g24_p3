{
 "cells": [
  {
   "cell_type": "code",
   "execution_count": 40,
   "metadata": {
    "collapsed": true
   },
   "outputs": [],
   "source": [
    "import pandas as pd\n",
    "import os\n",
    "import pickle\n",
    "from datetime import datetime\n",
    "from datetime import timezone"
   ]
  },
  {
   "cell_type": "code",
   "execution_count": 41,
   "outputs": [],
   "source": [
    "start_date = datetime.fromisoformat(\"2018-01-01 00:00\").astimezone(tz=timezone.utc).replace(tzinfo=None).timestamp()\n",
    "end_date = datetime.fromisoformat(\"2018-12-31 23:59\").astimezone(tz=timezone.utc).replace(tzinfo=None).timestamp()"
   ],
   "metadata": {
    "collapsed": false,
    "pycharm": {
     "name": "#%%\n"
    }
   }
  },
  {
   "cell_type": "code",
   "execution_count": 42,
   "outputs": [],
   "source": [
    "charts = os.listdir('data/CHARTS')\n",
    "length_of_time_windows = [5, 15, 30, 60, 240, 1440]\n",
    "preferred_time = 1440"
   ],
   "metadata": {
    "collapsed": false,
    "pycharm": {
     "name": "#%%\n"
    }
   }
  },
  {
   "cell_type": "code",
   "execution_count": 43,
   "outputs": [],
   "source": [
    "apple_stock_chart = pd.DataFrame()\n",
    "amazon_trends=[]\n",
    "amazon_timestamps=[]\n",
    "apple_trends=[]\n",
    "apple_timestamps=[]\n",
    "if 'AMAZON' + str(preferred_time) + \".csv\" in charts:\n",
    "    headers = [\"date\", \"time\", \"open\", \"high\", \"low\", \"close\", \"volume\"]\n",
    "    amazon_stock_chart = pd.read_csv('data/CHARTS/' + 'AMAZON' + str(preferred_time) + \".csv\", names=headers)\n",
    "    amazon_trends = amazon_stock_chart.apply(lambda row: 1 if row[\"close\"] > row[\"open\"] else 0, axis=1)\n",
    "    amazon_timestamps = amazon_stock_chart.apply(\n",
    "        lambda row: datetime.fromisoformat(row[\"date\"].replace(\".\", \"-\") + \" \" + row[\"time\"]).timestamp(), axis=1)\n",
    "if 'APPLE' + str(preferred_time) + \".csv\" in charts:\n",
    "    headers = [\"date\", \"time\", \"open\", \"high\", \"low\", \"close\", \"volume\"]\n",
    "    apple_stock_chart = pd.read_csv('data/CHARTS/' + 'APPLE' + str(preferred_time) + \".csv\", names=headers)\n",
    "    apple_trends = apple_stock_chart.apply(lambda row: 1 if row[\"close\"] > row[\"open\"] else 0, axis=1)\n",
    "    apple_timestamps = apple_stock_chart.apply(\n",
    "        lambda row: datetime.fromisoformat(row[\"date\"].replace(\".\", \"-\") + \" \" + row[\"time\"]).timestamp(), axis=1)\n",
    "\n",
    "amazon_stock_prices=pd.DataFrame({\n",
    "    \"timestamp\":amazon_timestamps,\n",
    "    \"trends\":amazon_trends\n",
    "})\n",
    "apple_stock_prices=pd.DataFrame({\n",
    "    \"timestamp\":apple_timestamps,\n",
    "    \"trends\":apple_trends\n",
    "})\n",
    "apple_stock_prices.drop(apple_stock_prices[(apple_stock_prices['timestamp'] < start_date) | (apple_stock_prices['timestamp'] > end_date)].index,\n",
    "              inplace=True)\n",
    "amazon_stock_prices.drop(amazon_stock_prices[(amazon_stock_prices['timestamp'] < start_date) | (amazon_stock_prices['timestamp'] > end_date)].index,\n",
    "              inplace=True)\n",
    "apple_stock_prices.sort_values('timestamp', ascending=True, inplace=True)\n",
    "amazon_stock_prices.sort_values('timestamp', ascending=True, inplace=True)"
   ],
   "metadata": {
    "collapsed": false,
    "pycharm": {
     "name": "#%%\n"
    }
   }
  },
  {
   "cell_type": "code",
   "execution_count": 44,
   "outputs": [
    {
     "data": {
      "text/plain": "         timestamp  trends\n821   1.514876e+09       1\n822   1.514963e+09       1\n823   1.515049e+09       1\n824   1.515136e+09       1\n825   1.515395e+09       1\n...            ...     ...\n1067  1.545635e+09       0\n1068  1.545808e+09       1\n1069  1.545894e+09       1\n1070  1.545980e+09       1\n1071  1.546240e+09       0\n\n[251 rows x 2 columns]",
      "text/html": "<div>\n<style scoped>\n    .dataframe tbody tr th:only-of-type {\n        vertical-align: middle;\n    }\n\n    .dataframe tbody tr th {\n        vertical-align: top;\n    }\n\n    .dataframe thead th {\n        text-align: right;\n    }\n</style>\n<table border=\"1\" class=\"dataframe\">\n  <thead>\n    <tr style=\"text-align: right;\">\n      <th></th>\n      <th>timestamp</th>\n      <th>trends</th>\n    </tr>\n  </thead>\n  <tbody>\n    <tr>\n      <th>821</th>\n      <td>1.514876e+09</td>\n      <td>1</td>\n    </tr>\n    <tr>\n      <th>822</th>\n      <td>1.514963e+09</td>\n      <td>1</td>\n    </tr>\n    <tr>\n      <th>823</th>\n      <td>1.515049e+09</td>\n      <td>1</td>\n    </tr>\n    <tr>\n      <th>824</th>\n      <td>1.515136e+09</td>\n      <td>1</td>\n    </tr>\n    <tr>\n      <th>825</th>\n      <td>1.515395e+09</td>\n      <td>1</td>\n    </tr>\n    <tr>\n      <th>...</th>\n      <td>...</td>\n      <td>...</td>\n    </tr>\n    <tr>\n      <th>1067</th>\n      <td>1.545635e+09</td>\n      <td>0</td>\n    </tr>\n    <tr>\n      <th>1068</th>\n      <td>1.545808e+09</td>\n      <td>1</td>\n    </tr>\n    <tr>\n      <th>1069</th>\n      <td>1.545894e+09</td>\n      <td>1</td>\n    </tr>\n    <tr>\n      <th>1070</th>\n      <td>1.545980e+09</td>\n      <td>1</td>\n    </tr>\n    <tr>\n      <th>1071</th>\n      <td>1.546240e+09</td>\n      <td>0</td>\n    </tr>\n  </tbody>\n</table>\n<p>251 rows × 2 columns</p>\n</div>"
     },
     "execution_count": 44,
     "metadata": {},
     "output_type": "execute_result"
    }
   ],
   "source": [
    "amazon_stock_prices\n",
    "\n",
    "#%"
   ],
   "metadata": {
    "collapsed": false,
    "pycharm": {
     "name": "#%%\n"
    }
   }
  },
  {
   "cell_type": "code",
   "execution_count": 45,
   "outputs": [
    {
     "data": {
      "text/plain": "         timestamp  trends\n870   1.514876e+09       1\n871   1.514963e+09       0\n872   1.515049e+09       1\n873   1.515136e+09       1\n874   1.515395e+09       0\n...            ...     ...\n1116  1.545635e+09       0\n1117  1.545808e+09       1\n1118  1.545894e+09       1\n1119  1.545980e+09       0\n1120  1.546240e+09       1\n\n[251 rows x 2 columns]",
      "text/html": "<div>\n<style scoped>\n    .dataframe tbody tr th:only-of-type {\n        vertical-align: middle;\n    }\n\n    .dataframe tbody tr th {\n        vertical-align: top;\n    }\n\n    .dataframe thead th {\n        text-align: right;\n    }\n</style>\n<table border=\"1\" class=\"dataframe\">\n  <thead>\n    <tr style=\"text-align: right;\">\n      <th></th>\n      <th>timestamp</th>\n      <th>trends</th>\n    </tr>\n  </thead>\n  <tbody>\n    <tr>\n      <th>870</th>\n      <td>1.514876e+09</td>\n      <td>1</td>\n    </tr>\n    <tr>\n      <th>871</th>\n      <td>1.514963e+09</td>\n      <td>0</td>\n    </tr>\n    <tr>\n      <th>872</th>\n      <td>1.515049e+09</td>\n      <td>1</td>\n    </tr>\n    <tr>\n      <th>873</th>\n      <td>1.515136e+09</td>\n      <td>1</td>\n    </tr>\n    <tr>\n      <th>874</th>\n      <td>1.515395e+09</td>\n      <td>0</td>\n    </tr>\n    <tr>\n      <th>...</th>\n      <td>...</td>\n      <td>...</td>\n    </tr>\n    <tr>\n      <th>1116</th>\n      <td>1.545635e+09</td>\n      <td>0</td>\n    </tr>\n    <tr>\n      <th>1117</th>\n      <td>1.545808e+09</td>\n      <td>1</td>\n    </tr>\n    <tr>\n      <th>1118</th>\n      <td>1.545894e+09</td>\n      <td>1</td>\n    </tr>\n    <tr>\n      <th>1119</th>\n      <td>1.545980e+09</td>\n      <td>0</td>\n    </tr>\n    <tr>\n      <th>1120</th>\n      <td>1.546240e+09</td>\n      <td>1</td>\n    </tr>\n  </tbody>\n</table>\n<p>251 rows × 2 columns</p>\n</div>"
     },
     "execution_count": 45,
     "metadata": {},
     "output_type": "execute_result"
    }
   ],
   "source": [
    "apple_stock_prices"
   ],
   "metadata": {
    "collapsed": false,
    "pycharm": {
     "name": "#%%\n"
    }
   }
  },
  {
   "cell_type": "code",
   "execution_count": 46,
   "outputs": [
    {
     "name": "stdout",
     "output_type": "stream",
     "text": [
      "done\n",
      "done\n"
     ]
    }
   ],
   "source": [
    "with open('pkls/amazon_stock_chart.pkl', 'wb') as f:\n",
    "    pickle.dump(apple_stock_prices, f)\n",
    "    print(\"done\")\n",
    "with open('pkls/apple_stock_chart.pkl', 'wb') as f:\n",
    "    pickle.dump(apple_stock_prices, f)\n",
    "    print(\"done\")"
   ],
   "metadata": {
    "collapsed": false,
    "pycharm": {
     "name": "#%%\n"
    }
   }
  }
 ],
 "metadata": {
  "kernelspec": {
   "name": "pycharm-9e7c138f",
   "language": "python",
   "display_name": "PyCharm (Stock_prediction_G24_P3)"
  },
  "language_info": {
   "codemirror_mode": {
    "name": "ipython",
    "version": 2
   },
   "file_extension": ".py",
   "mimetype": "text/x-python",
   "name": "python",
   "nbconvert_exporter": "python",
   "pygments_lexer": "ipython2",
   "version": "2.7.6"
  }
 },
 "nbformat": 4,
 "nbformat_minor": 0
}